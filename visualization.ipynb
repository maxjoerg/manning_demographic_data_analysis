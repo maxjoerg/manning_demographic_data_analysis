{
 "cells": [
  {
   "cell_type": "code",
   "execution_count": 60,
   "metadata": {},
   "outputs": [
    {
     "data": {
      "text/plain": [
       "['education_clean.csv',\n",
       " 'life_expectancy_clean.csv',\n",
       " 'crime_clean.csv',\n",
       " 'area_clean.csv',\n",
       " 'income_clean.csv',\n",
       " 'region_clean.csv']"
      ]
     },
     "execution_count": 60,
     "metadata": {},
     "output_type": "execute_result"
    }
   ],
   "source": [
    "import pandas as pd\n",
    "import matplotlib.pyplot as plt\n",
    "import warnings\n",
    "warnings.filterwarnings('ignore')\n",
    "\n",
    "file_names = [\"education_clean.csv\", \"life_expectancy_clean.csv\", \"crime_clean.csv\", \"area_clean.csv\", \"income_clean.csv\", \"region_clean.csv\"]\n",
    "file_names"
   ]
  },
  {
   "cell_type": "code",
   "execution_count": 2,
   "metadata": {},
   "outputs": [
    {
     "data": {
      "text/html": [
       "<div>\n",
       "<style scoped>\n",
       "    .dataframe tbody tr th:only-of-type {\n",
       "        vertical-align: middle;\n",
       "    }\n",
       "\n",
       "    .dataframe tbody tr th {\n",
       "        vertical-align: top;\n",
       "    }\n",
       "\n",
       "    .dataframe thead th {\n",
       "        text-align: right;\n",
       "    }\n",
       "</style>\n",
       "<table border=\"1\" class=\"dataframe\">\n",
       "  <thead>\n",
       "    <tr style=\"text-align: right;\">\n",
       "      <th></th>\n",
       "      <th>High_School_graduate_or_higher_pct</th>\n",
       "      <th>Bachelor_degree_or_higher_pct</th>\n",
       "      <th>Advanced_degree_pct</th>\n",
       "    </tr>\n",
       "    <tr>\n",
       "      <th>State</th>\n",
       "      <th></th>\n",
       "      <th></th>\n",
       "      <th></th>\n",
       "    </tr>\n",
       "  </thead>\n",
       "  <tbody>\n",
       "    <tr>\n",
       "      <th>Montana</th>\n",
       "      <td>93.0</td>\n",
       "      <td>30.7</td>\n",
       "      <td>10.1</td>\n",
       "    </tr>\n",
       "    <tr>\n",
       "      <th>New_Hampshire</th>\n",
       "      <td>92.8</td>\n",
       "      <td>36.0</td>\n",
       "      <td>13.8</td>\n",
       "    </tr>\n",
       "    <tr>\n",
       "      <th>Minnesota</th>\n",
       "      <td>92.8</td>\n",
       "      <td>34.8</td>\n",
       "      <td>11.8</td>\n",
       "    </tr>\n",
       "    <tr>\n",
       "      <th>Wyoming</th>\n",
       "      <td>92.8</td>\n",
       "      <td>26.7</td>\n",
       "      <td>9.3</td>\n",
       "    </tr>\n",
       "    <tr>\n",
       "      <th>Alaska</th>\n",
       "      <td>92.4</td>\n",
       "      <td>29.0</td>\n",
       "      <td>10.4</td>\n",
       "    </tr>\n",
       "  </tbody>\n",
       "</table>\n",
       "</div>"
      ],
      "text/plain": [
       "               High_School_graduate_or_higher_pct  \\\n",
       "State                                               \n",
       "Montana                                      93.0   \n",
       "New_Hampshire                                92.8   \n",
       "Minnesota                                    92.8   \n",
       "Wyoming                                      92.8   \n",
       "Alaska                                       92.4   \n",
       "\n",
       "               Bachelor_degree_or_higher_pct  Advanced_degree_pct  \n",
       "State                                                              \n",
       "Montana                                 30.7                 10.1  \n",
       "New_Hampshire                           36.0                 13.8  \n",
       "Minnesota                               34.8                 11.8  \n",
       "Wyoming                                 26.7                  9.3  \n",
       "Alaska                                  29.0                 10.4  "
      ]
     },
     "execution_count": 2,
     "metadata": {},
     "output_type": "execute_result"
    }
   ],
   "source": [
    "path = \"./data/\"\n",
    "education = pd.read_csv(path + file_names[0], delimiter=',', index_col = 'State')\n",
    "education.head(5)"
   ]
  },
  {
   "cell_type": "code",
   "execution_count": 3,
   "metadata": {},
   "outputs": [
    {
     "data": {
      "text/html": [
       "<div>\n",
       "<style scoped>\n",
       "    .dataframe tbody tr th:only-of-type {\n",
       "        vertical-align: middle;\n",
       "    }\n",
       "\n",
       "    .dataframe tbody tr th {\n",
       "        vertical-align: top;\n",
       "    }\n",
       "\n",
       "    .dataframe thead th {\n",
       "        text-align: right;\n",
       "    }\n",
       "</style>\n",
       "<table border=\"1\" class=\"dataframe\">\n",
       "  <thead>\n",
       "    <tr style=\"text-align: right;\">\n",
       "      <th></th>\n",
       "      <th>LifeExp2018</th>\n",
       "      <th>LifeExp2010</th>\n",
       "      <th>MaleLifeExp</th>\n",
       "      <th>FemLifeExp</th>\n",
       "    </tr>\n",
       "    <tr>\n",
       "      <th>State</th>\n",
       "      <th></th>\n",
       "      <th></th>\n",
       "      <th></th>\n",
       "      <th></th>\n",
       "    </tr>\n",
       "  </thead>\n",
       "  <tbody>\n",
       "    <tr>\n",
       "      <th>Hawaii</th>\n",
       "      <td>82.3</td>\n",
       "      <td>81.4</td>\n",
       "      <td>79.3</td>\n",
       "      <td>85.3</td>\n",
       "    </tr>\n",
       "    <tr>\n",
       "      <th>California</th>\n",
       "      <td>81.6</td>\n",
       "      <td>80.6</td>\n",
       "      <td>79.4</td>\n",
       "      <td>83.8</td>\n",
       "    </tr>\n",
       "    <tr>\n",
       "      <th>Puerto_Rico</th>\n",
       "      <td>81.3</td>\n",
       "      <td>78.7</td>\n",
       "      <td>77.6</td>\n",
       "      <td>84.7</td>\n",
       "    </tr>\n",
       "    <tr>\n",
       "      <th>New_York</th>\n",
       "      <td>81.3</td>\n",
       "      <td>80.3</td>\n",
       "      <td>79.0</td>\n",
       "      <td>83.4</td>\n",
       "    </tr>\n",
       "    <tr>\n",
       "      <th>U.S._Virgin_Islands</th>\n",
       "      <td>81.2</td>\n",
       "      <td>79.2</td>\n",
       "      <td>76.3</td>\n",
       "      <td>85.6</td>\n",
       "    </tr>\n",
       "  </tbody>\n",
       "</table>\n",
       "</div>"
      ],
      "text/plain": [
       "                     LifeExp2018  LifeExp2010  MaleLifeExp  FemLifeExp\n",
       "State                                                                 \n",
       "Hawaii                      82.3         81.4         79.3        85.3\n",
       "California                  81.6         80.6         79.4        83.8\n",
       "Puerto_Rico                 81.3         78.7         77.6        84.7\n",
       "New_York                    81.3         80.3         79.0        83.4\n",
       "U.S._Virgin_Islands         81.2         79.2         76.3        85.6"
      ]
     },
     "execution_count": 3,
     "metadata": {},
     "output_type": "execute_result"
    }
   ],
   "source": [
    "life_expectancy = pd.read_csv(path + file_names[1], delimiter=',', index_col = 'State')\n",
    "life_expectancy.head(5)"
   ]
  },
  {
   "cell_type": "code",
   "execution_count": 4,
   "metadata": {},
   "outputs": [
    {
     "data": {
      "text/html": [
       "<div>\n",
       "<style scoped>\n",
       "    .dataframe tbody tr th:only-of-type {\n",
       "        vertical-align: middle;\n",
       "    }\n",
       "\n",
       "    .dataframe tbody tr th {\n",
       "        vertical-align: top;\n",
       "    }\n",
       "\n",
       "    .dataframe thead th {\n",
       "        text-align: right;\n",
       "    }\n",
       "</style>\n",
       "<table border=\"1\" class=\"dataframe\">\n",
       "  <thead>\n",
       "    <tr style=\"text-align: right;\">\n",
       "      <th></th>\n",
       "      <th>Population_2015</th>\n",
       "      <th>Murders_manslaughter_2015</th>\n",
       "      <th>Murders_2015</th>\n",
       "      <th>Gun_Murders_2015</th>\n",
       "      <th>Gun_Ownership_2013</th>\n",
       "      <th>Murder_Manslaughter_Rate_per_100000_2015</th>\n",
       "      <th>Murder_Rate_per_100000_2015</th>\n",
       "      <th>Gun_Murder_Rate_per_100000_2015</th>\n",
       "    </tr>\n",
       "    <tr>\n",
       "      <th>State</th>\n",
       "      <th></th>\n",
       "      <th></th>\n",
       "      <th></th>\n",
       "      <th></th>\n",
       "      <th></th>\n",
       "      <th></th>\n",
       "      <th></th>\n",
       "      <th></th>\n",
       "    </tr>\n",
       "  </thead>\n",
       "  <tbody>\n",
       "    <tr>\n",
       "      <th>Alabama</th>\n",
       "      <td>4853875</td>\n",
       "      <td>348</td>\n",
       "      <td>NaN</td>\n",
       "      <td>NaN</td>\n",
       "      <td>48.9</td>\n",
       "      <td>7.2</td>\n",
       "      <td>NaN</td>\n",
       "      <td>NaN</td>\n",
       "    </tr>\n",
       "    <tr>\n",
       "      <th>Alaska</th>\n",
       "      <td>737709</td>\n",
       "      <td>59</td>\n",
       "      <td>57.0</td>\n",
       "      <td>39.0</td>\n",
       "      <td>61.7</td>\n",
       "      <td>8.0</td>\n",
       "      <td>7.7</td>\n",
       "      <td>5.3</td>\n",
       "    </tr>\n",
       "    <tr>\n",
       "      <th>Arizona</th>\n",
       "      <td>6817565</td>\n",
       "      <td>306</td>\n",
       "      <td>278.0</td>\n",
       "      <td>171.0</td>\n",
       "      <td>32.3</td>\n",
       "      <td>4.5</td>\n",
       "      <td>4.1</td>\n",
       "      <td>2.5</td>\n",
       "    </tr>\n",
       "    <tr>\n",
       "      <th>Arkansas</th>\n",
       "      <td>2977853</td>\n",
       "      <td>181</td>\n",
       "      <td>164.0</td>\n",
       "      <td>110.0</td>\n",
       "      <td>57.9</td>\n",
       "      <td>6.1</td>\n",
       "      <td>5.5</td>\n",
       "      <td>3.7</td>\n",
       "    </tr>\n",
       "    <tr>\n",
       "      <th>California</th>\n",
       "      <td>38993940</td>\n",
       "      <td>1861</td>\n",
       "      <td>1861.0</td>\n",
       "      <td>1275.0</td>\n",
       "      <td>20.1</td>\n",
       "      <td>4.8</td>\n",
       "      <td>4.8</td>\n",
       "      <td>3.3</td>\n",
       "    </tr>\n",
       "  </tbody>\n",
       "</table>\n",
       "</div>"
      ],
      "text/plain": [
       "            Population_2015  Murders_manslaughter_2015  Murders_2015  \\\n",
       "State                                                                  \n",
       "Alabama             4853875                        348           NaN   \n",
       "Alaska               737709                         59          57.0   \n",
       "Arizona             6817565                        306         278.0   \n",
       "Arkansas            2977853                        181         164.0   \n",
       "California         38993940                       1861        1861.0   \n",
       "\n",
       "            Gun_Murders_2015  Gun_Ownership_2013  \\\n",
       "State                                              \n",
       "Alabama                  NaN                48.9   \n",
       "Alaska                  39.0                61.7   \n",
       "Arizona                171.0                32.3   \n",
       "Arkansas               110.0                57.9   \n",
       "California            1275.0                20.1   \n",
       "\n",
       "            Murder_Manslaughter_Rate_per_100000_2015  \\\n",
       "State                                                  \n",
       "Alabama                                          7.2   \n",
       "Alaska                                           8.0   \n",
       "Arizona                                          4.5   \n",
       "Arkansas                                         6.1   \n",
       "California                                       4.8   \n",
       "\n",
       "            Murder_Rate_per_100000_2015  Gun_Murder_Rate_per_100000_2015  \n",
       "State                                                                     \n",
       "Alabama                             NaN                              NaN  \n",
       "Alaska                              7.7                              5.3  \n",
       "Arizona                             4.1                              2.5  \n",
       "Arkansas                            5.5                              3.7  \n",
       "California                          4.8                              3.3  "
      ]
     },
     "execution_count": 4,
     "metadata": {},
     "output_type": "execute_result"
    }
   ],
   "source": [
    "crime = pd.read_csv(path + file_names[2], delimiter=',', index_col = 'State')\n",
    "crime.head(5)"
   ]
  },
  {
   "cell_type": "code",
   "execution_count": 5,
   "metadata": {},
   "outputs": [
    {
     "data": {
      "text/html": [
       "<div>\n",
       "<style scoped>\n",
       "    .dataframe tbody tr th:only-of-type {\n",
       "        vertical-align: middle;\n",
       "    }\n",
       "\n",
       "    .dataframe tbody tr th {\n",
       "        vertical-align: top;\n",
       "    }\n",
       "\n",
       "    .dataframe thead th {\n",
       "        text-align: right;\n",
       "    }\n",
       "</style>\n",
       "<table border=\"1\" class=\"dataframe\">\n",
       "  <thead>\n",
       "    <tr style=\"text-align: right;\">\n",
       "      <th></th>\n",
       "      <th>TotalSqMi</th>\n",
       "      <th>TotalKmQ</th>\n",
       "      <th>LandSqMi</th>\n",
       "      <th>LandKmQ</th>\n",
       "      <th>LandPer</th>\n",
       "      <th>WaterSqMi</th>\n",
       "      <th>WaterKmQ</th>\n",
       "      <th>WaterPer</th>\n",
       "    </tr>\n",
       "    <tr>\n",
       "      <th>State</th>\n",
       "      <th></th>\n",
       "      <th></th>\n",
       "      <th></th>\n",
       "      <th></th>\n",
       "      <th></th>\n",
       "      <th></th>\n",
       "      <th></th>\n",
       "      <th></th>\n",
       "    </tr>\n",
       "  </thead>\n",
       "  <tbody>\n",
       "    <tr>\n",
       "      <th>Alaska</th>\n",
       "      <td>665384.04</td>\n",
       "      <td>1723337</td>\n",
       "      <td>570640.95</td>\n",
       "      <td>1477953</td>\n",
       "      <td>85.76</td>\n",
       "      <td>94743.10</td>\n",
       "      <td>245384</td>\n",
       "      <td>14.24</td>\n",
       "    </tr>\n",
       "    <tr>\n",
       "      <th>Texas</th>\n",
       "      <td>268596.46</td>\n",
       "      <td>695662</td>\n",
       "      <td>261231.71</td>\n",
       "      <td>676587</td>\n",
       "      <td>97.26</td>\n",
       "      <td>7364.75</td>\n",
       "      <td>19075</td>\n",
       "      <td>2.74</td>\n",
       "    </tr>\n",
       "    <tr>\n",
       "      <th>California</th>\n",
       "      <td>163694.74</td>\n",
       "      <td>423967</td>\n",
       "      <td>155779.22</td>\n",
       "      <td>403466</td>\n",
       "      <td>95.16</td>\n",
       "      <td>7915.52</td>\n",
       "      <td>20501</td>\n",
       "      <td>4.84</td>\n",
       "    </tr>\n",
       "    <tr>\n",
       "      <th>Montana</th>\n",
       "      <td>147039.71</td>\n",
       "      <td>380831</td>\n",
       "      <td>145545.80</td>\n",
       "      <td>376962</td>\n",
       "      <td>98.98</td>\n",
       "      <td>1493.91</td>\n",
       "      <td>3869</td>\n",
       "      <td>1.02</td>\n",
       "    </tr>\n",
       "    <tr>\n",
       "      <th>New_Mexico</th>\n",
       "      <td>121590.30</td>\n",
       "      <td>314917</td>\n",
       "      <td>121298.15</td>\n",
       "      <td>314161</td>\n",
       "      <td>99.76</td>\n",
       "      <td>292.15</td>\n",
       "      <td>757</td>\n",
       "      <td>0.24</td>\n",
       "    </tr>\n",
       "  </tbody>\n",
       "</table>\n",
       "</div>"
      ],
      "text/plain": [
       "            TotalSqMi  TotalKmQ   LandSqMi  LandKmQ  LandPer  WaterSqMi  \\\n",
       "State                                                                     \n",
       "Alaska      665384.04   1723337  570640.95  1477953    85.76   94743.10   \n",
       "Texas       268596.46    695662  261231.71   676587    97.26    7364.75   \n",
       "California  163694.74    423967  155779.22   403466    95.16    7915.52   \n",
       "Montana     147039.71    380831  145545.80   376962    98.98    1493.91   \n",
       "New_Mexico  121590.30    314917  121298.15   314161    99.76     292.15   \n",
       "\n",
       "            WaterKmQ  WaterPer  \n",
       "State                           \n",
       "Alaska        245384     14.24  \n",
       "Texas          19075      2.74  \n",
       "California     20501      4.84  \n",
       "Montana         3869      1.02  \n",
       "New_Mexico       757      0.24  "
      ]
     },
     "execution_count": 5,
     "metadata": {},
     "output_type": "execute_result"
    }
   ],
   "source": [
    "area = pd.read_csv(path + file_names[3], delimiter=',', index_col = 'State')\n",
    "area.head(5)"
   ]
  },
  {
   "cell_type": "code",
   "execution_count": 6,
   "metadata": {},
   "outputs": [
    {
     "data": {
      "text/html": [
       "<div>\n",
       "<style scoped>\n",
       "    .dataframe tbody tr th:only-of-type {\n",
       "        vertical-align: middle;\n",
       "    }\n",
       "\n",
       "    .dataframe tbody tr th {\n",
       "        vertical-align: top;\n",
       "    }\n",
       "\n",
       "    .dataframe thead th {\n",
       "        text-align: right;\n",
       "    }\n",
       "</style>\n",
       "<table border=\"1\" class=\"dataframe\">\n",
       "  <thead>\n",
       "    <tr style=\"text-align: right;\">\n",
       "      <th></th>\n",
       "      <th>Income2017</th>\n",
       "      <th>Income2016</th>\n",
       "      <th>Income2015</th>\n",
       "      <th>Income2014</th>\n",
       "      <th>Income2013</th>\n",
       "      <th>Income2012</th>\n",
       "      <th>Income2011</th>\n",
       "      <th>Income2010</th>\n",
       "      <th>Income2009</th>\n",
       "      <th>Income2008</th>\n",
       "      <th>Income2007</th>\n",
       "    </tr>\n",
       "    <tr>\n",
       "      <th>State</th>\n",
       "      <th></th>\n",
       "      <th></th>\n",
       "      <th></th>\n",
       "      <th></th>\n",
       "      <th></th>\n",
       "      <th></th>\n",
       "      <th></th>\n",
       "      <th></th>\n",
       "      <th></th>\n",
       "      <th></th>\n",
       "      <th></th>\n",
       "    </tr>\n",
       "  </thead>\n",
       "  <tbody>\n",
       "    <tr>\n",
       "      <th>District_of_Columbia</th>\n",
       "      <td>82336</td>\n",
       "      <td>75506</td>\n",
       "      <td>75628</td>\n",
       "      <td>71648</td>\n",
       "      <td>67572</td>\n",
       "      <td>65246</td>\n",
       "      <td>66583</td>\n",
       "      <td>63124</td>\n",
       "      <td>59290</td>\n",
       "      <td>57936</td>\n",
       "      <td>54317</td>\n",
       "    </tr>\n",
       "    <tr>\n",
       "      <th>Maryland</th>\n",
       "      <td>80776</td>\n",
       "      <td>78945</td>\n",
       "      <td>75847</td>\n",
       "      <td>73971</td>\n",
       "      <td>72483</td>\n",
       "      <td>71836</td>\n",
       "      <td>70004</td>\n",
       "      <td>68854</td>\n",
       "      <td>69272</td>\n",
       "      <td>70545</td>\n",
       "      <td>68080</td>\n",
       "    </tr>\n",
       "    <tr>\n",
       "      <th>New_Jersey</th>\n",
       "      <td>80088</td>\n",
       "      <td>76126</td>\n",
       "      <td>72222</td>\n",
       "      <td>72919</td>\n",
       "      <td>70165</td>\n",
       "      <td>69667</td>\n",
       "      <td>67458</td>\n",
       "      <td>67681</td>\n",
       "      <td>68342</td>\n",
       "      <td>70373</td>\n",
       "      <td>67035</td>\n",
       "    </tr>\n",
       "    <tr>\n",
       "      <th>Hawaii</th>\n",
       "      <td>77765</td>\n",
       "      <td>74511</td>\n",
       "      <td>73486</td>\n",
       "      <td>69592</td>\n",
       "      <td>68020</td>\n",
       "      <td>66259</td>\n",
       "      <td>61821</td>\n",
       "      <td>63030</td>\n",
       "      <td>64098</td>\n",
       "      <td>67214</td>\n",
       "      <td>63746</td>\n",
       "    </tr>\n",
       "    <tr>\n",
       "      <th>Massachusetts</th>\n",
       "      <td>77385</td>\n",
       "      <td>75297</td>\n",
       "      <td>70628</td>\n",
       "      <td>69160</td>\n",
       "      <td>66768</td>\n",
       "      <td>65339</td>\n",
       "      <td>62859</td>\n",
       "      <td>62072</td>\n",
       "      <td>64081</td>\n",
       "      <td>65401</td>\n",
       "      <td>62365</td>\n",
       "    </tr>\n",
       "  </tbody>\n",
       "</table>\n",
       "</div>"
      ],
      "text/plain": [
       "                      Income2017  Income2016  Income2015  Income2014  \\\n",
       "State                                                                  \n",
       "District_of_Columbia       82336       75506       75628       71648   \n",
       "Maryland                   80776       78945       75847       73971   \n",
       "New_Jersey                 80088       76126       72222       72919   \n",
       "Hawaii                     77765       74511       73486       69592   \n",
       "Massachusetts              77385       75297       70628       69160   \n",
       "\n",
       "                      Income2013  Income2012  Income2011  Income2010  \\\n",
       "State                                                                  \n",
       "District_of_Columbia       67572       65246       66583       63124   \n",
       "Maryland                   72483       71836       70004       68854   \n",
       "New_Jersey                 70165       69667       67458       67681   \n",
       "Hawaii                     68020       66259       61821       63030   \n",
       "Massachusetts              66768       65339       62859       62072   \n",
       "\n",
       "                      Income2009  Income2008  Income2007  \n",
       "State                                                     \n",
       "District_of_Columbia       59290       57936       54317  \n",
       "Maryland                   69272       70545       68080  \n",
       "New_Jersey                 68342       70373       67035  \n",
       "Hawaii                     64098       67214       63746  \n",
       "Massachusetts              64081       65401       62365  "
      ]
     },
     "execution_count": 6,
     "metadata": {},
     "output_type": "execute_result"
    }
   ],
   "source": [
    "income = pd.read_csv(path + file_names[4], delimiter=',', index_col = 'State')\n",
    "income.head(5)"
   ]
  },
  {
   "cell_type": "code",
   "execution_count": 7,
   "metadata": {},
   "outputs": [
    {
     "data": {
      "text/html": [
       "<div>\n",
       "<style scoped>\n",
       "    .dataframe tbody tr th:only-of-type {\n",
       "        vertical-align: middle;\n",
       "    }\n",
       "\n",
       "    .dataframe tbody tr th {\n",
       "        vertical-align: top;\n",
       "    }\n",
       "\n",
       "    .dataframe thead th {\n",
       "        text-align: right;\n",
       "    }\n",
       "</style>\n",
       "<table border=\"1\" class=\"dataframe\">\n",
       "  <thead>\n",
       "    <tr style=\"text-align: right;\">\n",
       "      <th></th>\n",
       "      <th>Abb</th>\n",
       "      <th>Region</th>\n",
       "      <th>Division</th>\n",
       "    </tr>\n",
       "    <tr>\n",
       "      <th>State</th>\n",
       "      <th></th>\n",
       "      <th></th>\n",
       "      <th></th>\n",
       "    </tr>\n",
       "  </thead>\n",
       "  <tbody>\n",
       "    <tr>\n",
       "      <th>Alabama</th>\n",
       "      <td>AL</td>\n",
       "      <td>South</td>\n",
       "      <td>East South Central</td>\n",
       "    </tr>\n",
       "    <tr>\n",
       "      <th>Alaska</th>\n",
       "      <td>AK</td>\n",
       "      <td>West</td>\n",
       "      <td>Pacific</td>\n",
       "    </tr>\n",
       "    <tr>\n",
       "      <th>Arizona</th>\n",
       "      <td>AZ</td>\n",
       "      <td>West</td>\n",
       "      <td>Mountain</td>\n",
       "    </tr>\n",
       "    <tr>\n",
       "      <th>Arkansas</th>\n",
       "      <td>AR</td>\n",
       "      <td>South</td>\n",
       "      <td>west south central</td>\n",
       "    </tr>\n",
       "    <tr>\n",
       "      <th>California</th>\n",
       "      <td>CA</td>\n",
       "      <td>West</td>\n",
       "      <td>Pacific</td>\n",
       "    </tr>\n",
       "  </tbody>\n",
       "</table>\n",
       "</div>"
      ],
      "text/plain": [
       "           Abb Region            Division\n",
       "State                                    \n",
       "Alabama     AL  South  East South Central\n",
       "Alaska      AK   West             Pacific\n",
       "Arizona     AZ   West            Mountain\n",
       "Arkansas    AR  South  west south central\n",
       "California  CA   West             Pacific"
      ]
     },
     "execution_count": 7,
     "metadata": {},
     "output_type": "execute_result"
    }
   ],
   "source": [
    "region = pd.read_csv(path + file_names[5], delimiter=',', index_col = 'State')\n",
    "region.head(5)"
   ]
  },
  {
   "cell_type": "code",
   "execution_count": 10,
   "metadata": {},
   "outputs": [
    {
     "data": {
      "text/html": [
       "<div>\n",
       "<style scoped>\n",
       "    .dataframe tbody tr th:only-of-type {\n",
       "        vertical-align: middle;\n",
       "    }\n",
       "\n",
       "    .dataframe tbody tr th {\n",
       "        vertical-align: top;\n",
       "    }\n",
       "\n",
       "    .dataframe thead th {\n",
       "        text-align: right;\n",
       "    }\n",
       "</style>\n",
       "<table border=\"1\" class=\"dataframe\">\n",
       "  <thead>\n",
       "    <tr style=\"text-align: right;\">\n",
       "      <th></th>\n",
       "      <th>High_School_graduate_or_higher_pct</th>\n",
       "      <th>Bachelor_degree_or_higher_pct</th>\n",
       "      <th>Advanced_degree_pct</th>\n",
       "      <th>LifeExp2018</th>\n",
       "      <th>LifeExp2010</th>\n",
       "      <th>MaleLifeExp</th>\n",
       "      <th>FemLifeExp</th>\n",
       "      <th>Population_2015</th>\n",
       "      <th>Murders_manslaughter_2015</th>\n",
       "      <th>Murders_2015</th>\n",
       "      <th>...</th>\n",
       "      <th>Income2013</th>\n",
       "      <th>Income2012</th>\n",
       "      <th>Income2011</th>\n",
       "      <th>Income2010</th>\n",
       "      <th>Income2009</th>\n",
       "      <th>Income2008</th>\n",
       "      <th>Income2007</th>\n",
       "      <th>Abb</th>\n",
       "      <th>Region</th>\n",
       "      <th>Division</th>\n",
       "    </tr>\n",
       "    <tr>\n",
       "      <th>State</th>\n",
       "      <th></th>\n",
       "      <th></th>\n",
       "      <th></th>\n",
       "      <th></th>\n",
       "      <th></th>\n",
       "      <th></th>\n",
       "      <th></th>\n",
       "      <th></th>\n",
       "      <th></th>\n",
       "      <th></th>\n",
       "      <th></th>\n",
       "      <th></th>\n",
       "      <th></th>\n",
       "      <th></th>\n",
       "      <th></th>\n",
       "      <th></th>\n",
       "      <th></th>\n",
       "      <th></th>\n",
       "      <th></th>\n",
       "      <th></th>\n",
       "      <th></th>\n",
       "    </tr>\n",
       "  </thead>\n",
       "  <tbody>\n",
       "    <tr>\n",
       "      <th>Montana</th>\n",
       "      <td>93.0</td>\n",
       "      <td>30.7</td>\n",
       "      <td>10.1</td>\n",
       "      <td>78.8</td>\n",
       "      <td>78.5</td>\n",
       "      <td>76.8</td>\n",
       "      <td>81.0</td>\n",
       "      <td>1032073.0</td>\n",
       "      <td>36.0</td>\n",
       "      <td>36.0</td>\n",
       "      <td>...</td>\n",
       "      <td>46972.0</td>\n",
       "      <td>45076.0</td>\n",
       "      <td>44222.0</td>\n",
       "      <td>42666.0</td>\n",
       "      <td>42322.0</td>\n",
       "      <td>43654.0</td>\n",
       "      <td>43531.0</td>\n",
       "      <td>MT</td>\n",
       "      <td>West</td>\n",
       "      <td>Mountain</td>\n",
       "    </tr>\n",
       "    <tr>\n",
       "      <th>New_Hampshire</th>\n",
       "      <td>92.8</td>\n",
       "      <td>36.0</td>\n",
       "      <td>13.8</td>\n",
       "      <td>79.5</td>\n",
       "      <td>80.3</td>\n",
       "      <td>77.5</td>\n",
       "      <td>81.4</td>\n",
       "      <td>1330111.0</td>\n",
       "      <td>14.0</td>\n",
       "      <td>14.0</td>\n",
       "      <td>...</td>\n",
       "      <td>64230.0</td>\n",
       "      <td>63280.0</td>\n",
       "      <td>62647.0</td>\n",
       "      <td>61042.0</td>\n",
       "      <td>60567.0</td>\n",
       "      <td>63731.0</td>\n",
       "      <td>62369.0</td>\n",
       "      <td>NH</td>\n",
       "      <td>Northeast</td>\n",
       "      <td>New England</td>\n",
       "    </tr>\n",
       "    <tr>\n",
       "      <th>Minnesota</th>\n",
       "      <td>92.8</td>\n",
       "      <td>34.8</td>\n",
       "      <td>11.8</td>\n",
       "      <td>81.0</td>\n",
       "      <td>80.8</td>\n",
       "      <td>79.0</td>\n",
       "      <td>83.0</td>\n",
       "      <td>5482435.0</td>\n",
       "      <td>133.0</td>\n",
       "      <td>133.0</td>\n",
       "      <td>...</td>\n",
       "      <td>60702.0</td>\n",
       "      <td>58906.0</td>\n",
       "      <td>56954.0</td>\n",
       "      <td>55459.0</td>\n",
       "      <td>55616.0</td>\n",
       "      <td>57288.0</td>\n",
       "      <td>55802.0</td>\n",
       "      <td>MN</td>\n",
       "      <td>North Central</td>\n",
       "      <td>West North Central</td>\n",
       "    </tr>\n",
       "    <tr>\n",
       "      <th>Wyoming</th>\n",
       "      <td>92.8</td>\n",
       "      <td>26.7</td>\n",
       "      <td>9.3</td>\n",
       "      <td>79.0</td>\n",
       "      <td>78.1</td>\n",
       "      <td>77.1</td>\n",
       "      <td>81.1</td>\n",
       "      <td>586107.0</td>\n",
       "      <td>16.0</td>\n",
       "      <td>16.0</td>\n",
       "      <td>...</td>\n",
       "      <td>58752.0</td>\n",
       "      <td>54901.0</td>\n",
       "      <td>56322.0</td>\n",
       "      <td>53512.0</td>\n",
       "      <td>52664.0</td>\n",
       "      <td>53207.0</td>\n",
       "      <td>51731.0</td>\n",
       "      <td>WY</td>\n",
       "      <td>West</td>\n",
       "      <td>Mountain</td>\n",
       "    </tr>\n",
       "    <tr>\n",
       "      <th>Alaska</th>\n",
       "      <td>92.4</td>\n",
       "      <td>29.0</td>\n",
       "      <td>10.4</td>\n",
       "      <td>78.8</td>\n",
       "      <td>78.0</td>\n",
       "      <td>76.7</td>\n",
       "      <td>81.2</td>\n",
       "      <td>737709.0</td>\n",
       "      <td>59.0</td>\n",
       "      <td>57.0</td>\n",
       "      <td>...</td>\n",
       "      <td>72237.0</td>\n",
       "      <td>67712.0</td>\n",
       "      <td>67825.0</td>\n",
       "      <td>64576.0</td>\n",
       "      <td>66953.0</td>\n",
       "      <td>68460.0</td>\n",
       "      <td>64333.0</td>\n",
       "      <td>AK</td>\n",
       "      <td>West</td>\n",
       "      <td>Pacific</td>\n",
       "    </tr>\n",
       "  </tbody>\n",
       "</table>\n",
       "<p>5 rows × 37 columns</p>\n",
       "</div>"
      ],
      "text/plain": [
       "               High_School_graduate_or_higher_pct  \\\n",
       "State                                               \n",
       "Montana                                      93.0   \n",
       "New_Hampshire                                92.8   \n",
       "Minnesota                                    92.8   \n",
       "Wyoming                                      92.8   \n",
       "Alaska                                       92.4   \n",
       "\n",
       "               Bachelor_degree_or_higher_pct  Advanced_degree_pct  \\\n",
       "State                                                               \n",
       "Montana                                 30.7                 10.1   \n",
       "New_Hampshire                           36.0                 13.8   \n",
       "Minnesota                               34.8                 11.8   \n",
       "Wyoming                                 26.7                  9.3   \n",
       "Alaska                                  29.0                 10.4   \n",
       "\n",
       "               LifeExp2018  LifeExp2010  MaleLifeExp  FemLifeExp  \\\n",
       "State                                                              \n",
       "Montana               78.8         78.5         76.8        81.0   \n",
       "New_Hampshire         79.5         80.3         77.5        81.4   \n",
       "Minnesota             81.0         80.8         79.0        83.0   \n",
       "Wyoming               79.0         78.1         77.1        81.1   \n",
       "Alaska                78.8         78.0         76.7        81.2   \n",
       "\n",
       "               Population_2015  Murders_manslaughter_2015  Murders_2015  ...  \\\n",
       "State                                                                    ...   \n",
       "Montana              1032073.0                       36.0          36.0  ...   \n",
       "New_Hampshire        1330111.0                       14.0          14.0  ...   \n",
       "Minnesota            5482435.0                      133.0         133.0  ...   \n",
       "Wyoming               586107.0                       16.0          16.0  ...   \n",
       "Alaska                737709.0                       59.0          57.0  ...   \n",
       "\n",
       "               Income2013  Income2012  Income2011  Income2010  Income2009  \\\n",
       "State                                                                       \n",
       "Montana           46972.0     45076.0     44222.0     42666.0     42322.0   \n",
       "New_Hampshire     64230.0     63280.0     62647.0     61042.0     60567.0   \n",
       "Minnesota         60702.0     58906.0     56954.0     55459.0     55616.0   \n",
       "Wyoming           58752.0     54901.0     56322.0     53512.0     52664.0   \n",
       "Alaska            72237.0     67712.0     67825.0     64576.0     66953.0   \n",
       "\n",
       "               Income2008  Income2007  Abb         Region            Division  \n",
       "State                                                                          \n",
       "Montana           43654.0     43531.0   MT           West            Mountain  \n",
       "New_Hampshire     63731.0     62369.0   NH      Northeast         New England  \n",
       "Minnesota         57288.0     55802.0   MN  North Central  West North Central  \n",
       "Wyoming           53207.0     51731.0   WY           West            Mountain  \n",
       "Alaska            68460.0     64333.0   AK           West             Pacific  \n",
       "\n",
       "[5 rows x 37 columns]"
      ]
     },
     "execution_count": 10,
     "metadata": {},
     "output_type": "execute_result"
    }
   ],
   "source": [
    "### try to join alll dfs, check for row number\n",
    "import functools\n",
    "data_frames = [education, life_expectancy,crime, area, income, region]\n",
    "df_all = functools.reduce(lambda  left,right: pd.merge(left,right,on=['State'],\n",
    "                                            how='outer'), data_frames)\n",
    "df_all.head(5)"
   ]
  },
  {
   "cell_type": "code",
   "execution_count": 11,
   "metadata": {},
   "outputs": [
    {
     "data": {
      "text/plain": [
       "High_School_graduate_or_higher_pct          5\n",
       "Bachelor_degree_or_higher_pct               5\n",
       "Advanced_degree_pct                         5\n",
       "LifeExp2018                                 0\n",
       "LifeExp2010                                 0\n",
       "MaleLifeExp                                 0\n",
       "FemLifeExp                                  0\n",
       "Population_2015                             5\n",
       "Murders_manslaughter_2015                   5\n",
       "Murders_2015                                7\n",
       "Gun_Murders_2015                            7\n",
       "Gun_Ownership_2013                          5\n",
       "Murder_Manslaughter_Rate_per_100000_2015    5\n",
       "Murder_Rate_per_100000_2015                 7\n",
       "Gun_Murder_Rate_per_100000_2015             7\n",
       "TotalSqMi                                   6\n",
       "TotalKmQ                                    6\n",
       "LandSqMi                                    6\n",
       "LandKmQ                                     6\n",
       "LandPer                                     6\n",
       "WaterSqMi                                   6\n",
       "WaterKmQ                                    6\n",
       "WaterPer                                    6\n",
       "Income2017                                  5\n",
       "Income2016                                  5\n",
       "Income2015                                  5\n",
       "Income2014                                  5\n",
       "Income2013                                  5\n",
       "Income2012                                  5\n",
       "Income2011                                  5\n",
       "Income2010                                  5\n",
       "Income2009                                  5\n",
       "Income2008                                  5\n",
       "Income2007                                  5\n",
       "Abb                                         6\n",
       "Region                                      6\n",
       "Division                                    6\n",
       "dtype: int64"
      ]
     },
     "execution_count": 11,
     "metadata": {},
     "output_type": "execute_result"
    }
   ],
   "source": [
    "#any naNs ?\n",
    "df_all.isna().sum()"
   ]
  },
  {
   "cell_type": "code",
   "execution_count": 12,
   "metadata": {},
   "outputs": [
    {
     "data": {
      "text/plain": [
       "Index(['Montana', 'New_Hampshire', 'Minnesota', 'Wyoming', 'Alaska',\n",
       "       'North_Dakota', 'Vermont', 'Maine', 'Iowa', 'Utah', 'Wisconsin',\n",
       "       'Hawaii', 'South_Dakota', 'Colorado', 'Nebraska', 'Washington',\n",
       "       'Kansas', 'District_of_Columbia', 'Massachusetts', 'Idaho', 'Michigan',\n",
       "       'Connecticut', 'Oregon', 'Pennsylvania', 'Maryland', 'Ohio', 'Delaware',\n",
       "       'Missouri', 'New_Jersey', 'Virginia', 'Illinois', 'Indiana', 'Florida',\n",
       "       'Oklahoma', 'Rhode_Island', 'North_Carolina', 'South_Carolina',\n",
       "       'Tennessee', 'Georgia', 'New_York', 'West_Virginia', 'Nevada',\n",
       "       'Arkansas', 'Alabama', 'Kentucky', 'New_Mexico', 'Louisiana',\n",
       "       'Mississippi', 'Texas', 'California', 'Arizona', 'Puerto_Rico',\n",
       "       'U.S._Virgin_Islands', 'Guam', 'Northern_Mariana_Islands',\n",
       "       'American_Samoa'],\n",
       "      dtype='object', name='State')"
      ]
     },
     "execution_count": 12,
     "metadata": {},
     "output_type": "execute_result"
    }
   ],
   "source": [
    "df_all.index"
   ]
  },
  {
   "cell_type": "code",
   "execution_count": 13,
   "metadata": {},
   "outputs": [
    {
     "name": "stdout",
     "output_type": "stream",
     "text": [
      "Index([], dtype='object', name='State')\n",
      "Index([], dtype='object', name='State')\n",
      "Index(['District_of_Columbia'], dtype='object', name='State')\n",
      "Index([], dtype='object', name='State')\n",
      "Index(['District_of_Columbia'], dtype='object', name='State')\n",
      "Index(['American_Samoa', 'Guam', 'Northern_Mariana_Islands', 'Puerto_Rico',\n",
      "       'U.S._Virgin_Islands'],\n",
      "      dtype='object', name='State')\n",
      "Index(['American_Samoa', 'District_of_Columbia', 'Guam',\n",
      "       'Northern_Mariana_Islands', 'Puerto_Rico', 'U.S._Virgin_Islands'],\n",
      "      dtype='object', name='State')\n",
      "Index(['American_Samoa', 'Guam', 'Northern_Mariana_Islands', 'Puerto_Rico',\n",
      "       'U.S._Virgin_Islands'],\n",
      "      dtype='object', name='State')\n",
      "Index(['American_Samoa', 'District_of_Columbia', 'Guam',\n",
      "       'Northern_Mariana_Islands', 'Puerto_Rico', 'U.S._Virgin_Islands'],\n",
      "      dtype='object', name='State')\n",
      "Index(['District_of_Columbia'], dtype='object', name='State')\n",
      "Index([], dtype='object', name='State')\n",
      "Index(['District_of_Columbia'], dtype='object', name='State')\n",
      "Index([], dtype='object', name='State')\n",
      "Index([], dtype='object', name='State')\n",
      "Index(['District_of_Columbia'], dtype='object', name='State')\n"
     ]
    }
   ],
   "source": [
    "## ok lots off NaNs\n",
    "## analyze the problems\n",
    "import itertools\n",
    "\n",
    "combs = list(itertools.combinations(data_frames, 2))\n",
    "for el in combs:\n",
    "    print(el[0].index.difference(el[1].index,sort=None))\n",
    "    \n"
   ]
  },
  {
   "cell_type": "markdown",
   "metadata": {},
   "source": [
    "The output shows Index differences. But no states are referenced. Since the requirements say, that we only need state data, we are fine now. We have a sufficient clean dataframe to work with."
   ]
  },
  {
   "cell_type": "markdown",
   "metadata": {},
   "source": [
    "Now we start with data exploration. We want to have a look at the distribution of life_expectancy."
   ]
  },
  {
   "cell_type": "code",
   "execution_count": 14,
   "metadata": {},
   "outputs": [
    {
     "data": {
      "text/plain": [
       "count    56.00000\n",
       "mean     78.71250\n",
       "std       1.88844\n",
       "min      74.80000\n",
       "25%      77.67500\n",
       "50%      79.10000\n",
       "75%      79.90000\n",
       "max      82.30000\n",
       "Name: LifeExp2018, dtype: float64"
      ]
     },
     "execution_count": 14,
     "metadata": {},
     "output_type": "execute_result"
    }
   ],
   "source": [
    "###\n",
    "## basic statistics\n",
    "df_all.LifeExp2018.describe()\n",
    "## ok min = about 75, max = about 82\n",
    "### so 10 bins will suffice"
   ]
  },
  {
   "cell_type": "code",
   "execution_count": 15,
   "metadata": {},
   "outputs": [
    {
     "data": {
      "text/plain": [
       "<matplotlib.axes._subplots.AxesSubplot at 0x1aa7db252b0>"
      ]
     },
     "execution_count": 15,
     "metadata": {},
     "output_type": "execute_result"
    },
    {
     "data": {
      "image/png": "[encoded data removed]",
      "text/plain": [
       "<Figure size 432x288 with 1 Axes>"
      ]
     },
     "metadata": {
      "needs_background": "light"
     },
     "output_type": "display_data"
    }
   ],
   "source": [
    "### we find LifeExp2018 and LifeExp2010\n",
    "### we start with a very basic histoghram to get an impression\n",
    "df_all.LifeExp2018.hist(bins = 10)"
   ]
  },
  {
   "cell_type": "markdown",
   "metadata": {},
   "source": [
    "What we see is a more bimodal, left skewed distribution, with a peak between 79 and 80 years, and a second smaller peak around 75, which is interesting. Perhaps we have more than one distributions ( poorer and richer states ?? )"
   ]
  },
  {
   "cell_type": "code",
   "execution_count": 16,
   "metadata": {},
   "outputs": [
    {
     "data": {
      "text/plain": [
       "0    79.9\n",
       "dtype: float64"
      ]
     },
     "execution_count": 16,
     "metadata": {},
     "output_type": "execute_result"
    }
   ],
   "source": [
    "### mode ?\n",
    "df_all.LifeExp2018.mode()"
   ]
  },
  {
   "cell_type": "code",
   "execution_count": 17,
   "metadata": {},
   "outputs": [
    {
     "data": {
      "text/plain": [
       "79.1"
      ]
     },
     "execution_count": 17,
     "metadata": {},
     "output_type": "execute_result"
    }
   ],
   "source": [
    "### median\n",
    "df_all.LifeExp2018.median()"
   ]
  },
  {
   "cell_type": "code",
   "execution_count": 18,
   "metadata": {},
   "outputs": [
    {
     "data": {
      "text/plain": [
       "<matplotlib.axes._subplots.AxesSubplot at 0x1aa1ddbb310>"
      ]
     },
     "execution_count": 18,
     "metadata": {},
     "output_type": "execute_result"
    },
    {
     "data": {
      "image/png": "[encoded data removed]",
      "text/plain": [
       "<Figure size 432x288 with 1 Axes>"
      ]
     },
     "metadata": {
      "needs_background": "light"
     },
     "output_type": "display_data"
    }
   ],
   "source": [
    "### now we proceed to a more fancy graph\n",
    "import seaborn as sns\n",
    "import matplotlib.pyplot as plt\n",
    "fig, ax = plt.subplots()\n",
    "ax.set_xlim(72,85)\n",
    "ax.set(xlabel='Life Expectancy')\n",
    "plt = sns.histplot(data=df_all, x=\"LifeExp2018\", kde=False, stat = \"density\")\n",
    "plt.axvline(x=df_all.LifeExp2018.mean(), linewidth=3, color='g', label=\"mean\", alpha=0.5)\n",
    "plt.axvline(x=df_all.LifeExp2018.median(), linewidth=3, color='r', label=\"median\", alpha=0.5, ls='--',)\n",
    "plt.set(title = \"Distribution Life Expectancy (2018)\")\n",
    "plt.legend([\"median\",\"mean\"])\n",
    "legend = plt.legend()\n",
    "frame = legend.get_frame()\n",
    "frame.set_facecolor('white')\n",
    "sns.kdeplot(data=df_all, x=\"LifeExp2018\", color='blue', ax=plt)"
   ]
  },
  {
   "cell_type": "markdown",
   "metadata": {},
   "source": [
    "Bimodality seems to have vanished... due to different binning "
   ]
  },
  {
   "cell_type": "code",
   "execution_count": 19,
   "metadata": {},
   "outputs": [
    {
     "data": {
      "text/plain": [
       "<matplotlib.legend.Legend at 0x1aa7dc985b0>"
      ]
     },
     "execution_count": 19,
     "metadata": {},
     "output_type": "execute_result"
    },
    {
     "data": {
      "image/png": "[encoded data removed]",
      "text/plain": [
       "<Figure size 432x288 with 1 Axes>"
      ]
     },
     "metadata": {
      "needs_background": "light"
     },
     "output_type": "display_data"
    }
   ],
   "source": [
    "### compare 2018 and 2010\n",
    "import matplotlib.pyplot as plt\n",
    "fig, ax = plt.subplots()\n",
    "ax.set(xlabel='Life Expectancy in 2018 and 2010')\n",
    "plt = sns.kdeplot(data=df_all, x='LifeExp2018', fill=True, color = 'g')\n",
    "sns.kdeplot(data=df_all, x='LifeExp2010', fill=True, color = 'y')\n",
    "plt.legend([\"2018\",\"2010\"])"
   ]
  },
  {
   "cell_type": "code",
   "execution_count": 20,
   "metadata": {},
   "outputs": [
    {
     "data": {
      "text/plain": [
       "count    56.00000\n",
       "mean     78.71250\n",
       "std       1.88844\n",
       "min      74.80000\n",
       "25%      77.67500\n",
       "50%      79.10000\n",
       "75%      79.90000\n",
       "max      82.30000\n",
       "Name: LifeExp2018, dtype: float64"
      ]
     },
     "execution_count": 20,
     "metadata": {},
     "output_type": "execute_result"
    }
   ],
   "source": [
    "### 2018 and 2010 seem to be different distributions:\n",
    "df_all.LifeExp2018.describe()"
   ]
  },
  {
   "cell_type": "code",
   "execution_count": 21,
   "metadata": {},
   "outputs": [
    {
     "data": {
      "text/plain": [
       "count    56.000000\n",
       "mean     78.414286\n",
       "std       1.692919\n",
       "min      74.000000\n",
       "25%      77.475000\n",
       "50%      78.650000\n",
       "75%      79.625000\n",
       "max      81.400000\n",
       "Name: LifeExp2010, dtype: float64"
      ]
     },
     "execution_count": 21,
     "metadata": {},
     "output_type": "execute_result"
    }
   ],
   "source": [
    "df_all.LifeExp2010.describe()"
   ]
  },
  {
   "cell_type": "markdown",
   "metadata": {},
   "source": [
    "2018 has a slighty higher max and mean compared with 2010.\n",
    "whether it is statistically significant remains to be seen."
   ]
  },
  {
   "cell_type": "code",
   "execution_count": 22,
   "metadata": {},
   "outputs": [
    {
     "data": {
      "text/plain": [
       "Ttest_indResult(statistic=0.8799204501296345, pvalue=0.3808207179188935)"
      ]
     },
     "execution_count": 22,
     "metadata": {},
     "output_type": "execute_result"
    }
   ],
   "source": [
    "from scipy import stats\n",
    "stats.ttest_ind(df_all.LifeExp2018, df_all.LifeExp2010)"
   ]
  },
  {
   "cell_type": "markdown",
   "metadata": {},
   "source": [
    "A p-value of around 0.38 gives no hint, that we are faced with two different populations.\n",
    "The change in the means of both samples could have happened by chance alone."
   ]
  },
  {
   "cell_type": "code",
   "execution_count": 23,
   "metadata": {},
   "outputs": [
    {
     "data": {
      "text/plain": [
       "79.9"
      ]
     },
     "execution_count": 23,
     "metadata": {},
     "output_type": "execute_result"
    }
   ],
   "source": [
    "df_all.LifeExp2018.mode()[0]"
   ]
  },
  {
   "cell_type": "code",
   "execution_count": 27,
   "metadata": {},
   "outputs": [
    {
     "data": {
      "text/plain": [
       "<matplotlib.axes._subplots.AxesSubplot at 0x1aa1ff22a30>"
      ]
     },
     "execution_count": 27,
     "metadata": {},
     "output_type": "execute_result"
    },
    {
     "data": {
      "image/png": "[encoded data removed]",
      "text/plain": [
       "<Figure size 432x288 with 1 Axes>"
      ]
     },
     "metadata": {
      "needs_background": "light"
     },
     "output_type": "display_data"
    }
   ],
   "source": [
    "### ECDF Plot\n",
    "#define a NumPy array x with the column LifeExp2018\n",
    "#* order x according to life expectancy (ascending)\n",
    "#* define a numpy array y = np.arange(1, len(x)+1)/len(x)\n",
    "#* plot y vs x\n",
    "import numpy as np\n",
    "%matplotlib inline\n",
    "x = np.array(df_all.LifeExp2018)\n",
    "x = sorted(x)\n",
    "y = np.arange(1, len(x)+1)/len(x)\n",
    "plt.scatter(x,y, s = 3)\n",
    "plt.xlabel('Life Expectancy, mode at 80')\n",
    "plt.ylabel('ECDF')\n",
    "plt.title(\"Empirical Cumulative Distribution of Life Expectancy (2018)\")\n",
    "plt.axvline(x=df_all.LifeExp2018.mode()[0], linewidth=3, color='g', label=\"mean\", alpha=0.2)\n",
    "sns.regplot(x=x,y = y, ci=None, line_kws={'linewidth':1})"
   ]
  },
  {
   "cell_type": "markdown",
   "metadata": {},
   "source": [
    "The ECDF Plot shows the skewness of the data especially between 77 and 79 years"
   ]
  },
  {
   "cell_type": "markdown",
   "metadata": {},
   "source": [
    "Now we start with analyzing life expectancy by region"
   ]
  },
  {
   "cell_type": "code",
   "execution_count": 28,
   "metadata": {},
   "outputs": [
    {
     "data": {
      "text/html": [
       "<div>\n",
       "<style scoped>\n",
       "    .dataframe tbody tr th:only-of-type {\n",
       "        vertical-align: middle;\n",
       "    }\n",
       "\n",
       "    .dataframe tbody tr th {\n",
       "        vertical-align: top;\n",
       "    }\n",
       "\n",
       "    .dataframe thead th {\n",
       "        text-align: right;\n",
       "    }\n",
       "</style>\n",
       "<table border=\"1\" class=\"dataframe\">\n",
       "  <thead>\n",
       "    <tr style=\"text-align: right;\">\n",
       "      <th></th>\n",
       "      <th>LifeExp2018</th>\n",
       "      <th>Region</th>\n",
       "    </tr>\n",
       "    <tr>\n",
       "      <th>State</th>\n",
       "      <th></th>\n",
       "      <th></th>\n",
       "    </tr>\n",
       "  </thead>\n",
       "  <tbody>\n",
       "    <tr>\n",
       "      <th>Montana</th>\n",
       "      <td>78.8</td>\n",
       "      <td>West</td>\n",
       "    </tr>\n",
       "    <tr>\n",
       "      <th>New_Hampshire</th>\n",
       "      <td>79.5</td>\n",
       "      <td>Northeast</td>\n",
       "    </tr>\n",
       "    <tr>\n",
       "      <th>Minnesota</th>\n",
       "      <td>81.0</td>\n",
       "      <td>North Central</td>\n",
       "    </tr>\n",
       "    <tr>\n",
       "      <th>Wyoming</th>\n",
       "      <td>79.0</td>\n",
       "      <td>West</td>\n",
       "    </tr>\n",
       "    <tr>\n",
       "      <th>Alaska</th>\n",
       "      <td>78.8</td>\n",
       "      <td>West</td>\n",
       "    </tr>\n",
       "    <tr>\n",
       "      <th>North_Dakota</th>\n",
       "      <td>79.9</td>\n",
       "      <td>North Central</td>\n",
       "    </tr>\n",
       "    <tr>\n",
       "      <th>Vermont</th>\n",
       "      <td>79.7</td>\n",
       "      <td>Northeast</td>\n",
       "    </tr>\n",
       "    <tr>\n",
       "      <th>Maine</th>\n",
       "      <td>78.7</td>\n",
       "      <td>Northeast</td>\n",
       "    </tr>\n",
       "    <tr>\n",
       "      <th>Iowa</th>\n",
       "      <td>79.4</td>\n",
       "      <td>North Central</td>\n",
       "    </tr>\n",
       "    <tr>\n",
       "      <th>Utah</th>\n",
       "      <td>79.9</td>\n",
       "      <td>West</td>\n",
       "    </tr>\n",
       "    <tr>\n",
       "      <th>Wisconsin</th>\n",
       "      <td>79.4</td>\n",
       "      <td>North Central</td>\n",
       "    </tr>\n",
       "    <tr>\n",
       "      <th>Hawaii</th>\n",
       "      <td>82.3</td>\n",
       "      <td>West</td>\n",
       "    </tr>\n",
       "    <tr>\n",
       "      <th>South_Dakota</th>\n",
       "      <td>79.1</td>\n",
       "      <td>North Central</td>\n",
       "    </tr>\n",
       "    <tr>\n",
       "      <th>Colorado</th>\n",
       "      <td>80.5</td>\n",
       "      <td>West</td>\n",
       "    </tr>\n",
       "    <tr>\n",
       "      <th>Nebraska</th>\n",
       "      <td>79.6</td>\n",
       "      <td>North Central</td>\n",
       "    </tr>\n",
       "    <tr>\n",
       "      <th>Washington</th>\n",
       "      <td>80.4</td>\n",
       "      <td>West</td>\n",
       "    </tr>\n",
       "    <tr>\n",
       "      <th>Kansas</th>\n",
       "      <td>78.5</td>\n",
       "      <td>North Central</td>\n",
       "    </tr>\n",
       "    <tr>\n",
       "      <th>District_of_Columbia</th>\n",
       "      <td>78.6</td>\n",
       "      <td>NaN</td>\n",
       "    </tr>\n",
       "    <tr>\n",
       "      <th>Massachusetts</th>\n",
       "      <td>80.5</td>\n",
       "      <td>Northeast</td>\n",
       "    </tr>\n",
       "    <tr>\n",
       "      <th>Idaho</th>\n",
       "      <td>79.3</td>\n",
       "      <td>West</td>\n",
       "    </tr>\n",
       "    <tr>\n",
       "      <th>Michigan</th>\n",
       "      <td>78.0</td>\n",
       "      <td>North Central</td>\n",
       "    </tr>\n",
       "    <tr>\n",
       "      <th>Connecticut</th>\n",
       "      <td>80.9</td>\n",
       "      <td>Northeast</td>\n",
       "    </tr>\n",
       "    <tr>\n",
       "      <th>Oregon</th>\n",
       "      <td>79.8</td>\n",
       "      <td>West</td>\n",
       "    </tr>\n",
       "    <tr>\n",
       "      <th>Pennsylvania</th>\n",
       "      <td>78.3</td>\n",
       "      <td>Northeast</td>\n",
       "    </tr>\n",
       "    <tr>\n",
       "      <th>Maryland</th>\n",
       "      <td>79.1</td>\n",
       "      <td>South</td>\n",
       "    </tr>\n",
       "    <tr>\n",
       "      <th>Ohio</th>\n",
       "      <td>76.9</td>\n",
       "      <td>North Central</td>\n",
       "    </tr>\n",
       "    <tr>\n",
       "      <th>Delaware</th>\n",
       "      <td>78.4</td>\n",
       "      <td>South</td>\n",
       "    </tr>\n",
       "    <tr>\n",
       "      <th>Missouri</th>\n",
       "      <td>77.3</td>\n",
       "      <td>North Central</td>\n",
       "    </tr>\n",
       "    <tr>\n",
       "      <th>New_Jersey</th>\n",
       "      <td>80.4</td>\n",
       "      <td>Northeast</td>\n",
       "    </tr>\n",
       "    <tr>\n",
       "      <th>Virginia</th>\n",
       "      <td>79.5</td>\n",
       "      <td>South</td>\n",
       "    </tr>\n",
       "    <tr>\n",
       "      <th>Illinois</th>\n",
       "      <td>79.3</td>\n",
       "      <td>North Central</td>\n",
       "    </tr>\n",
       "    <tr>\n",
       "      <th>Indiana</th>\n",
       "      <td>77.0</td>\n",
       "      <td>North Central</td>\n",
       "    </tr>\n",
       "    <tr>\n",
       "      <th>Florida</th>\n",
       "      <td>80.0</td>\n",
       "      <td>South</td>\n",
       "    </tr>\n",
       "    <tr>\n",
       "      <th>Oklahoma</th>\n",
       "      <td>76.0</td>\n",
       "      <td>South</td>\n",
       "    </tr>\n",
       "    <tr>\n",
       "      <th>Rhode_Island</th>\n",
       "      <td>79.9</td>\n",
       "      <td>Northeast</td>\n",
       "    </tr>\n",
       "    <tr>\n",
       "      <th>North_Carolina</th>\n",
       "      <td>78.0</td>\n",
       "      <td>South</td>\n",
       "    </tr>\n",
       "    <tr>\n",
       "      <th>South_Carolina</th>\n",
       "      <td>77.0</td>\n",
       "      <td>South</td>\n",
       "    </tr>\n",
       "    <tr>\n",
       "      <th>Tennessee</th>\n",
       "      <td>76.0</td>\n",
       "      <td>South</td>\n",
       "    </tr>\n",
       "    <tr>\n",
       "      <th>Georgia</th>\n",
       "      <td>77.8</td>\n",
       "      <td>South</td>\n",
       "    </tr>\n",
       "    <tr>\n",
       "      <th>New_York</th>\n",
       "      <td>81.3</td>\n",
       "      <td>Northeast</td>\n",
       "    </tr>\n",
       "    <tr>\n",
       "      <th>West_Virginia</th>\n",
       "      <td>74.8</td>\n",
       "      <td>South</td>\n",
       "    </tr>\n",
       "    <tr>\n",
       "      <th>Nevada</th>\n",
       "      <td>78.5</td>\n",
       "      <td>West</td>\n",
       "    </tr>\n",
       "    <tr>\n",
       "      <th>Arkansas</th>\n",
       "      <td>75.9</td>\n",
       "      <td>South</td>\n",
       "    </tr>\n",
       "    <tr>\n",
       "      <th>Alabama</th>\n",
       "      <td>75.4</td>\n",
       "      <td>South</td>\n",
       "    </tr>\n",
       "    <tr>\n",
       "      <th>Kentucky</th>\n",
       "      <td>75.4</td>\n",
       "      <td>South</td>\n",
       "    </tr>\n",
       "    <tr>\n",
       "      <th>New_Mexico</th>\n",
       "      <td>78.1</td>\n",
       "      <td>West</td>\n",
       "    </tr>\n",
       "    <tr>\n",
       "      <th>Louisiana</th>\n",
       "      <td>76.1</td>\n",
       "      <td>South</td>\n",
       "    </tr>\n",
       "    <tr>\n",
       "      <th>Mississippi</th>\n",
       "      <td>74.9</td>\n",
       "      <td>South</td>\n",
       "    </tr>\n",
       "    <tr>\n",
       "      <th>Texas</th>\n",
       "      <td>79.1</td>\n",
       "      <td>South</td>\n",
       "    </tr>\n",
       "    <tr>\n",
       "      <th>California</th>\n",
       "      <td>81.6</td>\n",
       "      <td>West</td>\n",
       "    </tr>\n",
       "    <tr>\n",
       "      <th>Arizona</th>\n",
       "      <td>79.9</td>\n",
       "      <td>West</td>\n",
       "    </tr>\n",
       "    <tr>\n",
       "      <th>Puerto_Rico</th>\n",
       "      <td>81.3</td>\n",
       "      <td>NaN</td>\n",
       "    </tr>\n",
       "    <tr>\n",
       "      <th>U.S._Virgin_Islands</th>\n",
       "      <td>81.2</td>\n",
       "      <td>NaN</td>\n",
       "    </tr>\n",
       "    <tr>\n",
       "      <th>Guam</th>\n",
       "      <td>80.7</td>\n",
       "      <td>NaN</td>\n",
       "    </tr>\n",
       "    <tr>\n",
       "      <th>Northern_Mariana_Islands</th>\n",
       "      <td>76.4</td>\n",
       "      <td>NaN</td>\n",
       "    </tr>\n",
       "    <tr>\n",
       "      <th>American_Samoa</th>\n",
       "      <td>74.8</td>\n",
       "      <td>NaN</td>\n",
       "    </tr>\n",
       "  </tbody>\n",
       "</table>\n",
       "</div>"
      ],
      "text/plain": [
       "                          LifeExp2018         Region\n",
       "State                                               \n",
       "Montana                          78.8           West\n",
       "New_Hampshire                    79.5      Northeast\n",
       "Minnesota                        81.0  North Central\n",
       "Wyoming                          79.0           West\n",
       "Alaska                           78.8           West\n",
       "North_Dakota                     79.9  North Central\n",
       "Vermont                          79.7      Northeast\n",
       "Maine                            78.7      Northeast\n",
       "Iowa                             79.4  North Central\n",
       "Utah                             79.9           West\n",
       "Wisconsin                        79.4  North Central\n",
       "Hawaii                           82.3           West\n",
       "South_Dakota                     79.1  North Central\n",
       "Colorado                         80.5           West\n",
       "Nebraska                         79.6  North Central\n",
       "Washington                       80.4           West\n",
       "Kansas                           78.5  North Central\n",
       "District_of_Columbia             78.6            NaN\n",
       "Massachusetts                    80.5      Northeast\n",
       "Idaho                            79.3           West\n",
       "Michigan                         78.0  North Central\n",
       "Connecticut                      80.9      Northeast\n",
       "Oregon                           79.8           West\n",
       "Pennsylvania                     78.3      Northeast\n",
       "Maryland                         79.1          South\n",
       "Ohio                             76.9  North Central\n",
       "Delaware                         78.4          South\n",
       "Missouri                         77.3  North Central\n",
       "New_Jersey                       80.4      Northeast\n",
       "Virginia                         79.5          South\n",
       "Illinois                         79.3  North Central\n",
       "Indiana                          77.0  North Central\n",
       "Florida                          80.0          South\n",
       "Oklahoma                         76.0          South\n",
       "Rhode_Island                     79.9      Northeast\n",
       "North_Carolina                   78.0          South\n",
       "South_Carolina                   77.0          South\n",
       "Tennessee                        76.0          South\n",
       "Georgia                          77.8          South\n",
       "New_York                         81.3      Northeast\n",
       "West_Virginia                    74.8          South\n",
       "Nevada                           78.5           West\n",
       "Arkansas                         75.9          South\n",
       "Alabama                          75.4          South\n",
       "Kentucky                         75.4          South\n",
       "New_Mexico                       78.1           West\n",
       "Louisiana                        76.1          South\n",
       "Mississippi                      74.9          South\n",
       "Texas                            79.1          South\n",
       "California                       81.6           West\n",
       "Arizona                          79.9           West\n",
       "Puerto_Rico                      81.3            NaN\n",
       "U.S._Virgin_Islands              81.2            NaN\n",
       "Guam                             80.7            NaN\n",
       "Northern_Mariana_Islands         76.4            NaN\n",
       "American_Samoa                   74.8            NaN"
      ]
     },
     "execution_count": 28,
     "metadata": {},
     "output_type": "execute_result"
    }
   ],
   "source": [
    "Life_exp_region = df_all.loc[:,[\"LifeExp2018\", \"Region\"]]\n",
    "Life_exp_region      "
   ]
  },
  {
   "cell_type": "code",
   "execution_count": 29,
   "metadata": {},
   "outputs": [
    {
     "data": {
      "text/html": [
       "<div>\n",
       "<style scoped>\n",
       "    .dataframe tbody tr th:only-of-type {\n",
       "        vertical-align: middle;\n",
       "    }\n",
       "\n",
       "    .dataframe tbody tr th {\n",
       "        vertical-align: top;\n",
       "    }\n",
       "\n",
       "    .dataframe thead tr th {\n",
       "        text-align: left;\n",
       "    }\n",
       "\n",
       "    .dataframe thead tr:last-of-type th {\n",
       "        text-align: right;\n",
       "    }\n",
       "</style>\n",
       "<table border=\"1\" class=\"dataframe\">\n",
       "  <thead>\n",
       "    <tr>\n",
       "      <th></th>\n",
       "      <th colspan=\"8\" halign=\"left\">LifeExp2018</th>\n",
       "    </tr>\n",
       "    <tr>\n",
       "      <th></th>\n",
       "      <th>count</th>\n",
       "      <th>mean</th>\n",
       "      <th>std</th>\n",
       "      <th>min</th>\n",
       "      <th>25%</th>\n",
       "      <th>50%</th>\n",
       "      <th>75%</th>\n",
       "      <th>max</th>\n",
       "    </tr>\n",
       "    <tr>\n",
       "      <th>Region</th>\n",
       "      <th></th>\n",
       "      <th></th>\n",
       "      <th></th>\n",
       "      <th></th>\n",
       "      <th></th>\n",
       "      <th></th>\n",
       "      <th></th>\n",
       "      <th></th>\n",
       "    </tr>\n",
       "  </thead>\n",
       "  <tbody>\n",
       "    <tr>\n",
       "      <th>North Central</th>\n",
       "      <td>12.0</td>\n",
       "      <td>78.783333</td>\n",
       "      <td>1.264072</td>\n",
       "      <td>76.9</td>\n",
       "      <td>77.825</td>\n",
       "      <td>79.20</td>\n",
       "      <td>79.450</td>\n",
       "      <td>81.0</td>\n",
       "    </tr>\n",
       "    <tr>\n",
       "      <th>Northeast</th>\n",
       "      <td>9.0</td>\n",
       "      <td>79.911111</td>\n",
       "      <td>0.985450</td>\n",
       "      <td>78.3</td>\n",
       "      <td>79.500</td>\n",
       "      <td>79.90</td>\n",
       "      <td>80.500</td>\n",
       "      <td>81.3</td>\n",
       "    </tr>\n",
       "    <tr>\n",
       "      <th>South</th>\n",
       "      <td>16.0</td>\n",
       "      <td>77.087500</td>\n",
       "      <td>1.750000</td>\n",
       "      <td>74.8</td>\n",
       "      <td>75.775</td>\n",
       "      <td>76.55</td>\n",
       "      <td>78.575</td>\n",
       "      <td>80.0</td>\n",
       "    </tr>\n",
       "    <tr>\n",
       "      <th>West</th>\n",
       "      <td>13.0</td>\n",
       "      <td>79.761538</td>\n",
       "      <td>1.218290</td>\n",
       "      <td>78.1</td>\n",
       "      <td>78.800</td>\n",
       "      <td>79.80</td>\n",
       "      <td>80.400</td>\n",
       "      <td>82.3</td>\n",
       "    </tr>\n",
       "  </tbody>\n",
       "</table>\n",
       "</div>"
      ],
      "text/plain": [
       "              LifeExp2018                                                    \\\n",
       "                    count       mean       std   min     25%    50%     75%   \n",
       "Region                                                                        \n",
       "North Central        12.0  78.783333  1.264072  76.9  77.825  79.20  79.450   \n",
       "Northeast             9.0  79.911111  0.985450  78.3  79.500  79.90  80.500   \n",
       "South                16.0  77.087500  1.750000  74.8  75.775  76.55  78.575   \n",
       "West                 13.0  79.761538  1.218290  78.1  78.800  79.80  80.400   \n",
       "\n",
       "                     \n",
       "                max  \n",
       "Region               \n",
       "North Central  81.0  \n",
       "Northeast      81.3  \n",
       "South          80.0  \n",
       "West           82.3  "
      ]
     },
     "execution_count": 29,
     "metadata": {},
     "output_type": "execute_result"
    }
   ],
   "source": [
    "### Basis statistics by region\n",
    "Life_exp_region.groupby(\"Region\").describe()"
   ]
  },
  {
   "cell_type": "code",
   "execution_count": 30,
   "metadata": {},
   "outputs": [
    {
     "data": {
      "image/png": "[encoded data removed]",
      "text/plain": [
       "<Figure size 432x288 with 1 Axes>"
      ]
     },
     "metadata": {},
     "output_type": "display_data"
    }
   ],
   "source": [
    "### boxplots per region\n",
    "sns.set_theme(style=\"ticks\", palette=\"pastel\")\n",
    "\n",
    "# Draw a nested boxplot to show Life expectancy per Region\n",
    "sns.boxplot(x=\"Region\", y=\"LifeExp2018\",\n",
    "            palette=[\"m\", \"g\"],\n",
    "            data=Life_exp_region)\n",
    "sns.despine(offset=10, trim=True)"
   ]
  },
  {
   "cell_type": "markdown",
   "metadata": {},
   "source": [
    "Comment: for Northeast and North Central we have non overlapping IQ ranges, so the respective distributions could be different in a statistically significant way. Same with Northeast and South, and West / South. Let us check:"
   ]
  },
  {
   "cell_type": "code",
   "execution_count": 34,
   "metadata": {},
   "outputs": [
    {
     "data": {
      "text/plain": [
       "Ttest_indResult(statistic=2.2970102770079537, pvalue=0.016595123418673884)"
      ]
     },
     "execution_count": 34,
     "metadata": {},
     "output_type": "execute_result"
    }
   ],
   "source": [
    "west = Life_exp_region.loc[Life_exp_region.Region == \"West\", \"LifeExp2018\"]\n",
    "northeast = Life_exp_region.loc[Life_exp_region.Region == \"Northeast\", \"LifeExp2018\"]\n",
    "northcentral = Life_exp_region.loc[Life_exp_region.Region == \"North Central\", \"LifeExp2018\"]\n",
    "south = Life_exp_region.loc[Life_exp_region.Region == \"South\", \"LifeExp2018\"]\n",
    "\n",
    "####\n",
    "#Test for NorthEast vs North central\n",
    "stats.ttest_ind(northeast, northcentral, equal_var = False, alternative ='greater')"
   ]
  },
  {
   "cell_type": "markdown",
   "metadata": {},
   "source": [
    "Comment: After having done a one sided Ttest - since we know from inspection, that the northeast's mean is greater than the northcenztral's mean, we can conlude at a 97.5% significance level - alpha = 0.025, that both means differ significantly.  "
   ]
  },
  {
   "cell_type": "code",
   "execution_count": 35,
   "metadata": {},
   "outputs": [
    {
     "data": {
      "text/plain": [
       "Ttest_indResult(statistic=5.1611453936894005, pvalue=1.5685179534674382e-05)"
      ]
     },
     "execution_count": 35,
     "metadata": {},
     "output_type": "execute_result"
    }
   ],
   "source": [
    "### for Northeast and South:\n",
    "stats.ttest_ind(northeast, south, equal_var = False, alternative ='greater')"
   ]
  },
  {
   "cell_type": "markdown",
   "metadata": {},
   "source": [
    "We got a pvalue of around 1.57 e-05 = 0.0000157, so we are really sure that both distributions do not stem from the same population. ( Significance level > 99.99% )"
   ]
  },
  {
   "cell_type": "code",
   "execution_count": 37,
   "metadata": {},
   "outputs": [
    {
     "data": {
      "text/plain": [
       "Ttest_indResult(statistic=2.9766912191755757, pvalue=0.003115137750741068)"
      ]
     },
     "execution_count": 37,
     "metadata": {},
     "output_type": "execute_result"
    }
   ],
   "source": [
    "## Finally we checK for North Central vs South\n",
    "stats.ttest_ind(northcentral, south, equal_var = False, alternative ='greater')"
   ]
  },
  {
   "cell_type": "markdown",
   "metadata": {},
   "source": [
    "We got a pvalue of around 0.003, so we are really sure that both distributions do not stem from the same population. At a significance level of 99,5 % with alpha = 0.005 we can reject the null hypthesis, that both distributions stem from the same population.\n",
    "( We reject the null hypothesis tahta the difference of both means is equal two zero, so we can assume, that we are faced with two different distributions )"
   ]
  },
  {
   "cell_type": "code",
   "execution_count": 41,
   "metadata": {},
   "outputs": [
    {
     "data": {
      "text/plain": [
       "Text(0.5, 1.0, 'Distribution of Life Expectancy per Region ( 2018 )')"
      ]
     },
     "execution_count": 41,
     "metadata": {},
     "output_type": "execute_result"
    },
    {
     "data": {
      "image/png": "[encoded data removed]",
      "text/plain": [
       "<Figure size 465.475x360 with 1 Axes>"
      ]
     },
     "metadata": {},
     "output_type": "display_data"
    }
   ],
   "source": [
    "### show the four distributions in one plot\n",
    "sns.displot(Life_exp_region, x=\"LifeExp2018\", hue=\"Region\", kind=\"kde\", fill=True)\n",
    "plt.xlabel(\"Life expectancy 2018\")\n",
    "plt.title(\"Distribution of Life Expectancy per Region ( 2018 )\")"
   ]
  },
  {
   "cell_type": "code",
   "execution_count": 66,
   "metadata": {
    "scrolled": false
   },
   "outputs": [
    {
     "data": {
      "image/png": "[encoded data removed]",
      "text/plain": [
       "<Figure size 432x288 with 1 Axes>"
      ]
     },
     "metadata": {},
     "output_type": "display_data"
    }
   ],
   "source": [
    "#### show overlapping region for South and North east\n",
    "## assume that both distributions are normal\n",
    "## adapted from https://stackoverflow.com/questions/53574569/fill-area-of-overlap-between-two-normal-distributions-in-seaborn-matplotlib\n",
    "ax = sns.distplot(south, fit_kws={\"color\":\"blue\"}, kde=False,\n",
    "        fit=stats.norm, hist=None, label=\"South\");\n",
    "ax = sns.distplot(northeast, fit_kws={\"color\":\"orange\"}, kde=False,\n",
    "        fit=stats.norm, hist=None, label=\"North East\");\n",
    "\n",
    "# Get the two lines from the axes to generate shading\n",
    "l1 = ax.lines[0]\n",
    "l2 = ax.lines[1]\n",
    "\n",
    "# Get the xy data from the lines so that we can shade\n",
    "x1, y1 = l1.get_xydata().T\n",
    "x2, y2 = l2.get_xydata().T\n",
    "\n",
    "xmin = max(x1.min(), x2.min())\n",
    "xmax = min(x1.max(), x2.max())\n",
    "x = np.linspace(xmin, xmax, 100)\n",
    "y1 = np.interp(x, x1, y1)\n",
    "y2 = np.interp(x, x2, y2)\n",
    "y = np.minimum(y1, y2)\n",
    "ax.fill_between(x, y, color=\"red\", alpha=0.3)\n",
    "\n",
    "plt.legend()\n",
    "plt.title(\"Overlapping Distributions\")\n",
    "plt.show()\n",
    "\n",
    "from statistics import NormalDist\n",
    "ovl = NormalDist(mu=south.mean(), sigma=south.std()).overlap(NormalDist(mu=northeast.mean(), sigma=northeast.std()))\n"
   ]
  },
  {
   "attachments": {
    "e131b74ad4940a763904822eed7b74a843d27ba0.svg": {
     "image/svg+xml": [
      "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"
     ]
    }
   },
   "cell_type": "markdown",
   "metadata": {},
   "source": [
    "The overlap coefficient, or Szymkiewicz–Simpson coefficient, is a similarity measure that measures the overlap between two finite sets. It is related to the Jaccard index and is defined as the size of the intersection divided by the smaller of the size of the two sets:\n",
    "![e131b74ad4940a763904822eed7b74a843d27ba0.svg](attachment:e131b74ad4940a763904822eed7b74a843d27ba0.svg)"
   ]
  },
  {
   "cell_type": "code",
   "execution_count": 73,
   "metadata": {},
   "outputs": [
    {
     "name": "stdout",
     "output_type": "stream",
     "text": [
      "For the overlapping distributions South and Northeast we got an OVL of 0.29 to two dec. places\n"
     ]
    }
   ],
   "source": [
    "print(f\"For the overlapping distributions South and Northeast we got an OVL of {round(ovl,2)} to two dec. places\")"
   ]
  }
 ],
 "metadata": {
  "kernelspec": {
   "display_name": "Python 3",
   "language": "python",
   "name": "python3"
  },
  "language_info": {
   "codemirror_mode": {
    "name": "ipython",
    "version": 3
   },
   "file_extension": ".py",
   "mimetype": "text/x-python",
   "name": "python",
   "nbconvert_exporter": "python",
   "pygments_lexer": "ipython3",
   "version": "3.8.3"
  }
 },
 "nbformat": 4,
 "nbformat_minor": 4
}

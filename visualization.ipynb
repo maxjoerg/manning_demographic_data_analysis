{
 "cells": [
  {
   "cell_type": "code",
   "execution_count": 1,
   "metadata": {},
   "outputs": [
    {
     "data": {
      "text/plain": [
       "['education_clean.csv',\n",
       " 'life_expectancy_clean.csv',\n",
       " 'crime_clean.csv',\n",
       " 'area_clean.csv',\n",
       " 'income_clean.csv',\n",
       " 'region_clean.csv']"
      ]
     },
     "execution_count": 1,
     "metadata": {},
     "output_type": "execute_result"
    }
   ],
   "source": [
    "import pandas as pd\n",
    "import matplotlib.pyplot as plt\n",
    "import warnings\n",
    "warnings.filterwarnings('ignore')\n",
    "\n",
    "file_names = [\"education_clean.csv\", \"life_expectancy_clean.csv\", \"crime_clean.csv\", \"area_clean.csv\", \"income_clean.csv\", \"region_clean.csv\"]\n",
    "file_names"
   ]
  },
  {
   "cell_type": "code",
   "execution_count": 2,
   "metadata": {},
   "outputs": [
    {
     "data": {
      "text/html": [
       "<div>\n",
       "<style scoped>\n",
       "    .dataframe tbody tr th:only-of-type {\n",
       "        vertical-align: middle;\n",
       "    }\n",
       "\n",
       "    .dataframe tbody tr th {\n",
       "        vertical-align: top;\n",
       "    }\n",
       "\n",
       "    .dataframe thead th {\n",
       "        text-align: right;\n",
       "    }\n",
       "</style>\n",
       "<table border=\"1\" class=\"dataframe\">\n",
       "  <thead>\n",
       "    <tr style=\"text-align: right;\">\n",
       "      <th></th>\n",
       "      <th>High_School_graduate_or_higher_pct</th>\n",
       "      <th>Bachelor_degree_or_higher_pct</th>\n",
       "      <th>Advanced_degree_pct</th>\n",
       "    </tr>\n",
       "    <tr>\n",
       "      <th>State</th>\n",
       "      <th></th>\n",
       "      <th></th>\n",
       "      <th></th>\n",
       "    </tr>\n",
       "  </thead>\n",
       "  <tbody>\n",
       "    <tr>\n",
       "      <th>Montana</th>\n",
       "      <td>93.0</td>\n",
       "      <td>30.7</td>\n",
       "      <td>10.1</td>\n",
       "    </tr>\n",
       "    <tr>\n",
       "      <th>New_Hampshire</th>\n",
       "      <td>92.8</td>\n",
       "      <td>36.0</td>\n",
       "      <td>13.8</td>\n",
       "    </tr>\n",
       "    <tr>\n",
       "      <th>Minnesota</th>\n",
       "      <td>92.8</td>\n",
       "      <td>34.8</td>\n",
       "      <td>11.8</td>\n",
       "    </tr>\n",
       "    <tr>\n",
       "      <th>Wyoming</th>\n",
       "      <td>92.8</td>\n",
       "      <td>26.7</td>\n",
       "      <td>9.3</td>\n",
       "    </tr>\n",
       "    <tr>\n",
       "      <th>Alaska</th>\n",
       "      <td>92.4</td>\n",
       "      <td>29.0</td>\n",
       "      <td>10.4</td>\n",
       "    </tr>\n",
       "  </tbody>\n",
       "</table>\n",
       "</div>"
      ],
      "text/plain": [
       "               High_School_graduate_or_higher_pct  \\\n",
       "State                                               \n",
       "Montana                                      93.0   \n",
       "New_Hampshire                                92.8   \n",
       "Minnesota                                    92.8   \n",
       "Wyoming                                      92.8   \n",
       "Alaska                                       92.4   \n",
       "\n",
       "               Bachelor_degree_or_higher_pct  Advanced_degree_pct  \n",
       "State                                                              \n",
       "Montana                                 30.7                 10.1  \n",
       "New_Hampshire                           36.0                 13.8  \n",
       "Minnesota                               34.8                 11.8  \n",
       "Wyoming                                 26.7                  9.3  \n",
       "Alaska                                  29.0                 10.4  "
      ]
     },
     "execution_count": 2,
     "metadata": {},
     "output_type": "execute_result"
    }
   ],
   "source": [
    "path = \"./data/\"\n",
    "education = pd.read_csv(path + file_names[0], delimiter=',', index_col = 'State')\n",
    "education.head(5)"
   ]
  },
  {
   "cell_type": "code",
   "execution_count": 3,
   "metadata": {},
   "outputs": [
    {
     "data": {
      "text/html": [
       "<div>\n",
       "<style scoped>\n",
       "    .dataframe tbody tr th:only-of-type {\n",
       "        vertical-align: middle;\n",
       "    }\n",
       "\n",
       "    .dataframe tbody tr th {\n",
       "        vertical-align: top;\n",
       "    }\n",
       "\n",
       "    .dataframe thead th {\n",
       "        text-align: right;\n",
       "    }\n",
       "</style>\n",
       "<table border=\"1\" class=\"dataframe\">\n",
       "  <thead>\n",
       "    <tr style=\"text-align: right;\">\n",
       "      <th></th>\n",
       "      <th>LifeExp2018</th>\n",
       "      <th>LifeExp2010</th>\n",
       "      <th>MaleLifeExp</th>\n",
       "      <th>FemLifeExp</th>\n",
       "    </tr>\n",
       "    <tr>\n",
       "      <th>State</th>\n",
       "      <th></th>\n",
       "      <th></th>\n",
       "      <th></th>\n",
       "      <th></th>\n",
       "    </tr>\n",
       "  </thead>\n",
       "  <tbody>\n",
       "    <tr>\n",
       "      <th>Hawaii</th>\n",
       "      <td>82.3</td>\n",
       "      <td>81.4</td>\n",
       "      <td>79.3</td>\n",
       "      <td>85.3</td>\n",
       "    </tr>\n",
       "    <tr>\n",
       "      <th>California</th>\n",
       "      <td>81.6</td>\n",
       "      <td>80.6</td>\n",
       "      <td>79.4</td>\n",
       "      <td>83.8</td>\n",
       "    </tr>\n",
       "    <tr>\n",
       "      <th>Puerto_Rico</th>\n",
       "      <td>81.3</td>\n",
       "      <td>78.7</td>\n",
       "      <td>77.6</td>\n",
       "      <td>84.7</td>\n",
       "    </tr>\n",
       "    <tr>\n",
       "      <th>New_York</th>\n",
       "      <td>81.3</td>\n",
       "      <td>80.3</td>\n",
       "      <td>79.0</td>\n",
       "      <td>83.4</td>\n",
       "    </tr>\n",
       "    <tr>\n",
       "      <th>U.S._Virgin_Islands</th>\n",
       "      <td>81.2</td>\n",
       "      <td>79.2</td>\n",
       "      <td>76.3</td>\n",
       "      <td>85.6</td>\n",
       "    </tr>\n",
       "  </tbody>\n",
       "</table>\n",
       "</div>"
      ],
      "text/plain": [
       "                     LifeExp2018  LifeExp2010  MaleLifeExp  FemLifeExp\n",
       "State                                                                 \n",
       "Hawaii                      82.3         81.4         79.3        85.3\n",
       "California                  81.6         80.6         79.4        83.8\n",
       "Puerto_Rico                 81.3         78.7         77.6        84.7\n",
       "New_York                    81.3         80.3         79.0        83.4\n",
       "U.S._Virgin_Islands         81.2         79.2         76.3        85.6"
      ]
     },
     "execution_count": 3,
     "metadata": {},
     "output_type": "execute_result"
    }
   ],
   "source": [
    "life_expectancy = pd.read_csv(path + file_names[1], delimiter=',', index_col = 'State')\n",
    "life_expectancy.head(5)"
   ]
  },
  {
   "cell_type": "code",
   "execution_count": 4,
   "metadata": {},
   "outputs": [
    {
     "data": {
      "text/html": [
       "<div>\n",
       "<style scoped>\n",
       "    .dataframe tbody tr th:only-of-type {\n",
       "        vertical-align: middle;\n",
       "    }\n",
       "\n",
       "    .dataframe tbody tr th {\n",
       "        vertical-align: top;\n",
       "    }\n",
       "\n",
       "    .dataframe thead th {\n",
       "        text-align: right;\n",
       "    }\n",
       "</style>\n",
       "<table border=\"1\" class=\"dataframe\">\n",
       "  <thead>\n",
       "    <tr style=\"text-align: right;\">\n",
       "      <th></th>\n",
       "      <th>Population_2015</th>\n",
       "      <th>Murders_manslaughter_2015</th>\n",
       "      <th>Murders_2015</th>\n",
       "      <th>Gun_Murders_2015</th>\n",
       "      <th>Gun_Ownership_2013</th>\n",
       "      <th>Murder_Manslaughter_Rate_per_100000_2015</th>\n",
       "      <th>Murder_Rate_per_100000_2015</th>\n",
       "      <th>Gun_Murder_Rate_per_100000_2015</th>\n",
       "    </tr>\n",
       "    <tr>\n",
       "      <th>State</th>\n",
       "      <th></th>\n",
       "      <th></th>\n",
       "      <th></th>\n",
       "      <th></th>\n",
       "      <th></th>\n",
       "      <th></th>\n",
       "      <th></th>\n",
       "      <th></th>\n",
       "    </tr>\n",
       "  </thead>\n",
       "  <tbody>\n",
       "    <tr>\n",
       "      <th>Alabama</th>\n",
       "      <td>4853875</td>\n",
       "      <td>348</td>\n",
       "      <td>NaN</td>\n",
       "      <td>NaN</td>\n",
       "      <td>48.9</td>\n",
       "      <td>7.2</td>\n",
       "      <td>NaN</td>\n",
       "      <td>NaN</td>\n",
       "    </tr>\n",
       "    <tr>\n",
       "      <th>Alaska</th>\n",
       "      <td>737709</td>\n",
       "      <td>59</td>\n",
       "      <td>57.0</td>\n",
       "      <td>39.0</td>\n",
       "      <td>61.7</td>\n",
       "      <td>8.0</td>\n",
       "      <td>7.7</td>\n",
       "      <td>5.3</td>\n",
       "    </tr>\n",
       "    <tr>\n",
       "      <th>Arizona</th>\n",
       "      <td>6817565</td>\n",
       "      <td>306</td>\n",
       "      <td>278.0</td>\n",
       "      <td>171.0</td>\n",
       "      <td>32.3</td>\n",
       "      <td>4.5</td>\n",
       "      <td>4.1</td>\n",
       "      <td>2.5</td>\n",
       "    </tr>\n",
       "    <tr>\n",
       "      <th>Arkansas</th>\n",
       "      <td>2977853</td>\n",
       "      <td>181</td>\n",
       "      <td>164.0</td>\n",
       "      <td>110.0</td>\n",
       "      <td>57.9</td>\n",
       "      <td>6.1</td>\n",
       "      <td>5.5</td>\n",
       "      <td>3.7</td>\n",
       "    </tr>\n",
       "    <tr>\n",
       "      <th>California</th>\n",
       "      <td>38993940</td>\n",
       "      <td>1861</td>\n",
       "      <td>1861.0</td>\n",
       "      <td>1275.0</td>\n",
       "      <td>20.1</td>\n",
       "      <td>4.8</td>\n",
       "      <td>4.8</td>\n",
       "      <td>3.3</td>\n",
       "    </tr>\n",
       "  </tbody>\n",
       "</table>\n",
       "</div>"
      ],
      "text/plain": [
       "            Population_2015  Murders_manslaughter_2015  Murders_2015  \\\n",
       "State                                                                  \n",
       "Alabama             4853875                        348           NaN   \n",
       "Alaska               737709                         59          57.0   \n",
       "Arizona             6817565                        306         278.0   \n",
       "Arkansas            2977853                        181         164.0   \n",
       "California         38993940                       1861        1861.0   \n",
       "\n",
       "            Gun_Murders_2015  Gun_Ownership_2013  \\\n",
       "State                                              \n",
       "Alabama                  NaN                48.9   \n",
       "Alaska                  39.0                61.7   \n",
       "Arizona                171.0                32.3   \n",
       "Arkansas               110.0                57.9   \n",
       "California            1275.0                20.1   \n",
       "\n",
       "            Murder_Manslaughter_Rate_per_100000_2015  \\\n",
       "State                                                  \n",
       "Alabama                                          7.2   \n",
       "Alaska                                           8.0   \n",
       "Arizona                                          4.5   \n",
       "Arkansas                                         6.1   \n",
       "California                                       4.8   \n",
       "\n",
       "            Murder_Rate_per_100000_2015  Gun_Murder_Rate_per_100000_2015  \n",
       "State                                                                     \n",
       "Alabama                             NaN                              NaN  \n",
       "Alaska                              7.7                              5.3  \n",
       "Arizona                             4.1                              2.5  \n",
       "Arkansas                            5.5                              3.7  \n",
       "California                          4.8                              3.3  "
      ]
     },
     "execution_count": 4,
     "metadata": {},
     "output_type": "execute_result"
    }
   ],
   "source": [
    "crime = pd.read_csv(path + file_names[2], delimiter=',', index_col = 'State')\n",
    "crime.head(5)"
   ]
  },
  {
   "cell_type": "code",
   "execution_count": 5,
   "metadata": {},
   "outputs": [
    {
     "data": {
      "text/html": [
       "<div>\n",
       "<style scoped>\n",
       "    .dataframe tbody tr th:only-of-type {\n",
       "        vertical-align: middle;\n",
       "    }\n",
       "\n",
       "    .dataframe tbody tr th {\n",
       "        vertical-align: top;\n",
       "    }\n",
       "\n",
       "    .dataframe thead th {\n",
       "        text-align: right;\n",
       "    }\n",
       "</style>\n",
       "<table border=\"1\" class=\"dataframe\">\n",
       "  <thead>\n",
       "    <tr style=\"text-align: right;\">\n",
       "      <th></th>\n",
       "      <th>TotalSqMi</th>\n",
       "      <th>TotalKmQ</th>\n",
       "      <th>LandSqMi</th>\n",
       "      <th>LandKmQ</th>\n",
       "      <th>LandPer</th>\n",
       "      <th>WaterSqMi</th>\n",
       "      <th>WaterKmQ</th>\n",
       "      <th>WaterPer</th>\n",
       "    </tr>\n",
       "    <tr>\n",
       "      <th>State</th>\n",
       "      <th></th>\n",
       "      <th></th>\n",
       "      <th></th>\n",
       "      <th></th>\n",
       "      <th></th>\n",
       "      <th></th>\n",
       "      <th></th>\n",
       "      <th></th>\n",
       "    </tr>\n",
       "  </thead>\n",
       "  <tbody>\n",
       "    <tr>\n",
       "      <th>Alaska</th>\n",
       "      <td>665384.04</td>\n",
       "      <td>1723337</td>\n",
       "      <td>570640.95</td>\n",
       "      <td>1477953</td>\n",
       "      <td>85.76</td>\n",
       "      <td>94743.10</td>\n",
       "      <td>245384</td>\n",
       "      <td>14.24</td>\n",
       "    </tr>\n",
       "    <tr>\n",
       "      <th>Texas</th>\n",
       "      <td>268596.46</td>\n",
       "      <td>695662</td>\n",
       "      <td>261231.71</td>\n",
       "      <td>676587</td>\n",
       "      <td>97.26</td>\n",
       "      <td>7364.75</td>\n",
       "      <td>19075</td>\n",
       "      <td>2.74</td>\n",
       "    </tr>\n",
       "    <tr>\n",
       "      <th>California</th>\n",
       "      <td>163694.74</td>\n",
       "      <td>423967</td>\n",
       "      <td>155779.22</td>\n",
       "      <td>403466</td>\n",
       "      <td>95.16</td>\n",
       "      <td>7915.52</td>\n",
       "      <td>20501</td>\n",
       "      <td>4.84</td>\n",
       "    </tr>\n",
       "    <tr>\n",
       "      <th>Montana</th>\n",
       "      <td>147039.71</td>\n",
       "      <td>380831</td>\n",
       "      <td>145545.80</td>\n",
       "      <td>376962</td>\n",
       "      <td>98.98</td>\n",
       "      <td>1493.91</td>\n",
       "      <td>3869</td>\n",
       "      <td>1.02</td>\n",
       "    </tr>\n",
       "    <tr>\n",
       "      <th>New_Mexico</th>\n",
       "      <td>121590.30</td>\n",
       "      <td>314917</td>\n",
       "      <td>121298.15</td>\n",
       "      <td>314161</td>\n",
       "      <td>99.76</td>\n",
       "      <td>292.15</td>\n",
       "      <td>757</td>\n",
       "      <td>0.24</td>\n",
       "    </tr>\n",
       "  </tbody>\n",
       "</table>\n",
       "</div>"
      ],
      "text/plain": [
       "            TotalSqMi  TotalKmQ   LandSqMi  LandKmQ  LandPer  WaterSqMi  \\\n",
       "State                                                                     \n",
       "Alaska      665384.04   1723337  570640.95  1477953    85.76   94743.10   \n",
       "Texas       268596.46    695662  261231.71   676587    97.26    7364.75   \n",
       "California  163694.74    423967  155779.22   403466    95.16    7915.52   \n",
       "Montana     147039.71    380831  145545.80   376962    98.98    1493.91   \n",
       "New_Mexico  121590.30    314917  121298.15   314161    99.76     292.15   \n",
       "\n",
       "            WaterKmQ  WaterPer  \n",
       "State                           \n",
       "Alaska        245384     14.24  \n",
       "Texas          19075      2.74  \n",
       "California     20501      4.84  \n",
       "Montana         3869      1.02  \n",
       "New_Mexico       757      0.24  "
      ]
     },
     "execution_count": 5,
     "metadata": {},
     "output_type": "execute_result"
    }
   ],
   "source": [
    "area = pd.read_csv(path + file_names[3], delimiter=',', index_col = 'State')\n",
    "area.head(5)"
   ]
  },
  {
   "cell_type": "code",
   "execution_count": 6,
   "metadata": {},
   "outputs": [
    {
     "data": {
      "text/html": [
       "<div>\n",
       "<style scoped>\n",
       "    .dataframe tbody tr th:only-of-type {\n",
       "        vertical-align: middle;\n",
       "    }\n",
       "\n",
       "    .dataframe tbody tr th {\n",
       "        vertical-align: top;\n",
       "    }\n",
       "\n",
       "    .dataframe thead th {\n",
       "        text-align: right;\n",
       "    }\n",
       "</style>\n",
       "<table border=\"1\" class=\"dataframe\">\n",
       "  <thead>\n",
       "    <tr style=\"text-align: right;\">\n",
       "      <th></th>\n",
       "      <th>Income2017</th>\n",
       "      <th>Income2016</th>\n",
       "      <th>Income2015</th>\n",
       "      <th>Income2014</th>\n",
       "      <th>Income2013</th>\n",
       "      <th>Income2012</th>\n",
       "      <th>Income2011</th>\n",
       "      <th>Income2010</th>\n",
       "      <th>Income2009</th>\n",
       "      <th>Income2008</th>\n",
       "      <th>Income2007</th>\n",
       "    </tr>\n",
       "    <tr>\n",
       "      <th>State</th>\n",
       "      <th></th>\n",
       "      <th></th>\n",
       "      <th></th>\n",
       "      <th></th>\n",
       "      <th></th>\n",
       "      <th></th>\n",
       "      <th></th>\n",
       "      <th></th>\n",
       "      <th></th>\n",
       "      <th></th>\n",
       "      <th></th>\n",
       "    </tr>\n",
       "  </thead>\n",
       "  <tbody>\n",
       "    <tr>\n",
       "      <th>District_of_Columbia</th>\n",
       "      <td>82336</td>\n",
       "      <td>75506</td>\n",
       "      <td>75628</td>\n",
       "      <td>71648</td>\n",
       "      <td>67572</td>\n",
       "      <td>65246</td>\n",
       "      <td>66583</td>\n",
       "      <td>63124</td>\n",
       "      <td>59290</td>\n",
       "      <td>57936</td>\n",
       "      <td>54317</td>\n",
       "    </tr>\n",
       "    <tr>\n",
       "      <th>Maryland</th>\n",
       "      <td>80776</td>\n",
       "      <td>78945</td>\n",
       "      <td>75847</td>\n",
       "      <td>73971</td>\n",
       "      <td>72483</td>\n",
       "      <td>71836</td>\n",
       "      <td>70004</td>\n",
       "      <td>68854</td>\n",
       "      <td>69272</td>\n",
       "      <td>70545</td>\n",
       "      <td>68080</td>\n",
       "    </tr>\n",
       "    <tr>\n",
       "      <th>New_Jersey</th>\n",
       "      <td>80088</td>\n",
       "      <td>76126</td>\n",
       "      <td>72222</td>\n",
       "      <td>72919</td>\n",
       "      <td>70165</td>\n",
       "      <td>69667</td>\n",
       "      <td>67458</td>\n",
       "      <td>67681</td>\n",
       "      <td>68342</td>\n",
       "      <td>70373</td>\n",
       "      <td>67035</td>\n",
       "    </tr>\n",
       "    <tr>\n",
       "      <th>Hawaii</th>\n",
       "      <td>77765</td>\n",
       "      <td>74511</td>\n",
       "      <td>73486</td>\n",
       "      <td>69592</td>\n",
       "      <td>68020</td>\n",
       "      <td>66259</td>\n",
       "      <td>61821</td>\n",
       "      <td>63030</td>\n",
       "      <td>64098</td>\n",
       "      <td>67214</td>\n",
       "      <td>63746</td>\n",
       "    </tr>\n",
       "    <tr>\n",
       "      <th>Massachusetts</th>\n",
       "      <td>77385</td>\n",
       "      <td>75297</td>\n",
       "      <td>70628</td>\n",
       "      <td>69160</td>\n",
       "      <td>66768</td>\n",
       "      <td>65339</td>\n",
       "      <td>62859</td>\n",
       "      <td>62072</td>\n",
       "      <td>64081</td>\n",
       "      <td>65401</td>\n",
       "      <td>62365</td>\n",
       "    </tr>\n",
       "  </tbody>\n",
       "</table>\n",
       "</div>"
      ],
      "text/plain": [
       "                      Income2017  Income2016  Income2015  Income2014  \\\n",
       "State                                                                  \n",
       "District_of_Columbia       82336       75506       75628       71648   \n",
       "Maryland                   80776       78945       75847       73971   \n",
       "New_Jersey                 80088       76126       72222       72919   \n",
       "Hawaii                     77765       74511       73486       69592   \n",
       "Massachusetts              77385       75297       70628       69160   \n",
       "\n",
       "                      Income2013  Income2012  Income2011  Income2010  \\\n",
       "State                                                                  \n",
       "District_of_Columbia       67572       65246       66583       63124   \n",
       "Maryland                   72483       71836       70004       68854   \n",
       "New_Jersey                 70165       69667       67458       67681   \n",
       "Hawaii                     68020       66259       61821       63030   \n",
       "Massachusetts              66768       65339       62859       62072   \n",
       "\n",
       "                      Income2009  Income2008  Income2007  \n",
       "State                                                     \n",
       "District_of_Columbia       59290       57936       54317  \n",
       "Maryland                   69272       70545       68080  \n",
       "New_Jersey                 68342       70373       67035  \n",
       "Hawaii                     64098       67214       63746  \n",
       "Massachusetts              64081       65401       62365  "
      ]
     },
     "execution_count": 6,
     "metadata": {},
     "output_type": "execute_result"
    }
   ],
   "source": [
    "income = pd.read_csv(path + file_names[4], delimiter=',', index_col = 'State')\n",
    "income.head(5)"
   ]
  },
  {
   "cell_type": "code",
   "execution_count": 7,
   "metadata": {},
   "outputs": [
    {
     "data": {
      "text/html": [
       "<div>\n",
       "<style scoped>\n",
       "    .dataframe tbody tr th:only-of-type {\n",
       "        vertical-align: middle;\n",
       "    }\n",
       "\n",
       "    .dataframe tbody tr th {\n",
       "        vertical-align: top;\n",
       "    }\n",
       "\n",
       "    .dataframe thead th {\n",
       "        text-align: right;\n",
       "    }\n",
       "</style>\n",
       "<table border=\"1\" class=\"dataframe\">\n",
       "  <thead>\n",
       "    <tr style=\"text-align: right;\">\n",
       "      <th></th>\n",
       "      <th>Abb</th>\n",
       "      <th>Region</th>\n",
       "      <th>Division</th>\n",
       "    </tr>\n",
       "    <tr>\n",
       "      <th>State</th>\n",
       "      <th></th>\n",
       "      <th></th>\n",
       "      <th></th>\n",
       "    </tr>\n",
       "  </thead>\n",
       "  <tbody>\n",
       "    <tr>\n",
       "      <th>Alabama</th>\n",
       "      <td>AL</td>\n",
       "      <td>South</td>\n",
       "      <td>East South Central</td>\n",
       "    </tr>\n",
       "    <tr>\n",
       "      <th>Alaska</th>\n",
       "      <td>AK</td>\n",
       "      <td>West</td>\n",
       "      <td>Pacific</td>\n",
       "    </tr>\n",
       "    <tr>\n",
       "      <th>Arizona</th>\n",
       "      <td>AZ</td>\n",
       "      <td>West</td>\n",
       "      <td>Mountain</td>\n",
       "    </tr>\n",
       "    <tr>\n",
       "      <th>Arkansas</th>\n",
       "      <td>AR</td>\n",
       "      <td>South</td>\n",
       "      <td>west south central</td>\n",
       "    </tr>\n",
       "    <tr>\n",
       "      <th>California</th>\n",
       "      <td>CA</td>\n",
       "      <td>West</td>\n",
       "      <td>Pacific</td>\n",
       "    </tr>\n",
       "  </tbody>\n",
       "</table>\n",
       "</div>"
      ],
      "text/plain": [
       "           Abb Region            Division\n",
       "State                                    \n",
       "Alabama     AL  South  East South Central\n",
       "Alaska      AK   West             Pacific\n",
       "Arizona     AZ   West            Mountain\n",
       "Arkansas    AR  South  west south central\n",
       "California  CA   West             Pacific"
      ]
     },
     "execution_count": 7,
     "metadata": {},
     "output_type": "execute_result"
    }
   ],
   "source": [
    "region = pd.read_csv(path + file_names[5], delimiter=',', index_col = 'State')\n",
    "region.head(5)"
   ]
  },
  {
   "cell_type": "code",
   "execution_count": 8,
   "metadata": {},
   "outputs": [
    {
     "data": {
      "text/html": [
       "<div>\n",
       "<style scoped>\n",
       "    .dataframe tbody tr th:only-of-type {\n",
       "        vertical-align: middle;\n",
       "    }\n",
       "\n",
       "    .dataframe tbody tr th {\n",
       "        vertical-align: top;\n",
       "    }\n",
       "\n",
       "    .dataframe thead th {\n",
       "        text-align: right;\n",
       "    }\n",
       "</style>\n",
       "<table border=\"1\" class=\"dataframe\">\n",
       "  <thead>\n",
       "    <tr style=\"text-align: right;\">\n",
       "      <th></th>\n",
       "      <th>High_School_graduate_or_higher_pct</th>\n",
       "      <th>Bachelor_degree_or_higher_pct</th>\n",
       "      <th>Advanced_degree_pct</th>\n",
       "      <th>LifeExp2018</th>\n",
       "      <th>LifeExp2010</th>\n",
       "      <th>MaleLifeExp</th>\n",
       "      <th>FemLifeExp</th>\n",
       "      <th>Population_2015</th>\n",
       "      <th>Murders_manslaughter_2015</th>\n",
       "      <th>Murders_2015</th>\n",
       "      <th>...</th>\n",
       "      <th>Income2013</th>\n",
       "      <th>Income2012</th>\n",
       "      <th>Income2011</th>\n",
       "      <th>Income2010</th>\n",
       "      <th>Income2009</th>\n",
       "      <th>Income2008</th>\n",
       "      <th>Income2007</th>\n",
       "      <th>Abb</th>\n",
       "      <th>Region</th>\n",
       "      <th>Division</th>\n",
       "    </tr>\n",
       "    <tr>\n",
       "      <th>State</th>\n",
       "      <th></th>\n",
       "      <th></th>\n",
       "      <th></th>\n",
       "      <th></th>\n",
       "      <th></th>\n",
       "      <th></th>\n",
       "      <th></th>\n",
       "      <th></th>\n",
       "      <th></th>\n",
       "      <th></th>\n",
       "      <th></th>\n",
       "      <th></th>\n",
       "      <th></th>\n",
       "      <th></th>\n",
       "      <th></th>\n",
       "      <th></th>\n",
       "      <th></th>\n",
       "      <th></th>\n",
       "      <th></th>\n",
       "      <th></th>\n",
       "      <th></th>\n",
       "    </tr>\n",
       "  </thead>\n",
       "  <tbody>\n",
       "    <tr>\n",
       "      <th>Montana</th>\n",
       "      <td>93.0</td>\n",
       "      <td>30.7</td>\n",
       "      <td>10.1</td>\n",
       "      <td>78.8</td>\n",
       "      <td>78.5</td>\n",
       "      <td>76.8</td>\n",
       "      <td>81.0</td>\n",
       "      <td>1032073.0</td>\n",
       "      <td>36.0</td>\n",
       "      <td>36.0</td>\n",
       "      <td>...</td>\n",
       "      <td>46972.0</td>\n",
       "      <td>45076.0</td>\n",
       "      <td>44222.0</td>\n",
       "      <td>42666.0</td>\n",
       "      <td>42322.0</td>\n",
       "      <td>43654.0</td>\n",
       "      <td>43531.0</td>\n",
       "      <td>MT</td>\n",
       "      <td>West</td>\n",
       "      <td>Mountain</td>\n",
       "    </tr>\n",
       "    <tr>\n",
       "      <th>New_Hampshire</th>\n",
       "      <td>92.8</td>\n",
       "      <td>36.0</td>\n",
       "      <td>13.8</td>\n",
       "      <td>79.5</td>\n",
       "      <td>80.3</td>\n",
       "      <td>77.5</td>\n",
       "      <td>81.4</td>\n",
       "      <td>1330111.0</td>\n",
       "      <td>14.0</td>\n",
       "      <td>14.0</td>\n",
       "      <td>...</td>\n",
       "      <td>64230.0</td>\n",
       "      <td>63280.0</td>\n",
       "      <td>62647.0</td>\n",
       "      <td>61042.0</td>\n",
       "      <td>60567.0</td>\n",
       "      <td>63731.0</td>\n",
       "      <td>62369.0</td>\n",
       "      <td>NH</td>\n",
       "      <td>Northeast</td>\n",
       "      <td>New England</td>\n",
       "    </tr>\n",
       "    <tr>\n",
       "      <th>Minnesota</th>\n",
       "      <td>92.8</td>\n",
       "      <td>34.8</td>\n",
       "      <td>11.8</td>\n",
       "      <td>81.0</td>\n",
       "      <td>80.8</td>\n",
       "      <td>79.0</td>\n",
       "      <td>83.0</td>\n",
       "      <td>5482435.0</td>\n",
       "      <td>133.0</td>\n",
       "      <td>133.0</td>\n",
       "      <td>...</td>\n",
       "      <td>60702.0</td>\n",
       "      <td>58906.0</td>\n",
       "      <td>56954.0</td>\n",
       "      <td>55459.0</td>\n",
       "      <td>55616.0</td>\n",
       "      <td>57288.0</td>\n",
       "      <td>55802.0</td>\n",
       "      <td>MN</td>\n",
       "      <td>North Central</td>\n",
       "      <td>West North Central</td>\n",
       "    </tr>\n",
       "    <tr>\n",
       "      <th>Wyoming</th>\n",
       "      <td>92.8</td>\n",
       "      <td>26.7</td>\n",
       "      <td>9.3</td>\n",
       "      <td>79.0</td>\n",
       "      <td>78.1</td>\n",
       "      <td>77.1</td>\n",
       "      <td>81.1</td>\n",
       "      <td>586107.0</td>\n",
       "      <td>16.0</td>\n",
       "      <td>16.0</td>\n",
       "      <td>...</td>\n",
       "      <td>58752.0</td>\n",
       "      <td>54901.0</td>\n",
       "      <td>56322.0</td>\n",
       "      <td>53512.0</td>\n",
       "      <td>52664.0</td>\n",
       "      <td>53207.0</td>\n",
       "      <td>51731.0</td>\n",
       "      <td>WY</td>\n",
       "      <td>West</td>\n",
       "      <td>Mountain</td>\n",
       "    </tr>\n",
       "    <tr>\n",
       "      <th>Alaska</th>\n",
       "      <td>92.4</td>\n",
       "      <td>29.0</td>\n",
       "      <td>10.4</td>\n",
       "      <td>78.8</td>\n",
       "      <td>78.0</td>\n",
       "      <td>76.7</td>\n",
       "      <td>81.2</td>\n",
       "      <td>737709.0</td>\n",
       "      <td>59.0</td>\n",
       "      <td>57.0</td>\n",
       "      <td>...</td>\n",
       "      <td>72237.0</td>\n",
       "      <td>67712.0</td>\n",
       "      <td>67825.0</td>\n",
       "      <td>64576.0</td>\n",
       "      <td>66953.0</td>\n",
       "      <td>68460.0</td>\n",
       "      <td>64333.0</td>\n",
       "      <td>AK</td>\n",
       "      <td>West</td>\n",
       "      <td>Pacific</td>\n",
       "    </tr>\n",
       "  </tbody>\n",
       "</table>\n",
       "<p>5 rows × 37 columns</p>\n",
       "</div>"
      ],
      "text/plain": [
       "               High_School_graduate_or_higher_pct  \\\n",
       "State                                               \n",
       "Montana                                      93.0   \n",
       "New_Hampshire                                92.8   \n",
       "Minnesota                                    92.8   \n",
       "Wyoming                                      92.8   \n",
       "Alaska                                       92.4   \n",
       "\n",
       "               Bachelor_degree_or_higher_pct  Advanced_degree_pct  \\\n",
       "State                                                               \n",
       "Montana                                 30.7                 10.1   \n",
       "New_Hampshire                           36.0                 13.8   \n",
       "Minnesota                               34.8                 11.8   \n",
       "Wyoming                                 26.7                  9.3   \n",
       "Alaska                                  29.0                 10.4   \n",
       "\n",
       "               LifeExp2018  LifeExp2010  MaleLifeExp  FemLifeExp  \\\n",
       "State                                                              \n",
       "Montana               78.8         78.5         76.8        81.0   \n",
       "New_Hampshire         79.5         80.3         77.5        81.4   \n",
       "Minnesota             81.0         80.8         79.0        83.0   \n",
       "Wyoming               79.0         78.1         77.1        81.1   \n",
       "Alaska                78.8         78.0         76.7        81.2   \n",
       "\n",
       "               Population_2015  Murders_manslaughter_2015  Murders_2015  ...  \\\n",
       "State                                                                    ...   \n",
       "Montana              1032073.0                       36.0          36.0  ...   \n",
       "New_Hampshire        1330111.0                       14.0          14.0  ...   \n",
       "Minnesota            5482435.0                      133.0         133.0  ...   \n",
       "Wyoming               586107.0                       16.0          16.0  ...   \n",
       "Alaska                737709.0                       59.0          57.0  ...   \n",
       "\n",
       "               Income2013  Income2012  Income2011  Income2010  Income2009  \\\n",
       "State                                                                       \n",
       "Montana           46972.0     45076.0     44222.0     42666.0     42322.0   \n",
       "New_Hampshire     64230.0     63280.0     62647.0     61042.0     60567.0   \n",
       "Minnesota         60702.0     58906.0     56954.0     55459.0     55616.0   \n",
       "Wyoming           58752.0     54901.0     56322.0     53512.0     52664.0   \n",
       "Alaska            72237.0     67712.0     67825.0     64576.0     66953.0   \n",
       "\n",
       "               Income2008  Income2007  Abb         Region            Division  \n",
       "State                                                                          \n",
       "Montana           43654.0     43531.0   MT           West            Mountain  \n",
       "New_Hampshire     63731.0     62369.0   NH      Northeast         New England  \n",
       "Minnesota         57288.0     55802.0   MN  North Central  West North Central  \n",
       "Wyoming           53207.0     51731.0   WY           West            Mountain  \n",
       "Alaska            68460.0     64333.0   AK           West             Pacific  \n",
       "\n",
       "[5 rows x 37 columns]"
      ]
     },
     "execution_count": 8,
     "metadata": {},
     "output_type": "execute_result"
    }
   ],
   "source": [
    "### try to join alll dfs, check for row number\n",
    "import functools\n",
    "data_frames = [education, life_expectancy,crime, area, income, region]\n",
    "df_all = functools.reduce(lambda  left,right: pd.merge(left,right,on=['State'],\n",
    "                                            how='outer'), data_frames)\n",
    "df_all.head(5)"
   ]
  },
  {
   "cell_type": "code",
   "execution_count": 9,
   "metadata": {},
   "outputs": [
    {
     "data": {
      "text/plain": [
       "High_School_graduate_or_higher_pct          5\n",
       "Bachelor_degree_or_higher_pct               5\n",
       "Advanced_degree_pct                         5\n",
       "LifeExp2018                                 0\n",
       "LifeExp2010                                 0\n",
       "MaleLifeExp                                 0\n",
       "FemLifeExp                                  0\n",
       "Population_2015                             5\n",
       "Murders_manslaughter_2015                   5\n",
       "Murders_2015                                7\n",
       "Gun_Murders_2015                            7\n",
       "Gun_Ownership_2013                          5\n",
       "Murder_Manslaughter_Rate_per_100000_2015    5\n",
       "Murder_Rate_per_100000_2015                 7\n",
       "Gun_Murder_Rate_per_100000_2015             7\n",
       "TotalSqMi                                   6\n",
       "TotalKmQ                                    6\n",
       "LandSqMi                                    6\n",
       "LandKmQ                                     6\n",
       "LandPer                                     6\n",
       "WaterSqMi                                   6\n",
       "WaterKmQ                                    6\n",
       "WaterPer                                    6\n",
       "Income2017                                  5\n",
       "Income2016                                  5\n",
       "Income2015                                  5\n",
       "Income2014                                  5\n",
       "Income2013                                  5\n",
       "Income2012                                  5\n",
       "Income2011                                  5\n",
       "Income2010                                  5\n",
       "Income2009                                  5\n",
       "Income2008                                  5\n",
       "Income2007                                  5\n",
       "Abb                                         6\n",
       "Region                                      6\n",
       "Division                                    6\n",
       "dtype: int64"
      ]
     },
     "execution_count": 9,
     "metadata": {},
     "output_type": "execute_result"
    }
   ],
   "source": [
    "#any naNs ?\n",
    "df_all.isna().sum()"
   ]
  },
  {
   "cell_type": "code",
   "execution_count": 10,
   "metadata": {},
   "outputs": [
    {
     "data": {
      "text/plain": [
       "Index(['Montana', 'New_Hampshire', 'Minnesota', 'Wyoming', 'Alaska',\n",
       "       'North_Dakota', 'Vermont', 'Maine', 'Iowa', 'Utah', 'Wisconsin',\n",
       "       'Hawaii', 'South_Dakota', 'Colorado', 'Nebraska', 'Washington',\n",
       "       'Kansas', 'District_of_Columbia', 'Massachusetts', 'Idaho', 'Michigan',\n",
       "       'Connecticut', 'Oregon', 'Pennsylvania', 'Maryland', 'Ohio', 'Delaware',\n",
       "       'Missouri', 'New_Jersey', 'Virginia', 'Illinois', 'Indiana', 'Florida',\n",
       "       'Oklahoma', 'Rhode_Island', 'North_Carolina', 'South_Carolina',\n",
       "       'Tennessee', 'Georgia', 'New_York', 'West_Virginia', 'Nevada',\n",
       "       'Arkansas', 'Alabama', 'Kentucky', 'New_Mexico', 'Louisiana',\n",
       "       'Mississippi', 'Texas', 'California', 'Arizona', 'Puerto_Rico',\n",
       "       'U.S._Virgin_Islands', 'Guam', 'Northern_Mariana_Islands',\n",
       "       'American_Samoa'],\n",
       "      dtype='object', name='State')"
      ]
     },
     "execution_count": 10,
     "metadata": {},
     "output_type": "execute_result"
    }
   ],
   "source": [
    "df_all.index"
   ]
  },
  {
   "cell_type": "code",
   "execution_count": 11,
   "metadata": {},
   "outputs": [
    {
     "name": "stdout",
     "output_type": "stream",
     "text": [
      "Index([], dtype='object', name='State')\n",
      "Index([], dtype='object', name='State')\n",
      "Index(['District_of_Columbia'], dtype='object', name='State')\n",
      "Index([], dtype='object', name='State')\n",
      "Index(['District_of_Columbia'], dtype='object', name='State')\n",
      "Index(['American_Samoa', 'Guam', 'Northern_Mariana_Islands', 'Puerto_Rico',\n",
      "       'U.S._Virgin_Islands'],\n",
      "      dtype='object', name='State')\n",
      "Index(['American_Samoa', 'District_of_Columbia', 'Guam',\n",
      "       'Northern_Mariana_Islands', 'Puerto_Rico', 'U.S._Virgin_Islands'],\n",
      "      dtype='object', name='State')\n",
      "Index(['American_Samoa', 'Guam', 'Northern_Mariana_Islands', 'Puerto_Rico',\n",
      "       'U.S._Virgin_Islands'],\n",
      "      dtype='object', name='State')\n",
      "Index(['American_Samoa', 'District_of_Columbia', 'Guam',\n",
      "       'Northern_Mariana_Islands', 'Puerto_Rico', 'U.S._Virgin_Islands'],\n",
      "      dtype='object', name='State')\n",
      "Index(['District_of_Columbia'], dtype='object', name='State')\n",
      "Index([], dtype='object', name='State')\n",
      "Index(['District_of_Columbia'], dtype='object', name='State')\n",
      "Index([], dtype='object', name='State')\n",
      "Index([], dtype='object', name='State')\n",
      "Index(['District_of_Columbia'], dtype='object', name='State')\n"
     ]
    }
   ],
   "source": [
    "## ok lots off NaNs\n",
    "## analyze the problems\n",
    "import itertools\n",
    "\n",
    "combs = list(itertools.combinations(data_frames, 2))\n",
    "for el in combs:\n",
    "    print(el[0].index.difference(el[1].index,sort=None))\n",
    "    \n"
   ]
  },
  {
   "cell_type": "markdown",
   "metadata": {},
   "source": [
    "The output shows Index differences. But no states are referenced. Since the requirements say, that we only need state data, we are fine now. We have a sufficient clean dataframe to work with."
   ]
  },
  {
   "cell_type": "markdown",
   "metadata": {},
   "source": [
    "Now we start with data exploration. We want to have a look at the distribution of life_expectancy."
   ]
  },
  {
   "cell_type": "code",
   "execution_count": 12,
   "metadata": {},
   "outputs": [
    {
     "data": {
      "text/plain": [
       "count    56.00000\n",
       "mean     78.71250\n",
       "std       1.88844\n",
       "min      74.80000\n",
       "25%      77.67500\n",
       "50%      79.10000\n",
       "75%      79.90000\n",
       "max      82.30000\n",
       "Name: LifeExp2018, dtype: float64"
      ]
     },
     "execution_count": 12,
     "metadata": {},
     "output_type": "execute_result"
    }
   ],
   "source": [
    "###\n",
    "## basic statistics\n",
    "df_all.LifeExp2018.describe()\n",
    "## ok min = about 75, max = about 82\n",
    "### so 10 bins will suffice"
   ]
  },
  {
   "cell_type": "code",
   "execution_count": 13,
   "metadata": {},
   "outputs": [
    {
     "data": {
      "text/plain": [
       "<matplotlib.axes._subplots.AxesSubplot at 0x19e261bdf10>"
      ]
     },
     "execution_count": 13,
     "metadata": {},
     "output_type": "execute_result"
    },
    {
     "data": {
      "image/png": "[encoded data removed]",
      "text/plain": [
       "<Figure size 432x288 with 1 Axes>"
      ]
     },
     "metadata": {
      "needs_background": "light"
     },
     "output_type": "display_data"
    }
   ],
   "source": [
    "### we find LifeExp2018 and LifeExp2010\n",
    "### we start with a very basic histogram to get an impression\n",
    "df_all.LifeExp2018.hist(bins = 10)"
   ]
  },
  {
   "cell_type": "markdown",
   "metadata": {},
   "source": [
    "What we see is a more bimodal, left skewed distribution, with a peak between 79 and 80 years, and a second smaller peak around 75, which is interesting. Perhaps we have more than one distributions ( poorer and richer states ?? )"
   ]
  },
  {
   "cell_type": "code",
   "execution_count": 14,
   "metadata": {},
   "outputs": [
    {
     "data": {
      "text/plain": [
       "0    79.9\n",
       "dtype: float64"
      ]
     },
     "execution_count": 14,
     "metadata": {},
     "output_type": "execute_result"
    }
   ],
   "source": [
    "### mode ?\n",
    "df_all.LifeExp2018.mode()"
   ]
  },
  {
   "cell_type": "code",
   "execution_count": 15,
   "metadata": {},
   "outputs": [
    {
     "data": {
      "text/plain": [
       "79.1"
      ]
     },
     "execution_count": 15,
     "metadata": {},
     "output_type": "execute_result"
    }
   ],
   "source": [
    "### median\n",
    "df_all.LifeExp2018.median()"
   ]
  },
  {
   "cell_type": "code",
   "execution_count": 16,
   "metadata": {},
   "outputs": [
    {
     "data": {
      "text/plain": [
       "<matplotlib.axes._subplots.AxesSubplot at 0x19e46460fd0>"
      ]
     },
     "execution_count": 16,
     "metadata": {},
     "output_type": "execute_result"
    },
    {
     "data": {
      "image/png": "[encoded data removed]",
      "text/plain": [
       "<Figure size 432x288 with 1 Axes>"
      ]
     },
     "metadata": {
      "needs_background": "light"
     },
     "output_type": "display_data"
    }
   ],
   "source": [
    "### now we proceed to a more fancy graph\n",
    "import seaborn as sns\n",
    "import matplotlib.pyplot as plt\n",
    "fig, ax = plt.subplots()\n",
    "ax.set_xlim(72,85)\n",
    "ax.set(xlabel='Life Expectancy')\n",
    "plt = sns.histplot(data=df_all, x=\"LifeExp2018\", kde=False, stat = \"density\", bins = 12)\n",
    "plt.axvline(x=df_all.LifeExp2018.mean(), linewidth=3, color='g', label=\"mean\", alpha=0.5)\n",
    "plt.axvline(x=df_all.LifeExp2018.median(), linewidth=3, color='r', label=\"median\", alpha=0.5, ls='--',)\n",
    "plt.set(title = \"Distribution Life Expectancy (2018)\")\n",
    "plt.legend([\"median\",\"mean\"])\n",
    "legend = plt.legend()\n",
    "frame = legend.get_frame()\n",
    "frame.set_facecolor('white')\n",
    "sns.kdeplot(data=df_all, x=\"LifeExp2018\", color='blue', ax=plt)"
   ]
  },
  {
   "cell_type": "markdown",
   "metadata": {},
   "source": [
    "With a binning of binning of 12 we can reproduce the above bimodality."
   ]
  },
  {
   "cell_type": "code",
   "execution_count": 17,
   "metadata": {},
   "outputs": [
    {
     "data": {
      "text/plain": [
       "<matplotlib.legend.Legend at 0x19e485a9310>"
      ]
     },
     "execution_count": 17,
     "metadata": {},
     "output_type": "execute_result"
    },
    {
     "data": {
      "image/png": "[encoded data removed]",
      "text/plain": [
       "<Figure size 432x288 with 1 Axes>"
      ]
     },
     "metadata": {
      "needs_background": "light"
     },
     "output_type": "display_data"
    }
   ],
   "source": [
    "### compare 2018 and 2010\n",
    "import matplotlib.pyplot as plt\n",
    "fig, ax = plt.subplots()\n",
    "ax.set(xlabel='Life Expectancy in 2018 and 2010')\n",
    "plt = sns.kdeplot(data=df_all, x='LifeExp2018', fill=True, color = 'g')\n",
    "sns.kdeplot(data=df_all, x='LifeExp2010', fill=True, color = 'y')\n",
    "plt.legend([\"2018\",\"2010\"])"
   ]
  },
  {
   "cell_type": "code",
   "execution_count": 18,
   "metadata": {},
   "outputs": [
    {
     "data": {
      "text/plain": [
       "count    56.00000\n",
       "mean     78.71250\n",
       "std       1.88844\n",
       "min      74.80000\n",
       "25%      77.67500\n",
       "50%      79.10000\n",
       "75%      79.90000\n",
       "max      82.30000\n",
       "Name: LifeExp2018, dtype: float64"
      ]
     },
     "execution_count": 18,
     "metadata": {},
     "output_type": "execute_result"
    }
   ],
   "source": [
    "### 2018 and 2010 seem to be different distributions:\n",
    "df_all.LifeExp2018.describe()"
   ]
  },
  {
   "cell_type": "code",
   "execution_count": 19,
   "metadata": {},
   "outputs": [
    {
     "data": {
      "text/plain": [
       "count    56.000000\n",
       "mean     78.414286\n",
       "std       1.692919\n",
       "min      74.000000\n",
       "25%      77.475000\n",
       "50%      78.650000\n",
       "75%      79.625000\n",
       "max      81.400000\n",
       "Name: LifeExp2010, dtype: float64"
      ]
     },
     "execution_count": 19,
     "metadata": {},
     "output_type": "execute_result"
    }
   ],
   "source": [
    "df_all.LifeExp2010.describe()"
   ]
  },
  {
   "cell_type": "markdown",
   "metadata": {},
   "source": [
    "2018 has a slighty higher max and mean compared with 2010.\n",
    "whether it is statistically significant remains to be seen."
   ]
  },
  {
   "cell_type": "code",
   "execution_count": 20,
   "metadata": {},
   "outputs": [
    {
     "data": {
      "text/plain": [
       "Ttest_indResult(statistic=0.8799204501296345, pvalue=0.3808207179188935)"
      ]
     },
     "execution_count": 20,
     "metadata": {},
     "output_type": "execute_result"
    }
   ],
   "source": [
    "from scipy import stats\n",
    "stats.ttest_ind(df_all.LifeExp2018, df_all.LifeExp2010)"
   ]
  },
  {
   "cell_type": "markdown",
   "metadata": {},
   "source": [
    "A p-value of around 0.38 gives no hint, that we are faced with two different populations.\n",
    "The change in the means of both samples could have happened by chance alone."
   ]
  },
  {
   "cell_type": "code",
   "execution_count": 21,
   "metadata": {},
   "outputs": [
    {
     "data": {
      "text/plain": [
       "79.9"
      ]
     },
     "execution_count": 21,
     "metadata": {},
     "output_type": "execute_result"
    }
   ],
   "source": [
    "df_all.LifeExp2018.mode()[0]"
   ]
  },
  {
   "cell_type": "code",
   "execution_count": 22,
   "metadata": {},
   "outputs": [
    {
     "data": {
      "text/plain": [
       "<matplotlib.axes._subplots.AxesSubplot at 0x19e485d8b20>"
      ]
     },
     "execution_count": 22,
     "metadata": {},
     "output_type": "execute_result"
    },
    {
     "data": {
      "image/png": "[encoded data removed]",
      "text/plain": [
       "<Figure size 432x288 with 1 Axes>"
      ]
     },
     "metadata": {
      "needs_background": "light"
     },
     "output_type": "display_data"
    }
   ],
   "source": [
    "### ECDF Plot\n",
    "#define a NumPy array x with the column LifeExp2018\n",
    "#* order x according to life expectancy (ascending)\n",
    "#* define a numpy array y = np.arange(1, len(x)+1)/len(x)\n",
    "#* plot y vs x\n",
    "import numpy as np\n",
    "import matplotlib.pyplot as plt\n",
    "%matplotlib inline\n",
    "x = np.array(df_all.LifeExp2018)\n",
    "x = sorted(x)\n",
    "y = np.arange(1, len(x)+1)/len(x)\n",
    "plt.scatter(x,y, s = 3)\n",
    "plt.xlabel('Life Expectancy, mode at 80')\n",
    "plt.ylabel('ECDF')\n",
    "plt.title(\"Empirical Cumulative Distribution of Life Expectancy (2018)\")\n",
    "plt.axvline(x=df_all.LifeExp2018.mode()[0], linewidth=3, color='g', label=\"mean\", alpha=0.2)\n",
    "sns.regplot(x=x,y = y, ci=None, line_kws={'linewidth':1})"
   ]
  },
  {
   "cell_type": "markdown",
   "metadata": {},
   "source": [
    "The ECDF Plot shows the skewness of the data especially between 77 and 79 years"
   ]
  },
  {
   "cell_type": "markdown",
   "metadata": {},
   "source": [
    "Now we start with analyzing life expectancy by region"
   ]
  },
  {
   "cell_type": "code",
   "execution_count": 23,
   "metadata": {},
   "outputs": [
    {
     "data": {
      "text/html": [
       "<div>\n",
       "<style scoped>\n",
       "    .dataframe tbody tr th:only-of-type {\n",
       "        vertical-align: middle;\n",
       "    }\n",
       "\n",
       "    .dataframe tbody tr th {\n",
       "        vertical-align: top;\n",
       "    }\n",
       "\n",
       "    .dataframe thead th {\n",
       "        text-align: right;\n",
       "    }\n",
       "</style>\n",
       "<table border=\"1\" class=\"dataframe\">\n",
       "  <thead>\n",
       "    <tr style=\"text-align: right;\">\n",
       "      <th></th>\n",
       "      <th>LifeExp2018</th>\n",
       "      <th>Region</th>\n",
       "    </tr>\n",
       "    <tr>\n",
       "      <th>State</th>\n",
       "      <th></th>\n",
       "      <th></th>\n",
       "    </tr>\n",
       "  </thead>\n",
       "  <tbody>\n",
       "    <tr>\n",
       "      <th>Montana</th>\n",
       "      <td>78.8</td>\n",
       "      <td>West</td>\n",
       "    </tr>\n",
       "    <tr>\n",
       "      <th>New_Hampshire</th>\n",
       "      <td>79.5</td>\n",
       "      <td>Northeast</td>\n",
       "    </tr>\n",
       "    <tr>\n",
       "      <th>Minnesota</th>\n",
       "      <td>81.0</td>\n",
       "      <td>North Central</td>\n",
       "    </tr>\n",
       "    <tr>\n",
       "      <th>Wyoming</th>\n",
       "      <td>79.0</td>\n",
       "      <td>West</td>\n",
       "    </tr>\n",
       "    <tr>\n",
       "      <th>Alaska</th>\n",
       "      <td>78.8</td>\n",
       "      <td>West</td>\n",
       "    </tr>\n",
       "  </tbody>\n",
       "</table>\n",
       "</div>"
      ],
      "text/plain": [
       "               LifeExp2018         Region\n",
       "State                                    \n",
       "Montana               78.8           West\n",
       "New_Hampshire         79.5      Northeast\n",
       "Minnesota             81.0  North Central\n",
       "Wyoming               79.0           West\n",
       "Alaska                78.8           West"
      ]
     },
     "execution_count": 23,
     "metadata": {},
     "output_type": "execute_result"
    }
   ],
   "source": [
    "Life_exp_region = df_all.loc[:,[\"LifeExp2018\", \"Region\"]]\n",
    "Life_exp_region.head()      "
   ]
  },
  {
   "cell_type": "code",
   "execution_count": 24,
   "metadata": {},
   "outputs": [
    {
     "data": {
      "text/html": [
       "<div>\n",
       "<style scoped>\n",
       "    .dataframe tbody tr th:only-of-type {\n",
       "        vertical-align: middle;\n",
       "    }\n",
       "\n",
       "    .dataframe tbody tr th {\n",
       "        vertical-align: top;\n",
       "    }\n",
       "\n",
       "    .dataframe thead tr th {\n",
       "        text-align: left;\n",
       "    }\n",
       "\n",
       "    .dataframe thead tr:last-of-type th {\n",
       "        text-align: right;\n",
       "    }\n",
       "</style>\n",
       "<table border=\"1\" class=\"dataframe\">\n",
       "  <thead>\n",
       "    <tr>\n",
       "      <th></th>\n",
       "      <th colspan=\"8\" halign=\"left\">LifeExp2018</th>\n",
       "    </tr>\n",
       "    <tr>\n",
       "      <th></th>\n",
       "      <th>count</th>\n",
       "      <th>mean</th>\n",
       "      <th>std</th>\n",
       "      <th>min</th>\n",
       "      <th>25%</th>\n",
       "      <th>50%</th>\n",
       "      <th>75%</th>\n",
       "      <th>max</th>\n",
       "    </tr>\n",
       "    <tr>\n",
       "      <th>Region</th>\n",
       "      <th></th>\n",
       "      <th></th>\n",
       "      <th></th>\n",
       "      <th></th>\n",
       "      <th></th>\n",
       "      <th></th>\n",
       "      <th></th>\n",
       "      <th></th>\n",
       "    </tr>\n",
       "  </thead>\n",
       "  <tbody>\n",
       "    <tr>\n",
       "      <th>North Central</th>\n",
       "      <td>12.0</td>\n",
       "      <td>78.783333</td>\n",
       "      <td>1.264072</td>\n",
       "      <td>76.9</td>\n",
       "      <td>77.825</td>\n",
       "      <td>79.20</td>\n",
       "      <td>79.450</td>\n",
       "      <td>81.0</td>\n",
       "    </tr>\n",
       "    <tr>\n",
       "      <th>Northeast</th>\n",
       "      <td>9.0</td>\n",
       "      <td>79.911111</td>\n",
       "      <td>0.985450</td>\n",
       "      <td>78.3</td>\n",
       "      <td>79.500</td>\n",
       "      <td>79.90</td>\n",
       "      <td>80.500</td>\n",
       "      <td>81.3</td>\n",
       "    </tr>\n",
       "    <tr>\n",
       "      <th>South</th>\n",
       "      <td>16.0</td>\n",
       "      <td>77.087500</td>\n",
       "      <td>1.750000</td>\n",
       "      <td>74.8</td>\n",
       "      <td>75.775</td>\n",
       "      <td>76.55</td>\n",
       "      <td>78.575</td>\n",
       "      <td>80.0</td>\n",
       "    </tr>\n",
       "    <tr>\n",
       "      <th>West</th>\n",
       "      <td>13.0</td>\n",
       "      <td>79.761538</td>\n",
       "      <td>1.218290</td>\n",
       "      <td>78.1</td>\n",
       "      <td>78.800</td>\n",
       "      <td>79.80</td>\n",
       "      <td>80.400</td>\n",
       "      <td>82.3</td>\n",
       "    </tr>\n",
       "  </tbody>\n",
       "</table>\n",
       "</div>"
      ],
      "text/plain": [
       "              LifeExp2018                                                    \\\n",
       "                    count       mean       std   min     25%    50%     75%   \n",
       "Region                                                                        \n",
       "North Central        12.0  78.783333  1.264072  76.9  77.825  79.20  79.450   \n",
       "Northeast             9.0  79.911111  0.985450  78.3  79.500  79.90  80.500   \n",
       "South                16.0  77.087500  1.750000  74.8  75.775  76.55  78.575   \n",
       "West                 13.0  79.761538  1.218290  78.1  78.800  79.80  80.400   \n",
       "\n",
       "                     \n",
       "                max  \n",
       "Region               \n",
       "North Central  81.0  \n",
       "Northeast      81.3  \n",
       "South          80.0  \n",
       "West           82.3  "
      ]
     },
     "execution_count": 24,
     "metadata": {},
     "output_type": "execute_result"
    }
   ],
   "source": [
    "### Basis statistics by region\n",
    "Life_exp_region.groupby(\"Region\").describe()"
   ]
  },
  {
   "cell_type": "code",
   "execution_count": 25,
   "metadata": {},
   "outputs": [
    {
     "data": {
      "image/png": "[encoded data removed]",
      "text/plain": [
       "<Figure size 432x288 with 1 Axes>"
      ]
     },
     "metadata": {},
     "output_type": "display_data"
    }
   ],
   "source": [
    "### boxplots per region\n",
    "sns.set_theme(style=\"ticks\", palette=\"pastel\")\n",
    "\n",
    "# Draw a nested boxplot to show Life expectancy per Region\n",
    "sns.boxplot(x=\"Region\", y=\"LifeExp2018\",\n",
    "            palette=[\"m\", \"g\"],\n",
    "            data=Life_exp_region)\n",
    "sns.despine(offset=10, trim=True)"
   ]
  },
  {
   "cell_type": "markdown",
   "metadata": {},
   "source": [
    "Comment: for Northeast and North Central we have non overlapping IQ ranges, so the respective distributions could be different in a statistically significant way. Same with Northeast and South, and West / South. Let us check:"
   ]
  },
  {
   "cell_type": "code",
   "execution_count": 26,
   "metadata": {},
   "outputs": [
    {
     "data": {
      "text/plain": [
       "Ttest_indResult(statistic=2.2970102770079537, pvalue=0.016595123418673884)"
      ]
     },
     "execution_count": 26,
     "metadata": {},
     "output_type": "execute_result"
    }
   ],
   "source": [
    "west = Life_exp_region.loc[Life_exp_region.Region == \"West\", \"LifeExp2018\"]\n",
    "northeast = Life_exp_region.loc[Life_exp_region.Region == \"Northeast\", \"LifeExp2018\"]\n",
    "northcentral = Life_exp_region.loc[Life_exp_region.Region == \"North Central\", \"LifeExp2018\"]\n",
    "south = Life_exp_region.loc[Life_exp_region.Region == \"South\", \"LifeExp2018\"]\n",
    "\n",
    "####\n",
    "#Test for NorthEast vs North central\n",
    "stats.ttest_ind(northeast, northcentral, equal_var = False, alternative ='greater')"
   ]
  },
  {
   "cell_type": "markdown",
   "metadata": {},
   "source": [
    "Comment: After having done a one sided Ttest - since we know from inspection, that the northeast's mean is greater than the northcenztral's mean - we can conlude at a 97.5% significance level - alpha = 0.025, that both means differ significantly.  "
   ]
  },
  {
   "cell_type": "code",
   "execution_count": 27,
   "metadata": {},
   "outputs": [
    {
     "data": {
      "text/plain": [
       "Ttest_indResult(statistic=5.1611453936894005, pvalue=1.5685179534674382e-05)"
      ]
     },
     "execution_count": 27,
     "metadata": {},
     "output_type": "execute_result"
    }
   ],
   "source": [
    "### for Northeast and South:\n",
    "stats.ttest_ind(northeast, south, equal_var = False, alternative ='greater')"
   ]
  },
  {
   "cell_type": "markdown",
   "metadata": {},
   "source": [
    "We got a pvalue of around 1.57 e-05 = 0.0000157, so we are really sure that both distributions do not stem from the same population. ( Significance level > 99.99% )"
   ]
  },
  {
   "cell_type": "code",
   "execution_count": 28,
   "metadata": {},
   "outputs": [
    {
     "data": {
      "text/plain": [
       "Ttest_indResult(statistic=2.9766912191755757, pvalue=0.003115137750741068)"
      ]
     },
     "execution_count": 28,
     "metadata": {},
     "output_type": "execute_result"
    }
   ],
   "source": [
    "## Finally we checK for North Central vs South\n",
    "stats.ttest_ind(northcentral, south, equal_var = False, alternative ='greater')"
   ]
  },
  {
   "cell_type": "markdown",
   "metadata": {},
   "source": [
    "We got a pvalue of around 0.003, so we are really sure that both distributions do not stem from the same population. At a significance level of 99,5 % with alpha = 0.005 we can reject the null hypthesis, that both distributions stem from the same population.\n",
    "( We reject the null hypothesis that the difference of both means is equal two zero, so we can assume, that we are faced with two different distributions )"
   ]
  },
  {
   "cell_type": "code",
   "execution_count": 29,
   "metadata": {},
   "outputs": [
    {
     "data": {
      "text/plain": [
       "Text(0.5, 1.0, 'Distribution of Life Expectancy per Region ( 2018 )')"
      ]
     },
     "execution_count": 29,
     "metadata": {},
     "output_type": "execute_result"
    },
    {
     "data": {
      "image/png": "[encoded data removed]",
      "text/plain": [
       "<Figure size 465.475x360 with 1 Axes>"
      ]
     },
     "metadata": {},
     "output_type": "display_data"
    }
   ],
   "source": [
    "### show the four distributions in one plot\n",
    "sns.displot(Life_exp_region, x=\"LifeExp2018\", hue=\"Region\", kind=\"kde\", fill=True)\n",
    "plt.xlabel(\"Life expectancy 2018\")\n",
    "plt.title(\"Distribution of Life Expectancy per Region ( 2018 )\")"
   ]
  },
  {
   "cell_type": "code",
   "execution_count": 30,
   "metadata": {
    "scrolled": false
   },
   "outputs": [
    {
     "data": {
      "image/png": "[encoded data removed]",
      "text/plain": [
       "<Figure size 432x288 with 1 Axes>"
      ]
     },
     "metadata": {},
     "output_type": "display_data"
    }
   ],
   "source": [
    "#### show overlapping region for South and North east\n",
    "## assume that both distributions are normal\n",
    "## adapted from https://stackoverflow.com/questions/53574569/fill-area-of-overlap-between-two-normal-distributions-in-seaborn-matplotlib\n",
    "ax = sns.distplot(south, fit_kws={\"color\":\"blue\"}, kde=False,\n",
    "        fit=stats.norm, hist=None, label=\"South\");\n",
    "ax = sns.distplot(northeast, fit_kws={\"color\":\"orange\"}, kde=False,\n",
    "        fit=stats.norm, hist=None, label=\"North East\");\n",
    "\n",
    "# Get the two lines from the axes to generate shading\n",
    "l1 = ax.lines[0]\n",
    "l2 = ax.lines[1]\n",
    "\n",
    "# Get the xy data from the lines so that we can shade\n",
    "x1, y1 = l1.get_xydata().T\n",
    "x2, y2 = l2.get_xydata().T\n",
    "\n",
    "xmin = max(x1.min(), x2.min())\n",
    "xmax = min(x1.max(), x2.max())\n",
    "x = np.linspace(xmin, xmax, 100)\n",
    "y1 = np.interp(x, x1, y1)\n",
    "y2 = np.interp(x, x2, y2)\n",
    "y = np.minimum(y1, y2)\n",
    "ax.fill_between(x, y, color=\"red\", alpha=0.3)\n",
    "\n",
    "plt.legend()\n",
    "plt.title(\"Overlapping Distributions\")\n",
    "plt.show()\n",
    "\n",
    "from statistics import NormalDist\n",
    "ovl = NormalDist(mu=south.mean(), sigma=south.std()).overlap(NormalDist(mu=northeast.mean(), sigma=northeast.std()))\n"
   ]
  },
  {
   "attachments": {
    "e131b74ad4940a763904822eed7b74a843d27ba0.svg": {
     "image/svg+xml": [
      "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"
     ]
    }
   },
   "cell_type": "markdown",
   "metadata": {},
   "source": [
    "The overlap coefficient, or Szymkiewicz–Simpson coefficient, is a similarity measure that measures the overlap between two finite sets. It is related to the Jaccard index and is defined as the size of the intersection divided by the smaller of the size of the two sets:\n",
    "![e131b74ad4940a763904822eed7b74a843d27ba0.svg](attachment:e131b74ad4940a763904822eed7b74a843d27ba0.svg)"
   ]
  },
  {
   "cell_type": "code",
   "execution_count": 31,
   "metadata": {},
   "outputs": [
    {
     "name": "stdout",
     "output_type": "stream",
     "text": [
      "For the overlapping distributions South and Northeast we got an OVL of 0.29 to two dec. places\n"
     ]
    }
   ],
   "source": [
    "print(f\"For the overlapping distributions South and Northeast we got an OVL of {round(ovl,2)} to two dec. places\")"
   ]
  },
  {
   "cell_type": "markdown",
   "metadata": {},
   "source": [
    "Now we analyze the education variable and draw distribution plots"
   ]
  },
  {
   "cell_type": "code",
   "execution_count": 32,
   "metadata": {},
   "outputs": [
    {
     "data": {
      "text/html": [
       "<div>\n",
       "<style scoped>\n",
       "    .dataframe tbody tr th:only-of-type {\n",
       "        vertical-align: middle;\n",
       "    }\n",
       "\n",
       "    .dataframe tbody tr th {\n",
       "        vertical-align: top;\n",
       "    }\n",
       "\n",
       "    .dataframe thead th {\n",
       "        text-align: right;\n",
       "    }\n",
       "</style>\n",
       "<table border=\"1\" class=\"dataframe\">\n",
       "  <thead>\n",
       "    <tr style=\"text-align: right;\">\n",
       "      <th></th>\n",
       "      <th>High_School_graduate_or_higher_pct</th>\n",
       "      <th>Bachelor_degree_or_higher_pct</th>\n",
       "      <th>Advanced_degree_pct</th>\n",
       "      <th>LifeExp2018</th>\n",
       "      <th>LifeExp2010</th>\n",
       "      <th>MaleLifeExp</th>\n",
       "      <th>FemLifeExp</th>\n",
       "      <th>Population_2015</th>\n",
       "      <th>Murders_manslaughter_2015</th>\n",
       "      <th>Murders_2015</th>\n",
       "      <th>...</th>\n",
       "      <th>Income2013</th>\n",
       "      <th>Income2012</th>\n",
       "      <th>Income2011</th>\n",
       "      <th>Income2010</th>\n",
       "      <th>Income2009</th>\n",
       "      <th>Income2008</th>\n",
       "      <th>Income2007</th>\n",
       "      <th>Abb</th>\n",
       "      <th>Region</th>\n",
       "      <th>Division</th>\n",
       "    </tr>\n",
       "    <tr>\n",
       "      <th>State</th>\n",
       "      <th></th>\n",
       "      <th></th>\n",
       "      <th></th>\n",
       "      <th></th>\n",
       "      <th></th>\n",
       "      <th></th>\n",
       "      <th></th>\n",
       "      <th></th>\n",
       "      <th></th>\n",
       "      <th></th>\n",
       "      <th></th>\n",
       "      <th></th>\n",
       "      <th></th>\n",
       "      <th></th>\n",
       "      <th></th>\n",
       "      <th></th>\n",
       "      <th></th>\n",
       "      <th></th>\n",
       "      <th></th>\n",
       "      <th></th>\n",
       "      <th></th>\n",
       "    </tr>\n",
       "  </thead>\n",
       "  <tbody>\n",
       "    <tr>\n",
       "      <th>Montana</th>\n",
       "      <td>93.0</td>\n",
       "      <td>30.7</td>\n",
       "      <td>10.1</td>\n",
       "      <td>78.8</td>\n",
       "      <td>78.5</td>\n",
       "      <td>76.8</td>\n",
       "      <td>81.0</td>\n",
       "      <td>1032073.0</td>\n",
       "      <td>36.0</td>\n",
       "      <td>36.0</td>\n",
       "      <td>...</td>\n",
       "      <td>46972.0</td>\n",
       "      <td>45076.0</td>\n",
       "      <td>44222.0</td>\n",
       "      <td>42666.0</td>\n",
       "      <td>42322.0</td>\n",
       "      <td>43654.0</td>\n",
       "      <td>43531.0</td>\n",
       "      <td>MT</td>\n",
       "      <td>West</td>\n",
       "      <td>Mountain</td>\n",
       "    </tr>\n",
       "    <tr>\n",
       "      <th>New_Hampshire</th>\n",
       "      <td>92.8</td>\n",
       "      <td>36.0</td>\n",
       "      <td>13.8</td>\n",
       "      <td>79.5</td>\n",
       "      <td>80.3</td>\n",
       "      <td>77.5</td>\n",
       "      <td>81.4</td>\n",
       "      <td>1330111.0</td>\n",
       "      <td>14.0</td>\n",
       "      <td>14.0</td>\n",
       "      <td>...</td>\n",
       "      <td>64230.0</td>\n",
       "      <td>63280.0</td>\n",
       "      <td>62647.0</td>\n",
       "      <td>61042.0</td>\n",
       "      <td>60567.0</td>\n",
       "      <td>63731.0</td>\n",
       "      <td>62369.0</td>\n",
       "      <td>NH</td>\n",
       "      <td>Northeast</td>\n",
       "      <td>New England</td>\n",
       "    </tr>\n",
       "    <tr>\n",
       "      <th>Minnesota</th>\n",
       "      <td>92.8</td>\n",
       "      <td>34.8</td>\n",
       "      <td>11.8</td>\n",
       "      <td>81.0</td>\n",
       "      <td>80.8</td>\n",
       "      <td>79.0</td>\n",
       "      <td>83.0</td>\n",
       "      <td>5482435.0</td>\n",
       "      <td>133.0</td>\n",
       "      <td>133.0</td>\n",
       "      <td>...</td>\n",
       "      <td>60702.0</td>\n",
       "      <td>58906.0</td>\n",
       "      <td>56954.0</td>\n",
       "      <td>55459.0</td>\n",
       "      <td>55616.0</td>\n",
       "      <td>57288.0</td>\n",
       "      <td>55802.0</td>\n",
       "      <td>MN</td>\n",
       "      <td>North Central</td>\n",
       "      <td>West North Central</td>\n",
       "    </tr>\n",
       "    <tr>\n",
       "      <th>Wyoming</th>\n",
       "      <td>92.8</td>\n",
       "      <td>26.7</td>\n",
       "      <td>9.3</td>\n",
       "      <td>79.0</td>\n",
       "      <td>78.1</td>\n",
       "      <td>77.1</td>\n",
       "      <td>81.1</td>\n",
       "      <td>586107.0</td>\n",
       "      <td>16.0</td>\n",
       "      <td>16.0</td>\n",
       "      <td>...</td>\n",
       "      <td>58752.0</td>\n",
       "      <td>54901.0</td>\n",
       "      <td>56322.0</td>\n",
       "      <td>53512.0</td>\n",
       "      <td>52664.0</td>\n",
       "      <td>53207.0</td>\n",
       "      <td>51731.0</td>\n",
       "      <td>WY</td>\n",
       "      <td>West</td>\n",
       "      <td>Mountain</td>\n",
       "    </tr>\n",
       "    <tr>\n",
       "      <th>Alaska</th>\n",
       "      <td>92.4</td>\n",
       "      <td>29.0</td>\n",
       "      <td>10.4</td>\n",
       "      <td>78.8</td>\n",
       "      <td>78.0</td>\n",
       "      <td>76.7</td>\n",
       "      <td>81.2</td>\n",
       "      <td>737709.0</td>\n",
       "      <td>59.0</td>\n",
       "      <td>57.0</td>\n",
       "      <td>...</td>\n",
       "      <td>72237.0</td>\n",
       "      <td>67712.0</td>\n",
       "      <td>67825.0</td>\n",
       "      <td>64576.0</td>\n",
       "      <td>66953.0</td>\n",
       "      <td>68460.0</td>\n",
       "      <td>64333.0</td>\n",
       "      <td>AK</td>\n",
       "      <td>West</td>\n",
       "      <td>Pacific</td>\n",
       "    </tr>\n",
       "  </tbody>\n",
       "</table>\n",
       "<p>5 rows × 37 columns</p>\n",
       "</div>"
      ],
      "text/plain": [
       "               High_School_graduate_or_higher_pct  \\\n",
       "State                                               \n",
       "Montana                                      93.0   \n",
       "New_Hampshire                                92.8   \n",
       "Minnesota                                    92.8   \n",
       "Wyoming                                      92.8   \n",
       "Alaska                                       92.4   \n",
       "\n",
       "               Bachelor_degree_or_higher_pct  Advanced_degree_pct  \\\n",
       "State                                                               \n",
       "Montana                                 30.7                 10.1   \n",
       "New_Hampshire                           36.0                 13.8   \n",
       "Minnesota                               34.8                 11.8   \n",
       "Wyoming                                 26.7                  9.3   \n",
       "Alaska                                  29.0                 10.4   \n",
       "\n",
       "               LifeExp2018  LifeExp2010  MaleLifeExp  FemLifeExp  \\\n",
       "State                                                              \n",
       "Montana               78.8         78.5         76.8        81.0   \n",
       "New_Hampshire         79.5         80.3         77.5        81.4   \n",
       "Minnesota             81.0         80.8         79.0        83.0   \n",
       "Wyoming               79.0         78.1         77.1        81.1   \n",
       "Alaska                78.8         78.0         76.7        81.2   \n",
       "\n",
       "               Population_2015  Murders_manslaughter_2015  Murders_2015  ...  \\\n",
       "State                                                                    ...   \n",
       "Montana              1032073.0                       36.0          36.0  ...   \n",
       "New_Hampshire        1330111.0                       14.0          14.0  ...   \n",
       "Minnesota            5482435.0                      133.0         133.0  ...   \n",
       "Wyoming               586107.0                       16.0          16.0  ...   \n",
       "Alaska                737709.0                       59.0          57.0  ...   \n",
       "\n",
       "               Income2013  Income2012  Income2011  Income2010  Income2009  \\\n",
       "State                                                                       \n",
       "Montana           46972.0     45076.0     44222.0     42666.0     42322.0   \n",
       "New_Hampshire     64230.0     63280.0     62647.0     61042.0     60567.0   \n",
       "Minnesota         60702.0     58906.0     56954.0     55459.0     55616.0   \n",
       "Wyoming           58752.0     54901.0     56322.0     53512.0     52664.0   \n",
       "Alaska            72237.0     67712.0     67825.0     64576.0     66953.0   \n",
       "\n",
       "               Income2008  Income2007  Abb         Region            Division  \n",
       "State                                                                          \n",
       "Montana           43654.0     43531.0   MT           West            Mountain  \n",
       "New_Hampshire     63731.0     62369.0   NH      Northeast         New England  \n",
       "Minnesota         57288.0     55802.0   MN  North Central  West North Central  \n",
       "Wyoming           53207.0     51731.0   WY           West            Mountain  \n",
       "Alaska            68460.0     64333.0   AK           West             Pacific  \n",
       "\n",
       "[5 rows x 37 columns]"
      ]
     },
     "execution_count": 32,
     "metadata": {},
     "output_type": "execute_result"
    }
   ],
   "source": [
    "df_all.head()"
   ]
  },
  {
   "cell_type": "code",
   "execution_count": 33,
   "metadata": {},
   "outputs": [
    {
     "data": {
      "text/html": [
       "<div>\n",
       "<style scoped>\n",
       "    .dataframe tbody tr th:only-of-type {\n",
       "        vertical-align: middle;\n",
       "    }\n",
       "\n",
       "    .dataframe tbody tr th {\n",
       "        vertical-align: top;\n",
       "    }\n",
       "\n",
       "    .dataframe thead th {\n",
       "        text-align: right;\n",
       "    }\n",
       "</style>\n",
       "<table border=\"1\" class=\"dataframe\">\n",
       "  <thead>\n",
       "    <tr style=\"text-align: right;\">\n",
       "      <th></th>\n",
       "      <th>High_School_graduate_or_higher_pct</th>\n",
       "      <th>Bachelor_degree_or_higher_pct</th>\n",
       "      <th>Advanced_degree_pct</th>\n",
       "    </tr>\n",
       "  </thead>\n",
       "  <tbody>\n",
       "    <tr>\n",
       "      <th>count</th>\n",
       "      <td>51.000000</td>\n",
       "      <td>51.000000</td>\n",
       "      <td>51.000000</td>\n",
       "    </tr>\n",
       "    <tr>\n",
       "      <th>mean</th>\n",
       "      <td>88.543137</td>\n",
       "      <td>30.633333</td>\n",
       "      <td>11.684314</td>\n",
       "    </tr>\n",
       "    <tr>\n",
       "      <th>std</th>\n",
       "      <td>3.462730</td>\n",
       "      <td>6.229917</td>\n",
       "      <td>4.031941</td>\n",
       "    </tr>\n",
       "    <tr>\n",
       "      <th>min</th>\n",
       "      <td>76.700000</td>\n",
       "      <td>19.900000</td>\n",
       "      <td>7.800000</td>\n",
       "    </tr>\n",
       "    <tr>\n",
       "      <th>25%</th>\n",
       "      <td>86.200000</td>\n",
       "      <td>26.950000</td>\n",
       "      <td>9.450000</td>\n",
       "    </tr>\n",
       "    <tr>\n",
       "      <th>50%</th>\n",
       "      <td>89.300000</td>\n",
       "      <td>29.900000</td>\n",
       "      <td>10.700000</td>\n",
       "    </tr>\n",
       "    <tr>\n",
       "      <th>75%</th>\n",
       "      <td>91.250000</td>\n",
       "      <td>33.200000</td>\n",
       "      <td>12.800000</td>\n",
       "    </tr>\n",
       "    <tr>\n",
       "      <th>max</th>\n",
       "      <td>93.000000</td>\n",
       "      <td>56.600000</td>\n",
       "      <td>32.800000</td>\n",
       "    </tr>\n",
       "  </tbody>\n",
       "</table>\n",
       "</div>"
      ],
      "text/plain": [
       "       High_School_graduate_or_higher_pct  Bachelor_degree_or_higher_pct  \\\n",
       "count                           51.000000                      51.000000   \n",
       "mean                            88.543137                      30.633333   \n",
       "std                              3.462730                       6.229917   \n",
       "min                             76.700000                      19.900000   \n",
       "25%                             86.200000                      26.950000   \n",
       "50%                             89.300000                      29.900000   \n",
       "75%                             91.250000                      33.200000   \n",
       "max                             93.000000                      56.600000   \n",
       "\n",
       "       Advanced_degree_pct  \n",
       "count            51.000000  \n",
       "mean             11.684314  \n",
       "std               4.031941  \n",
       "min               7.800000  \n",
       "25%               9.450000  \n",
       "50%              10.700000  \n",
       "75%              12.800000  \n",
       "max              32.800000  "
      ]
     },
     "execution_count": 33,
     "metadata": {},
     "output_type": "execute_result"
    }
   ],
   "source": [
    "df_all.iloc[:,[0,1,2]].describe()"
   ]
  },
  {
   "cell_type": "code",
   "execution_count": 34,
   "metadata": {
    "scrolled": true
   },
   "outputs": [
    {
     "data": {
      "text/plain": [
       "<matplotlib.axes._subplots.AxesSubplot at 0x19e48f49430>"
      ]
     },
     "execution_count": 34,
     "metadata": {},
     "output_type": "execute_result"
    },
    {
     "data": {
      "image/png": "[encoded data removed]",
      "text/plain": [
       "<Figure size 432x288 with 2 Axes>"
      ]
     },
     "metadata": {},
     "output_type": "display_data"
    },
    {
     "data": {
      "image/png": "[encoded data removed]",
      "text/plain": [
       "<Figure size 720x360 with 1 Axes>"
      ]
     },
     "metadata": {},
     "output_type": "display_data"
    }
   ],
   "source": [
    "#Histograms for education\n",
    "import seaborn as sns\n",
    "import matplotlib.pyplot as plt\n",
    "fig, axes = plt.subplots(1,2)\n",
    "plt.rcParams[\"figure.figsize\"] = [10,5]\n",
    "plt.rcParams[\"figure.autolayout\"] = True\n",
    "axes[0].set_xlim(75,100)\n",
    "axes[0].set(xlabel='Education: High School_graduate or higher (pct)')\n",
    "plt = sns.histplot(data=df_all, x=\"High_School_graduate_or_higher_pct\", kde=False, stat = \"density\", ax = axes[0])\n",
    "plt.axvline(x=df_all.High_School_graduate_or_higher_pct.mean(), linewidth=3, color='g', label=\"mean\", alpha=0.5)\n",
    "plt.axvline(x=df_all.High_School_graduate_or_higher_pct.median(), linewidth=3, color='r', label=\"median\", alpha=0.5, ls='--')\n",
    "plt.legend([\"median\",\"mean\"])\n",
    "plt.set(title = \"Distribution of education across states\")\n",
    "legend = plt.legend()\n",
    "frame = legend.get_frame()\n",
    "frame.set_facecolor('white')\n",
    "sns.kdeplot(data=df_all, x=\"High_School_graduate_or_higher_pct\", color='blue', ax = axes[0])\n",
    "####\n",
    "axes[1].set_xlim(15,60)\n",
    "axes[1].set(xlabel='Education: Bachelor degree or higher (pct)')\n",
    "plt = sns.histplot(data=df_all, x=\"Bachelor_degree_or_higher_pct\", kde=False,stat = \"density\", ax = axes[1])\n",
    "plt.axvline(x=df_all.Bachelor_degree_or_higher_pct.mean(), linewidth=3, color='g', label=\"mean\", alpha=0.5)\n",
    "plt.axvline(x=df_all.Bachelor_degree_or_higher_pct.median(), linewidth=3, color='r', label=\"median\", alpha=0.5, ls='--')\n",
    "plt.legend([\"median\",\"mean\"])\n",
    "plt.set(title = \"Distribution of education across states\")\n",
    "legend = plt.legend()\n",
    "frame = legend.get_frame()\n",
    "frame.set_facecolor('white')\n",
    "sns.kdeplot(data=df_all, x=\"Bachelor_degree_or_higher_pct\", color='blue', ax = axes[1])\n",
    "######\n",
    "import matplotlib.pyplot  as plt\n",
    "fig, ax = plt.subplots()\n",
    "ax.set_xlim(0,35)\n",
    "ax.set(xlabel='Education: Advanced degree (pct)')\n",
    "plt = sns.histplot(data=df_all, x=\"Advanced_degree_pct\", kde=False,stat = \"density\")\n",
    "plt.axvline(x=df_all.Advanced_degree_pct.mean(), linewidth=3, color='g', label=\"mean\", alpha=0.5)\n",
    "plt.axvline(x=df_all.Advanced_degree_pct.median(), linewidth=3, color='r', label=\"median\", alpha=0.5, ls='--')\n",
    "plt.legend([\"median\",\"mean\"])\n",
    "plt.set(title = \"Distribution of education across states\")\n",
    "legend = plt.legend()\n",
    "frame = legend.get_frame()\n",
    "frame.set_facecolor('white')\n",
    "sns.kdeplot(data=df_all, x=\"Advanced_degree_pct\", color='blue', ax = plt)\n",
    "######\n"
   ]
  },
  {
   "cell_type": "markdown",
   "metadata": {},
   "source": [
    "Comment: we are faced with a left skewed distribution for the High School and higher eduaction level, \n",
    " nearly normal distribution for the bachelor and higher level ( with the exception of some outliers 9 and a more right skewed distribution for the advanced level. Perhaps there are regional differences."
   ]
  },
  {
   "cell_type": "code",
   "execution_count": 35,
   "metadata": {},
   "outputs": [
    {
     "data": {
      "text/plain": [
       "[Text(0.5, 1.0, 'Distribution of education levels across states (pct)')]"
      ]
     },
     "execution_count": 35,
     "metadata": {},
     "output_type": "execute_result"
    },
    {
     "data": {
      "image/png": "[encoded data removed]",
      "text/plain": [
       "<Figure size 720x360 with 1 Axes>"
      ]
     },
     "metadata": {},
     "output_type": "display_data"
    }
   ],
   "source": [
    "import matplotlib.pyplot as plt\n",
    "fig, ax = plt.subplots()\n",
    "ax.set_ylim(0,100)\n",
    "plt = sns.stripplot(data=df_all.iloc[:, [0,1,2]]) \n",
    "plt.set(title = \"Distribution of education levels across states (pct)\")"
   ]
  },
  {
   "cell_type": "code",
   "execution_count": 36,
   "metadata": {},
   "outputs": [
    {
     "data": {
      "text/plain": [
       "[Text(0.5, 1.0, 'Empirical cumulative distribution of education levels across states')]"
      ]
     },
     "execution_count": 36,
     "metadata": {},
     "output_type": "execute_result"
    },
    {
     "data": {
      "image/png": "[encoded data removed]",
      "text/plain": [
       "<Figure size 720x360 with 1 Axes>"
      ]
     },
     "metadata": {},
     "output_type": "display_data"
    }
   ],
   "source": [
    "import matplotlib.pyplot as plt\n",
    "fig, ax = plt.subplots()\n",
    "plt = sns.ecdfplot(data=df_all.iloc[:, [0,1,2]]) \n",
    "plt.set(title = \"Empirical cumulative distribution of education levels across states\")"
   ]
  },
  {
   "cell_type": "markdown",
   "metadata": {},
   "source": [
    "Comment: striplots and ecdf plots reproduce the skewness of the respective distributions."
   ]
  },
  {
   "cell_type": "markdown",
   "metadata": {},
   "source": [
    "First view on correlations rebgarding the eduaction variables:"
   ]
  },
  {
   "cell_type": "code",
   "execution_count": 37,
   "metadata": {},
   "outputs": [
    {
     "data": {
      "text/html": [
       "<div>\n",
       "<style scoped>\n",
       "    .dataframe tbody tr th:only-of-type {\n",
       "        vertical-align: middle;\n",
       "    }\n",
       "\n",
       "    .dataframe tbody tr th {\n",
       "        vertical-align: top;\n",
       "    }\n",
       "\n",
       "    .dataframe thead th {\n",
       "        text-align: right;\n",
       "    }\n",
       "</style>\n",
       "<table border=\"1\" class=\"dataframe\">\n",
       "  <thead>\n",
       "    <tr style=\"text-align: right;\">\n",
       "      <th></th>\n",
       "      <th>High_School_graduate_or_higher_pct</th>\n",
       "      <th>Bachelor_degree_or_higher_pct</th>\n",
       "      <th>Advanced_degree_pct</th>\n",
       "    </tr>\n",
       "  </thead>\n",
       "  <tbody>\n",
       "    <tr>\n",
       "      <th>High_School_graduate_or_higher_pct</th>\n",
       "      <td>1.000000</td>\n",
       "      <td>0.327719</td>\n",
       "      <td>0.164272</td>\n",
       "    </tr>\n",
       "    <tr>\n",
       "      <th>Bachelor_degree_or_higher_pct</th>\n",
       "      <td>0.327719</td>\n",
       "      <td>1.000000</td>\n",
       "      <td>0.932006</td>\n",
       "    </tr>\n",
       "    <tr>\n",
       "      <th>Advanced_degree_pct</th>\n",
       "      <td>0.164272</td>\n",
       "      <td>0.932006</td>\n",
       "      <td>1.000000</td>\n",
       "    </tr>\n",
       "  </tbody>\n",
       "</table>\n",
       "</div>"
      ],
      "text/plain": [
       "                                    High_School_graduate_or_higher_pct  \\\n",
       "High_School_graduate_or_higher_pct                            1.000000   \n",
       "Bachelor_degree_or_higher_pct                                 0.327719   \n",
       "Advanced_degree_pct                                           0.164272   \n",
       "\n",
       "                                    Bachelor_degree_or_higher_pct  \\\n",
       "High_School_graduate_or_higher_pct                       0.327719   \n",
       "Bachelor_degree_or_higher_pct                            1.000000   \n",
       "Advanced_degree_pct                                      0.932006   \n",
       "\n",
       "                                    Advanced_degree_pct  \n",
       "High_School_graduate_or_higher_pct             0.164272  \n",
       "Bachelor_degree_or_higher_pct                  0.932006  \n",
       "Advanced_degree_pct                            1.000000  "
      ]
     },
     "execution_count": 37,
     "metadata": {},
     "output_type": "execute_result"
    }
   ],
   "source": [
    "import matplotlib.pyplot as plt\n",
    "df_all.iloc[:, [0,1,2]].corr()"
   ]
  },
  {
   "cell_type": "markdown",
   "metadata": {},
   "source": [
    "Comment: very high correlation between Bachelor or higher and Advanced. ok, advanced is included in the first variable, relatively low correlation btween High school and higher and the other two variables, interesting. What is going on here:"
   ]
  },
  {
   "cell_type": "code",
   "execution_count": 39,
   "metadata": {},
   "outputs": [
    {
     "data": {
      "text/plain": [
       "<seaborn.axisgrid.FacetGrid at 0x19e4a057be0>"
      ]
     },
     "execution_count": 39,
     "metadata": {},
     "output_type": "execute_result"
    },
    {
     "data": {
      "image/png": "[encoded data removed]",
      "text/plain": [
       "<Figure size 465.475x360 with 1 Axes>"
      ]
     },
     "metadata": {},
     "output_type": "display_data"
    }
   ],
   "source": [
    "sns.lmplot(data = df_all, x=\"High_School_graduate_or_higher_pct\", y=\"Bachelor_degree_or_higher_pct\", hue=\"Region\")"
   ]
  },
  {
   "cell_type": "code",
   "execution_count": 40,
   "metadata": {},
   "outputs": [
    {
     "data": {
      "text/plain": [
       "<seaborn.axisgrid.FacetGrid at 0x19e4a0d6bb0>"
      ]
     },
     "execution_count": 40,
     "metadata": {},
     "output_type": "execute_result"
    },
    {
     "data": {
      "image/png": "[encoded data removed]",
      "text/plain": [
       "<Figure size 465.475x360 with 1 Axes>"
      ]
     },
     "metadata": {},
     "output_type": "display_data"
    }
   ],
   "source": [
    "sns.lmplot(data = df_all, x=\"High_School_graduate_or_higher_pct\", y=\"Advanced_degree_pct\", hue=\"Region\")"
   ]
  },
  {
   "cell_type": "markdown",
   "metadata": {},
   "source": [
    "Comment: two points: only South shows a clear trend: with a rising percentage of High school and higher absolvents percentage of bachelor and higher absolvents is rising as well ( corr about 0.7 ).\n",
    "See the correlations below.\n",
    "Second point: with the exception of the South, the other regions show near constant percentage rates for the percentages of academics. "
   ]
  },
  {
   "cell_type": "code",
   "execution_count": 41,
   "metadata": {},
   "outputs": [
    {
     "ename": "SyntaxError",
     "evalue": "EOL while scanning string literal (<ipython-input-41-b5e323c29809>, line 1)",
     "output_type": "error",
     "traceback": [
      "\u001b[1;36m  File \u001b[1;32m\"<ipython-input-41-b5e323c29809>\"\u001b[1;36m, line \u001b[1;32m1\u001b[0m\n\u001b[1;33m    df_all.groupby('Region')[[\"High_School_graduate_or_higher_pct\",\"Bachelor_degree_or_higher_pct\", \"Advanced_degree_pct\" ]].corr().unstack()\"\u001b[0m\n\u001b[1;37m                                                                                                                                              ^\u001b[0m\n\u001b[1;31mSyntaxError\u001b[0m\u001b[1;31m:\u001b[0m EOL while scanning string literal\n"
     ]
    }
   ],
   "source": [
    "df_all.groupby('Region')[[\"High_School_graduate_or_higher_pct\",\"Bachelor_degree_or_higher_pct\", \"Advanced_degree_pct\" ]].corr().unstack()\""
   ]
  },
  {
   "cell_type": "markdown",
   "metadata": {},
   "source": [
    "We saw that two education levels are highly correlated which will disturb the upcoming regression analysis.\n",
    "further on we have to separate the academicmic from the non-academic education levels."
   ]
  },
  {
   "cell_type": "code",
   "execution_count": 42,
   "metadata": {},
   "outputs": [
    {
     "data": {
      "text/html": [
       "<div>\n",
       "<style scoped>\n",
       "    .dataframe tbody tr th:only-of-type {\n",
       "        vertical-align: middle;\n",
       "    }\n",
       "\n",
       "    .dataframe tbody tr th {\n",
       "        vertical-align: top;\n",
       "    }\n",
       "\n",
       "    .dataframe thead th {\n",
       "        text-align: right;\n",
       "    }\n",
       "</style>\n",
       "<table border=\"1\" class=\"dataframe\">\n",
       "  <thead>\n",
       "    <tr style=\"text-align: right;\">\n",
       "      <th></th>\n",
       "      <th>High_School_graduate_or_higher_pct</th>\n",
       "      <th>Bachelor_degree_or_higher_pct</th>\n",
       "      <th>Advanced_degree_pct</th>\n",
       "      <th>LifeExp2018</th>\n",
       "      <th>LifeExp2010</th>\n",
       "      <th>MaleLifeExp</th>\n",
       "      <th>FemLifeExp</th>\n",
       "      <th>Population_2015</th>\n",
       "      <th>Murders_manslaughter_2015</th>\n",
       "      <th>Murders_2015</th>\n",
       "      <th>...</th>\n",
       "      <th>Income2010</th>\n",
       "      <th>Income2009</th>\n",
       "      <th>Income2008</th>\n",
       "      <th>Income2007</th>\n",
       "      <th>Abb</th>\n",
       "      <th>Region</th>\n",
       "      <th>Division</th>\n",
       "      <th>High_school_only</th>\n",
       "      <th>Bachelor_only</th>\n",
       "      <th>No_Highschool</th>\n",
       "    </tr>\n",
       "    <tr>\n",
       "      <th>State</th>\n",
       "      <th></th>\n",
       "      <th></th>\n",
       "      <th></th>\n",
       "      <th></th>\n",
       "      <th></th>\n",
       "      <th></th>\n",
       "      <th></th>\n",
       "      <th></th>\n",
       "      <th></th>\n",
       "      <th></th>\n",
       "      <th></th>\n",
       "      <th></th>\n",
       "      <th></th>\n",
       "      <th></th>\n",
       "      <th></th>\n",
       "      <th></th>\n",
       "      <th></th>\n",
       "      <th></th>\n",
       "      <th></th>\n",
       "      <th></th>\n",
       "      <th></th>\n",
       "    </tr>\n",
       "  </thead>\n",
       "  <tbody>\n",
       "    <tr>\n",
       "      <th>Montana</th>\n",
       "      <td>93.0</td>\n",
       "      <td>30.7</td>\n",
       "      <td>10.1</td>\n",
       "      <td>78.8</td>\n",
       "      <td>78.5</td>\n",
       "      <td>76.8</td>\n",
       "      <td>81.0</td>\n",
       "      <td>1032073.0</td>\n",
       "      <td>36.0</td>\n",
       "      <td>36.0</td>\n",
       "      <td>...</td>\n",
       "      <td>42666.0</td>\n",
       "      <td>42322.0</td>\n",
       "      <td>43654.0</td>\n",
       "      <td>43531.0</td>\n",
       "      <td>MT</td>\n",
       "      <td>West</td>\n",
       "      <td>Mountain</td>\n",
       "      <td>62.3</td>\n",
       "      <td>20.6</td>\n",
       "      <td>7.0</td>\n",
       "    </tr>\n",
       "    <tr>\n",
       "      <th>New_Hampshire</th>\n",
       "      <td>92.8</td>\n",
       "      <td>36.0</td>\n",
       "      <td>13.8</td>\n",
       "      <td>79.5</td>\n",
       "      <td>80.3</td>\n",
       "      <td>77.5</td>\n",
       "      <td>81.4</td>\n",
       "      <td>1330111.0</td>\n",
       "      <td>14.0</td>\n",
       "      <td>14.0</td>\n",
       "      <td>...</td>\n",
       "      <td>61042.0</td>\n",
       "      <td>60567.0</td>\n",
       "      <td>63731.0</td>\n",
       "      <td>62369.0</td>\n",
       "      <td>NH</td>\n",
       "      <td>Northeast</td>\n",
       "      <td>New England</td>\n",
       "      <td>56.8</td>\n",
       "      <td>22.2</td>\n",
       "      <td>7.2</td>\n",
       "    </tr>\n",
       "    <tr>\n",
       "      <th>Minnesota</th>\n",
       "      <td>92.8</td>\n",
       "      <td>34.8</td>\n",
       "      <td>11.8</td>\n",
       "      <td>81.0</td>\n",
       "      <td>80.8</td>\n",
       "      <td>79.0</td>\n",
       "      <td>83.0</td>\n",
       "      <td>5482435.0</td>\n",
       "      <td>133.0</td>\n",
       "      <td>133.0</td>\n",
       "      <td>...</td>\n",
       "      <td>55459.0</td>\n",
       "      <td>55616.0</td>\n",
       "      <td>57288.0</td>\n",
       "      <td>55802.0</td>\n",
       "      <td>MN</td>\n",
       "      <td>North Central</td>\n",
       "      <td>West North Central</td>\n",
       "      <td>58.0</td>\n",
       "      <td>23.0</td>\n",
       "      <td>7.2</td>\n",
       "    </tr>\n",
       "    <tr>\n",
       "      <th>Wyoming</th>\n",
       "      <td>92.8</td>\n",
       "      <td>26.7</td>\n",
       "      <td>9.3</td>\n",
       "      <td>79.0</td>\n",
       "      <td>78.1</td>\n",
       "      <td>77.1</td>\n",
       "      <td>81.1</td>\n",
       "      <td>586107.0</td>\n",
       "      <td>16.0</td>\n",
       "      <td>16.0</td>\n",
       "      <td>...</td>\n",
       "      <td>53512.0</td>\n",
       "      <td>52664.0</td>\n",
       "      <td>53207.0</td>\n",
       "      <td>51731.0</td>\n",
       "      <td>WY</td>\n",
       "      <td>West</td>\n",
       "      <td>Mountain</td>\n",
       "      <td>66.1</td>\n",
       "      <td>17.4</td>\n",
       "      <td>7.2</td>\n",
       "    </tr>\n",
       "    <tr>\n",
       "      <th>Alaska</th>\n",
       "      <td>92.4</td>\n",
       "      <td>29.0</td>\n",
       "      <td>10.4</td>\n",
       "      <td>78.8</td>\n",
       "      <td>78.0</td>\n",
       "      <td>76.7</td>\n",
       "      <td>81.2</td>\n",
       "      <td>737709.0</td>\n",
       "      <td>59.0</td>\n",
       "      <td>57.0</td>\n",
       "      <td>...</td>\n",
       "      <td>64576.0</td>\n",
       "      <td>66953.0</td>\n",
       "      <td>68460.0</td>\n",
       "      <td>64333.0</td>\n",
       "      <td>AK</td>\n",
       "      <td>West</td>\n",
       "      <td>Pacific</td>\n",
       "      <td>63.4</td>\n",
       "      <td>18.6</td>\n",
       "      <td>7.6</td>\n",
       "    </tr>\n",
       "  </tbody>\n",
       "</table>\n",
       "<p>5 rows × 40 columns</p>\n",
       "</div>"
      ],
      "text/plain": [
       "               High_School_graduate_or_higher_pct  \\\n",
       "State                                               \n",
       "Montana                                      93.0   \n",
       "New_Hampshire                                92.8   \n",
       "Minnesota                                    92.8   \n",
       "Wyoming                                      92.8   \n",
       "Alaska                                       92.4   \n",
       "\n",
       "               Bachelor_degree_or_higher_pct  Advanced_degree_pct  \\\n",
       "State                                                               \n",
       "Montana                                 30.7                 10.1   \n",
       "New_Hampshire                           36.0                 13.8   \n",
       "Minnesota                               34.8                 11.8   \n",
       "Wyoming                                 26.7                  9.3   \n",
       "Alaska                                  29.0                 10.4   \n",
       "\n",
       "               LifeExp2018  LifeExp2010  MaleLifeExp  FemLifeExp  \\\n",
       "State                                                              \n",
       "Montana               78.8         78.5         76.8        81.0   \n",
       "New_Hampshire         79.5         80.3         77.5        81.4   \n",
       "Minnesota             81.0         80.8         79.0        83.0   \n",
       "Wyoming               79.0         78.1         77.1        81.1   \n",
       "Alaska                78.8         78.0         76.7        81.2   \n",
       "\n",
       "               Population_2015  Murders_manslaughter_2015  Murders_2015  ...  \\\n",
       "State                                                                    ...   \n",
       "Montana              1032073.0                       36.0          36.0  ...   \n",
       "New_Hampshire        1330111.0                       14.0          14.0  ...   \n",
       "Minnesota            5482435.0                      133.0         133.0  ...   \n",
       "Wyoming               586107.0                       16.0          16.0  ...   \n",
       "Alaska                737709.0                       59.0          57.0  ...   \n",
       "\n",
       "               Income2010  Income2009  Income2008  Income2007  Abb  \\\n",
       "State                                                                \n",
       "Montana           42666.0     42322.0     43654.0     43531.0   MT   \n",
       "New_Hampshire     61042.0     60567.0     63731.0     62369.0   NH   \n",
       "Minnesota         55459.0     55616.0     57288.0     55802.0   MN   \n",
       "Wyoming           53512.0     52664.0     53207.0     51731.0   WY   \n",
       "Alaska            64576.0     66953.0     68460.0     64333.0   AK   \n",
       "\n",
       "                      Region            Division  High_school_only  \\\n",
       "State                                                                \n",
       "Montana                 West            Mountain              62.3   \n",
       "New_Hampshire      Northeast         New England              56.8   \n",
       "Minnesota      North Central  West North Central              58.0   \n",
       "Wyoming                 West            Mountain              66.1   \n",
       "Alaska                  West             Pacific              63.4   \n",
       "\n",
       "               Bachelor_only  No_Highschool  \n",
       "State                                        \n",
       "Montana                 20.6            7.0  \n",
       "New_Hampshire           22.2            7.2  \n",
       "Minnesota               23.0            7.2  \n",
       "Wyoming                 17.4            7.2  \n",
       "Alaska                  18.6            7.6  \n",
       "\n",
       "[5 rows x 40 columns]"
      ]
     },
     "execution_count": 42,
     "metadata": {},
     "output_type": "execute_result"
    }
   ],
   "source": [
    "df_all_enhanced = df_all.loc[:,:]\n",
    "df_all_enhanced.loc[:,\"High_school_only\"] = df_all.iloc[:,0] - df_all.iloc[:,1]\n",
    "df_all_enhanced.loc[:,\"Bachelor_only\"] = df_all.iloc[:,1] - df_all.iloc[:,2]\n",
    "df_all_enhanced.loc[:,\"No_Highschool\"] = 100.0 - df_all.iloc[:,0] \n",
    "df_all_enhanced.head()"
   ]
  },
  {
   "cell_type": "code",
   "execution_count": 43,
   "metadata": {},
   "outputs": [
    {
     "data": {
      "text/plain": [
       "Index(['High_School_graduate_or_higher_pct', 'Bachelor_degree_or_higher_pct',\n",
       "       'Advanced_degree_pct', 'LifeExp2018', 'LifeExp2010', 'MaleLifeExp',\n",
       "       'FemLifeExp', 'Population_2015', 'Murders_manslaughter_2015',\n",
       "       'Murders_2015', 'Gun_Murders_2015', 'Gun_Ownership_2013',\n",
       "       'Murder_Manslaughter_Rate_per_100000_2015',\n",
       "       'Murder_Rate_per_100000_2015', 'Gun_Murder_Rate_per_100000_2015',\n",
       "       'TotalSqMi', 'TotalKmQ', 'LandSqMi', 'LandKmQ', 'LandPer', 'WaterSqMi',\n",
       "       'WaterKmQ', 'WaterPer', 'Income2017', 'Income2016', 'Income2015',\n",
       "       'Income2014', 'Income2013', 'Income2012', 'Income2011', 'Income2010',\n",
       "       'Income2009', 'Income2008', 'Income2007', 'Abb', 'Region', 'Division',\n",
       "       'High_school_only', 'Bachelor_only', 'No_Highschool'],\n",
       "      dtype='object')"
      ]
     },
     "execution_count": 43,
     "metadata": {},
     "output_type": "execute_result"
    }
   ],
   "source": [
    "### all column names.\n",
    "df_all_enhanced.columns"
   ]
  },
  {
   "cell_type": "code",
   "execution_count": 44,
   "metadata": {},
   "outputs": [],
   "source": [
    "#lets rename them\n",
    "df_all_enhanced.columns = ['High_School_graduate_or_higher_pct', 'Education_academics_pct',\n",
    "       'Education_postgraduate_pct', 'LifeExp2018', 'LifeExp2010', 'MaleLifeExp',\n",
    "       'FemLifeExp', 'Population_2015', 'Murders_manslaughter_2015',\n",
    "       'Murders_2015', 'Gun_Murders_2015', 'Gun_Ownership_2013',\n",
    "       'Murder_Manslaughter_Rate_per_100000_2015',\n",
    "       'Murder_Rate_per_100000_2015', 'Gun_Murder_Rate_per_100000_2015',\n",
    "       'TotalSqMi', 'TotalKmQ', 'LandSqMi', 'LandKmQ', 'LandPer', 'WaterSqMi',\n",
    "       'WaterKmQ', 'WaterPer', 'Income2017', 'Income2016', 'Income2015',\n",
    "       'Income2014', 'Income2013', 'Income2012', 'Income2011', 'Income2010',\n",
    "       'Income2009', 'Income2008', 'Income2007', 'Abb', 'Region', 'Division',\n",
    "       'Education_High_school_only_pct', 'Education_Bachelor_only_pct', 'Education_No_Highschool_pct']"
   ]
  },
  {
   "cell_type": "code",
   "execution_count": 45,
   "metadata": {},
   "outputs": [
    {
     "data": {
      "text/plain": [
       "Index(['High_School_graduate_or_higher_pct', 'Education_academics_pct',\n",
       "       'Education_postgraduate_pct', 'LifeExp2018', 'LifeExp2010',\n",
       "       'MaleLifeExp', 'FemLifeExp', 'Population_2015',\n",
       "       'Murders_manslaughter_2015', 'Murders_2015', 'Gun_Murders_2015',\n",
       "       'Gun_Ownership_2013', 'Murder_Manslaughter_Rate_per_100000_2015',\n",
       "       'Murder_Rate_per_100000_2015', 'Gun_Murder_Rate_per_100000_2015',\n",
       "       'TotalSqMi', 'TotalKmQ', 'LandSqMi', 'LandKmQ', 'LandPer', 'WaterSqMi',\n",
       "       'WaterKmQ', 'WaterPer', 'Income2017', 'Income2016', 'Income2015',\n",
       "       'Income2014', 'Income2013', 'Income2012', 'Income2011', 'Income2010',\n",
       "       'Income2009', 'Income2008', 'Income2007', 'Abb', 'Region', 'Division',\n",
       "       'Education_High_school_only_pct', 'Education_Bachelor_only_pct',\n",
       "       'Education_No_Highschool_pct'],\n",
       "      dtype='object')"
      ]
     },
     "execution_count": 45,
     "metadata": {},
     "output_type": "execute_result"
    }
   ],
   "source": [
    "df_all_enhanced.columns"
   ]
  },
  {
   "cell_type": "code",
   "execution_count": 49,
   "metadata": {},
   "outputs": [],
   "source": [
    "### now we change the column order and get rid of some columns\n",
    "                                             \n",
    "column_names =  ['Education_No_Highschool_pct','Education_High_school_only_pct', 'Education_Bachelor_only_pct', 'Education_academics_pct',\n",
    "       'Education_postgraduate_pct', 'LifeExp2018', 'LifeExp2010',\n",
    "       'MaleLifeExp', 'FemLifeExp', 'Population_2015',\n",
    "       'Murders_manslaughter_2015', 'Murders_2015', 'Gun_Murders_2015',\n",
    "       'Gun_Ownership_2013', 'Murder_Manslaughter_Rate_per_100000_2015',\n",
    "       'Murder_Rate_per_100000_2015', 'Gun_Murder_Rate_per_100000_2015',\n",
    "       'TotalSqMi', 'TotalKmQ', 'LandSqMi', 'LandKmQ', 'LandPer', 'WaterSqMi',\n",
    "       'WaterKmQ', 'WaterPer', 'Income2017', 'Income2016', 'Income2015',\n",
    "       'Income2014', 'Income2013', 'Income2012', 'Income2011', 'Income2010',\n",
    "       'Income2009', 'Income2008', 'Income2007', 'Abb', 'Region', 'Division' ] \n",
    "\n",
    "df_all_enhanced = df_all_enhanced.reindex(columns=column_names)                                                                                         \n",
    "                                              "
   ]
  },
  {
   "cell_type": "code",
   "execution_count": 50,
   "metadata": {},
   "outputs": [
    {
     "data": {
      "text/html": [
       "<div>\n",
       "<style scoped>\n",
       "    .dataframe tbody tr th:only-of-type {\n",
       "        vertical-align: middle;\n",
       "    }\n",
       "\n",
       "    .dataframe tbody tr th {\n",
       "        vertical-align: top;\n",
       "    }\n",
       "\n",
       "    .dataframe thead th {\n",
       "        text-align: right;\n",
       "    }\n",
       "</style>\n",
       "<table border=\"1\" class=\"dataframe\">\n",
       "  <thead>\n",
       "    <tr style=\"text-align: right;\">\n",
       "      <th></th>\n",
       "      <th>Education_No_Highschool_pct</th>\n",
       "      <th>Education_High_school_only_pct</th>\n",
       "      <th>Education_Bachelor_only_pct</th>\n",
       "      <th>Education_academics_pct</th>\n",
       "      <th>Education_postgraduate_pct</th>\n",
       "      <th>LifeExp2018</th>\n",
       "      <th>LifeExp2010</th>\n",
       "      <th>MaleLifeExp</th>\n",
       "      <th>FemLifeExp</th>\n",
       "      <th>Population_2015</th>\n",
       "      <th>...</th>\n",
       "      <th>Income2013</th>\n",
       "      <th>Income2012</th>\n",
       "      <th>Income2011</th>\n",
       "      <th>Income2010</th>\n",
       "      <th>Income2009</th>\n",
       "      <th>Income2008</th>\n",
       "      <th>Income2007</th>\n",
       "      <th>Abb</th>\n",
       "      <th>Region</th>\n",
       "      <th>Division</th>\n",
       "    </tr>\n",
       "    <tr>\n",
       "      <th>State</th>\n",
       "      <th></th>\n",
       "      <th></th>\n",
       "      <th></th>\n",
       "      <th></th>\n",
       "      <th></th>\n",
       "      <th></th>\n",
       "      <th></th>\n",
       "      <th></th>\n",
       "      <th></th>\n",
       "      <th></th>\n",
       "      <th></th>\n",
       "      <th></th>\n",
       "      <th></th>\n",
       "      <th></th>\n",
       "      <th></th>\n",
       "      <th></th>\n",
       "      <th></th>\n",
       "      <th></th>\n",
       "      <th></th>\n",
       "      <th></th>\n",
       "      <th></th>\n",
       "    </tr>\n",
       "  </thead>\n",
       "  <tbody>\n",
       "    <tr>\n",
       "      <th>Montana</th>\n",
       "      <td>7.0</td>\n",
       "      <td>62.3</td>\n",
       "      <td>20.6</td>\n",
       "      <td>30.7</td>\n",
       "      <td>10.1</td>\n",
       "      <td>78.8</td>\n",
       "      <td>78.5</td>\n",
       "      <td>76.8</td>\n",
       "      <td>81.0</td>\n",
       "      <td>1032073.0</td>\n",
       "      <td>...</td>\n",
       "      <td>46972.0</td>\n",
       "      <td>45076.0</td>\n",
       "      <td>44222.0</td>\n",
       "      <td>42666.0</td>\n",
       "      <td>42322.0</td>\n",
       "      <td>43654.0</td>\n",
       "      <td>43531.0</td>\n",
       "      <td>MT</td>\n",
       "      <td>West</td>\n",
       "      <td>Mountain</td>\n",
       "    </tr>\n",
       "    <tr>\n",
       "      <th>New_Hampshire</th>\n",
       "      <td>7.2</td>\n",
       "      <td>56.8</td>\n",
       "      <td>22.2</td>\n",
       "      <td>36.0</td>\n",
       "      <td>13.8</td>\n",
       "      <td>79.5</td>\n",
       "      <td>80.3</td>\n",
       "      <td>77.5</td>\n",
       "      <td>81.4</td>\n",
       "      <td>1330111.0</td>\n",
       "      <td>...</td>\n",
       "      <td>64230.0</td>\n",
       "      <td>63280.0</td>\n",
       "      <td>62647.0</td>\n",
       "      <td>61042.0</td>\n",
       "      <td>60567.0</td>\n",
       "      <td>63731.0</td>\n",
       "      <td>62369.0</td>\n",
       "      <td>NH</td>\n",
       "      <td>Northeast</td>\n",
       "      <td>New England</td>\n",
       "    </tr>\n",
       "    <tr>\n",
       "      <th>Minnesota</th>\n",
       "      <td>7.2</td>\n",
       "      <td>58.0</td>\n",
       "      <td>23.0</td>\n",
       "      <td>34.8</td>\n",
       "      <td>11.8</td>\n",
       "      <td>81.0</td>\n",
       "      <td>80.8</td>\n",
       "      <td>79.0</td>\n",
       "      <td>83.0</td>\n",
       "      <td>5482435.0</td>\n",
       "      <td>...</td>\n",
       "      <td>60702.0</td>\n",
       "      <td>58906.0</td>\n",
       "      <td>56954.0</td>\n",
       "      <td>55459.0</td>\n",
       "      <td>55616.0</td>\n",
       "      <td>57288.0</td>\n",
       "      <td>55802.0</td>\n",
       "      <td>MN</td>\n",
       "      <td>North Central</td>\n",
       "      <td>West North Central</td>\n",
       "    </tr>\n",
       "    <tr>\n",
       "      <th>Wyoming</th>\n",
       "      <td>7.2</td>\n",
       "      <td>66.1</td>\n",
       "      <td>17.4</td>\n",
       "      <td>26.7</td>\n",
       "      <td>9.3</td>\n",
       "      <td>79.0</td>\n",
       "      <td>78.1</td>\n",
       "      <td>77.1</td>\n",
       "      <td>81.1</td>\n",
       "      <td>586107.0</td>\n",
       "      <td>...</td>\n",
       "      <td>58752.0</td>\n",
       "      <td>54901.0</td>\n",
       "      <td>56322.0</td>\n",
       "      <td>53512.0</td>\n",
       "      <td>52664.0</td>\n",
       "      <td>53207.0</td>\n",
       "      <td>51731.0</td>\n",
       "      <td>WY</td>\n",
       "      <td>West</td>\n",
       "      <td>Mountain</td>\n",
       "    </tr>\n",
       "    <tr>\n",
       "      <th>Alaska</th>\n",
       "      <td>7.6</td>\n",
       "      <td>63.4</td>\n",
       "      <td>18.6</td>\n",
       "      <td>29.0</td>\n",
       "      <td>10.4</td>\n",
       "      <td>78.8</td>\n",
       "      <td>78.0</td>\n",
       "      <td>76.7</td>\n",
       "      <td>81.2</td>\n",
       "      <td>737709.0</td>\n",
       "      <td>...</td>\n",
       "      <td>72237.0</td>\n",
       "      <td>67712.0</td>\n",
       "      <td>67825.0</td>\n",
       "      <td>64576.0</td>\n",
       "      <td>66953.0</td>\n",
       "      <td>68460.0</td>\n",
       "      <td>64333.0</td>\n",
       "      <td>AK</td>\n",
       "      <td>West</td>\n",
       "      <td>Pacific</td>\n",
       "    </tr>\n",
       "  </tbody>\n",
       "</table>\n",
       "<p>5 rows × 39 columns</p>\n",
       "</div>"
      ],
      "text/plain": [
       "               Education_No_Highschool_pct  Education_High_school_only_pct  \\\n",
       "State                                                                        \n",
       "Montana                                7.0                            62.3   \n",
       "New_Hampshire                          7.2                            56.8   \n",
       "Minnesota                              7.2                            58.0   \n",
       "Wyoming                                7.2                            66.1   \n",
       "Alaska                                 7.6                            63.4   \n",
       "\n",
       "               Education_Bachelor_only_pct  Education_academics_pct  \\\n",
       "State                                                                 \n",
       "Montana                               20.6                     30.7   \n",
       "New_Hampshire                         22.2                     36.0   \n",
       "Minnesota                             23.0                     34.8   \n",
       "Wyoming                               17.4                     26.7   \n",
       "Alaska                                18.6                     29.0   \n",
       "\n",
       "               Education_postgraduate_pct  LifeExp2018  LifeExp2010  \\\n",
       "State                                                                 \n",
       "Montana                              10.1         78.8         78.5   \n",
       "New_Hampshire                        13.8         79.5         80.3   \n",
       "Minnesota                            11.8         81.0         80.8   \n",
       "Wyoming                               9.3         79.0         78.1   \n",
       "Alaska                               10.4         78.8         78.0   \n",
       "\n",
       "               MaleLifeExp  FemLifeExp  Population_2015  ...  Income2013  \\\n",
       "State                                                    ...               \n",
       "Montana               76.8        81.0        1032073.0  ...     46972.0   \n",
       "New_Hampshire         77.5        81.4        1330111.0  ...     64230.0   \n",
       "Minnesota             79.0        83.0        5482435.0  ...     60702.0   \n",
       "Wyoming               77.1        81.1         586107.0  ...     58752.0   \n",
       "Alaska                76.7        81.2         737709.0  ...     72237.0   \n",
       "\n",
       "               Income2012  Income2011  Income2010  Income2009  Income2008  \\\n",
       "State                                                                       \n",
       "Montana           45076.0     44222.0     42666.0     42322.0     43654.0   \n",
       "New_Hampshire     63280.0     62647.0     61042.0     60567.0     63731.0   \n",
       "Minnesota         58906.0     56954.0     55459.0     55616.0     57288.0   \n",
       "Wyoming           54901.0     56322.0     53512.0     52664.0     53207.0   \n",
       "Alaska            67712.0     67825.0     64576.0     66953.0     68460.0   \n",
       "\n",
       "               Income2007  Abb         Region            Division  \n",
       "State                                                              \n",
       "Montana           43531.0   MT           West            Mountain  \n",
       "New_Hampshire     62369.0   NH      Northeast         New England  \n",
       "Minnesota         55802.0   MN  North Central  West North Central  \n",
       "Wyoming           51731.0   WY           West            Mountain  \n",
       "Alaska            64333.0   AK           West             Pacific  \n",
       "\n",
       "[5 rows x 39 columns]"
      ]
     },
     "execution_count": 50,
     "metadata": {},
     "output_type": "execute_result"
    }
   ],
   "source": [
    "df_all_enhanced.head()\n"
   ]
  },
  {
   "cell_type": "code",
   "execution_count": 52,
   "metadata": {},
   "outputs": [
    {
     "data": {
      "text/plain": [
       "State\n",
       "Montana          100.0\n",
       "New_Hampshire    100.0\n",
       "Minnesota        100.0\n",
       "Wyoming          100.0\n",
       "Alaska           100.0\n",
       "dtype: float64"
      ]
     },
     "execution_count": 52,
     "metadata": {},
     "output_type": "execute_result"
    }
   ],
   "source": [
    "#do the relevant columns sum up to 100\n",
    "df_all_enhanced.iloc[:,[0,1,2,4]].sum(axis = 1).head()"
   ]
  },
  {
   "cell_type": "code",
   "execution_count": 53,
   "metadata": {},
   "outputs": [
    {
     "data": {
      "text/plain": [
       "State\n",
       "Montana          100.0\n",
       "New_Hampshire    100.0\n",
       "Minnesota        100.0\n",
       "Wyoming          100.0\n",
       "Alaska           100.0\n",
       "dtype: float64"
      ]
     },
     "execution_count": 53,
     "metadata": {},
     "output_type": "execute_result"
    }
   ],
   "source": [
    "df_all_enhanced.iloc[:,[0,1,3]].sum(axis = 1).head()"
   ]
  },
  {
   "cell_type": "markdown",
   "metadata": {},
   "source": [
    "puh, all fine.\n",
    "Now we have a more differentiated and clearer view on the situation.\n",
    "During the upcoming regression analysis it might be useful to transform the eduaction variables into categories by using quantiles. perhaps 3 levels might suffice. ( low, medium, high )\n",
    "Lets do this for No High School, High school only and Academics. "
   ]
  },
  {
   "cell_type": "code",
   "execution_count": 59,
   "metadata": {},
   "outputs": [],
   "source": [
    "labels = [\"low\", \"medium\", \"high\"]\n",
    "#pandas.qcut(x, q, labels=None, retbins=False, precision=3, duplicates='raise')\n",
    "df_all_enhanced.loc[:,\"No_Highschool_pct_cat\"] = pd.qcut(df_all_enhanced.Education_No_Highschool_pct, 3, labels=labels)"
   ]
  },
  {
   "cell_type": "code",
   "execution_count": 60,
   "metadata": {},
   "outputs": [],
   "source": [
    "df_all_enhanced.loc[:,\"Highschool_only_pct_cat\"] = pd.qcut(df_all_enhanced.Education_High_school_only_pct, 3, labels=labels)"
   ]
  },
  {
   "cell_type": "code",
   "execution_count": 61,
   "metadata": {},
   "outputs": [],
   "source": [
    "df_all_enhanced.loc[:,\"Academics_pct_cat\"] = pd.qcut(df_all_enhanced.Education_academics_pct, 3, labels=labels)"
   ]
  },
  {
   "cell_type": "markdown",
   "metadata": {},
   "source": [
    "Now we can start a regional analysis."
   ]
  },
  {
   "cell_type": "code",
   "execution_count": 85,
   "metadata": {},
   "outputs": [
    {
     "data": {
      "text/html": [
       "<div>\n",
       "<style scoped>\n",
       "    .dataframe tbody tr th:only-of-type {\n",
       "        vertical-align: middle;\n",
       "    }\n",
       "\n",
       "    .dataframe tbody tr th {\n",
       "        vertical-align: top;\n",
       "    }\n",
       "\n",
       "    .dataframe thead th {\n",
       "        text-align: right;\n",
       "    }\n",
       "</style>\n",
       "<table border=\"1\" class=\"dataframe\">\n",
       "  <thead>\n",
       "    <tr style=\"text-align: right;\">\n",
       "      <th>No_Highschool_pct_cat</th>\n",
       "      <th>low</th>\n",
       "      <th>medium</th>\n",
       "      <th>high</th>\n",
       "    </tr>\n",
       "    <tr>\n",
       "      <th>Region</th>\n",
       "      <th></th>\n",
       "      <th></th>\n",
       "      <th></th>\n",
       "    </tr>\n",
       "  </thead>\n",
       "  <tbody>\n",
       "    <tr>\n",
       "      <th>North Central</th>\n",
       "      <td>7</td>\n",
       "      <td>5</td>\n",
       "      <td>0</td>\n",
       "    </tr>\n",
       "    <tr>\n",
       "      <th>Northeast</th>\n",
       "      <td>3</td>\n",
       "      <td>5</td>\n",
       "      <td>1</td>\n",
       "    </tr>\n",
       "    <tr>\n",
       "      <th>South</th>\n",
       "      <td>0</td>\n",
       "      <td>5</td>\n",
       "      <td>11</td>\n",
       "    </tr>\n",
       "    <tr>\n",
       "      <th>West</th>\n",
       "      <td>7</td>\n",
       "      <td>1</td>\n",
       "      <td>5</td>\n",
       "    </tr>\n",
       "  </tbody>\n",
       "</table>\n",
       "</div>"
      ],
      "text/plain": [
       "No_Highschool_pct_cat  low  medium  high\n",
       "Region                                  \n",
       "North Central            7       5     0\n",
       "Northeast                3       5     1\n",
       "South                    0       5    11\n",
       "West                     7       1     5"
      ]
     },
     "execution_count": 85,
     "metadata": {},
     "output_type": "execute_result"
    }
   ],
   "source": [
    "df_all_enhanced.loc[:,[\"No_Highschool_pct_cat\", \"Region\" ]]. \\\n",
    "groupby(['Region', 'No_Highschool_pct_cat']).size().unstack(fill_value=0)\n",
    "                   "
   ]
  },
  {
   "cell_type": "markdown",
   "metadata": {},
   "source": [
    "South stands out with a high percentage of No Highschool.\n",
    "West shows a separation between low and high.\n",
    "Which states for high and low:"
   ]
  },
  {
   "cell_type": "code",
   "execution_count": 97,
   "metadata": {},
   "outputs": [
    {
     "data": {
      "text/plain": [
       "State\n",
       "Montana          low\n",
       "Wyoming          low\n",
       "Alaska           low\n",
       "Utah             low\n",
       "Hawaii           low\n",
       "Colorado         low\n",
       "Washington       low\n",
       "Idaho         medium\n",
       "Oregon          high\n",
       "Nevada          high\n",
       "New_Mexico      high\n",
       "California      high\n",
       "Arizona         high\n",
       "Name: No_Highschool_pct_cat, dtype: category\n",
       "Categories (3, object): [low < medium < high]"
      ]
     },
     "execution_count": 97,
     "metadata": {},
     "output_type": "execute_result"
    }
   ],
   "source": [
    "#df_all_enhanced.loc[[df_all_enhanced.Region == \"West\"],[\"No_Highschool_pct_cat\"]]\n",
    "filter = df_all_enhanced.Region == \"West\"\n",
    "df_all_enhanced.loc[filter,\"No_Highschool_pct_cat\"]"
   ]
  },
  {
   "cell_type": "code",
   "execution_count": 113,
   "metadata": {},
   "outputs": [
    {
     "data": {
      "text/plain": [
       "<matplotlib.axes._subplots.AxesSubplot at 0x19e4a4deb50>"
      ]
     },
     "execution_count": 113,
     "metadata": {},
     "output_type": "execute_result"
    },
    {
     "data": {
      "image/png": "[encoded data removed]",
      "text/plain": [
       "<Figure size 720x360 with 1 Axes>"
      ]
     },
     "metadata": {},
     "output_type": "display_data"
    }
   ],
   "source": [
    "# let us plot a barchart for No Highschool per region\n",
    "temp = pd.DataFrame(df_all_enhanced.loc[:,[\"No_Highschool_pct_cat\", \"Region\" ]]. \\\n",
    "groupby(['Region', 'No_Highschool_pct_cat']).size())\n",
    "temp.columns = [\"count\"]\n",
    "temp = temp.reset_index()\n",
    "sns.barplot(x=\"No_Highschool_pct_cat\", y=\"count\", hue=\"Region\", data=temp)"
   ]
  },
  {
   "cell_type": "code",
   "execution_count": 94,
   "metadata": {},
   "outputs": [
    {
     "data": {
      "text/html": [
       "<div>\n",
       "<style scoped>\n",
       "    .dataframe tbody tr th:only-of-type {\n",
       "        vertical-align: middle;\n",
       "    }\n",
       "\n",
       "    .dataframe tbody tr th {\n",
       "        vertical-align: top;\n",
       "    }\n",
       "\n",
       "    .dataframe thead th {\n",
       "        text-align: right;\n",
       "    }\n",
       "</style>\n",
       "<table border=\"1\" class=\"dataframe\">\n",
       "  <thead>\n",
       "    <tr style=\"text-align: right;\">\n",
       "      <th>Highschool_only_pct_cat</th>\n",
       "      <th>low</th>\n",
       "      <th>medium</th>\n",
       "      <th>high</th>\n",
       "    </tr>\n",
       "    <tr>\n",
       "      <th>Region</th>\n",
       "      <th></th>\n",
       "      <th></th>\n",
       "      <th></th>\n",
       "    </tr>\n",
       "  </thead>\n",
       "  <tbody>\n",
       "    <tr>\n",
       "      <th>North Central</th>\n",
       "      <td>1</td>\n",
       "      <td>4</td>\n",
       "      <td>7</td>\n",
       "    </tr>\n",
       "    <tr>\n",
       "      <th>Northeast</th>\n",
       "      <td>6</td>\n",
       "      <td>3</td>\n",
       "      <td>0</td>\n",
       "    </tr>\n",
       "    <tr>\n",
       "      <th>South</th>\n",
       "      <td>4</td>\n",
       "      <td>7</td>\n",
       "      <td>5</td>\n",
       "    </tr>\n",
       "    <tr>\n",
       "      <th>West</th>\n",
       "      <td>5</td>\n",
       "      <td>3</td>\n",
       "      <td>5</td>\n",
       "    </tr>\n",
       "  </tbody>\n",
       "</table>\n",
       "</div>"
      ],
      "text/plain": [
       "Highschool_only_pct_cat  low  medium  high\n",
       "Region                                    \n",
       "North Central              1       4     7\n",
       "Northeast                  6       3     0\n",
       "South                      4       7     5\n",
       "West                       5       3     5"
      ]
     },
     "execution_count": 94,
     "metadata": {},
     "output_type": "execute_result"
    }
   ],
   "source": [
    "df_all_enhanced.loc[:,[\"Highschool_only_pct_cat\", \"Region\" ]]. \\\n",
    "groupby(['Region', \"Highschool_only_pct_cat\"]).size().unstack(fill_value=0)\n",
    "                   "
   ]
  },
  {
   "cell_type": "code",
   "execution_count": 95,
   "metadata": {},
   "outputs": [
    {
     "data": {
      "text/html": [
       "<div>\n",
       "<style scoped>\n",
       "    .dataframe tbody tr th:only-of-type {\n",
       "        vertical-align: middle;\n",
       "    }\n",
       "\n",
       "    .dataframe tbody tr th {\n",
       "        vertical-align: top;\n",
       "    }\n",
       "\n",
       "    .dataframe thead th {\n",
       "        text-align: right;\n",
       "    }\n",
       "</style>\n",
       "<table border=\"1\" class=\"dataframe\">\n",
       "  <thead>\n",
       "    <tr style=\"text-align: right;\">\n",
       "      <th>Academics_pct_cat</th>\n",
       "      <th>low</th>\n",
       "      <th>medium</th>\n",
       "      <th>high</th>\n",
       "    </tr>\n",
       "    <tr>\n",
       "      <th>Region</th>\n",
       "      <th></th>\n",
       "      <th></th>\n",
       "      <th></th>\n",
       "    </tr>\n",
       "  </thead>\n",
       "  <tbody>\n",
       "    <tr>\n",
       "      <th>North Central</th>\n",
       "      <td>4</td>\n",
       "      <td>6</td>\n",
       "      <td>2</td>\n",
       "    </tr>\n",
       "    <tr>\n",
       "      <th>Northeast</th>\n",
       "      <td>0</td>\n",
       "      <td>2</td>\n",
       "      <td>7</td>\n",
       "    </tr>\n",
       "    <tr>\n",
       "      <th>South</th>\n",
       "      <td>9</td>\n",
       "      <td>5</td>\n",
       "      <td>2</td>\n",
       "    </tr>\n",
       "    <tr>\n",
       "      <th>West</th>\n",
       "      <td>4</td>\n",
       "      <td>5</td>\n",
       "      <td>4</td>\n",
       "    </tr>\n",
       "  </tbody>\n",
       "</table>\n",
       "</div>"
      ],
      "text/plain": [
       "Academics_pct_cat  low  medium  high\n",
       "Region                              \n",
       "North Central        4       6     2\n",
       "Northeast            0       2     7\n",
       "South                9       5     2\n",
       "West                 4       5     4"
      ]
     },
     "execution_count": 95,
     "metadata": {},
     "output_type": "execute_result"
    }
   ],
   "source": [
    "df_all_enhanced.loc[:,[\"Academics_pct_cat\", \"Region\" ]]. \\\n",
    "groupby(['Region', \"Academics_pct_cat\"]).size().unstack(fill_value=0)"
   ]
  },
  {
   "cell_type": "code",
   "execution_count": 115,
   "metadata": {},
   "outputs": [
    {
     "data": {
      "text/plain": [
       "<matplotlib.axes._subplots.AxesSubplot at 0x19e4a711f70>"
      ]
     },
     "execution_count": 115,
     "metadata": {},
     "output_type": "execute_result"
    },
    {
     "data": {
      "image/png": "[encoded data removed]",
      "text/plain": [
       "<Figure size 720x360 with 1 Axes>"
      ]
     },
     "metadata": {},
     "output_type": "display_data"
    }
   ],
   "source": [
    "# let us plot a barchart for Academics per region\n",
    "temp = pd.DataFrame(df_all_enhanced.loc[:,[\"Academics_pct_cat\", \"Region\" ]]. \\\n",
    "groupby(['Region', 'Academics_pct_cat']).size())\n",
    "temp.columns = [\"count\"]\n",
    "temp = temp.reset_index()\n",
    "sns.barplot(x=\"Academics_pct_cat\", y=\"count\", hue=\"Region\", data=temp)"
   ]
  },
  {
   "cell_type": "markdown",
   "metadata": {},
   "source": [
    "Here we have a quit clear picture: Northeast shows a high rate of academics,\n",
    "South a relatively low rate.\n",
    "To conclude: No Highschol percentage and Academics percentage might be useful for a regional differentiated analysis of may be income ( probably highly correlated and life expectancy. \n",
    "Further on "
   ]
  },
  {
   "cell_type": "markdown",
   "metadata": {},
   "source": [
    "Now we cam start with first correlation analysis "
   ]
  },
  {
   "cell_type": "code",
   "execution_count": 116,
   "metadata": {},
   "outputs": [
    {
     "data": {
      "text/plain": [
       "Index(['Education_No_Highschool_pct', 'Education_High_school_only_pct',\n",
       "       'Education_Bachelor_only_pct', 'Education_academics_pct',\n",
       "       'Education_postgraduate_pct', 'LifeExp2018', 'LifeExp2010',\n",
       "       'MaleLifeExp', 'FemLifeExp', 'Population_2015',\n",
       "       'Murders_manslaughter_2015', 'Murders_2015', 'Gun_Murders_2015',\n",
       "       'Gun_Ownership_2013', 'Murder_Manslaughter_Rate_per_100000_2015',\n",
       "       'Murder_Rate_per_100000_2015', 'Gun_Murder_Rate_per_100000_2015',\n",
       "       'TotalSqMi', 'TotalKmQ', 'LandSqMi', 'LandKmQ', 'LandPer', 'WaterSqMi',\n",
       "       'WaterKmQ', 'WaterPer', 'Income2017', 'Income2016', 'Income2015',\n",
       "       'Income2014', 'Income2013', 'Income2012', 'Income2011', 'Income2010',\n",
       "       'Income2009', 'Income2008', 'Income2007', 'Abb', 'Region', 'Division',\n",
       "       'No_Highschool_pct_cat', 'Highschool_only_pct_cat',\n",
       "       'Academics_pct_cat'],\n",
       "      dtype='object')"
      ]
     },
     "execution_count": 116,
     "metadata": {},
     "output_type": "execute_result"
    }
   ],
   "source": [
    "df_all_enhanced.columns"
   ]
  },
  {
   "cell_type": "code",
   "execution_count": null,
   "metadata": {},
   "outputs": [],
   "source": []
  },
  {
   "cell_type": "code",
   "execution_count": 119,
   "metadata": {},
   "outputs": [
    {
     "data": {
      "text/plain": [
       "Education_No_Highschool_pct     Education_No_Highschool_pct       1.000000\n",
       "                                Education_High_school_only_pct   -0.234693\n",
       "                                Education_academics_pct          -0.327719\n",
       "                                LifeExp2018                      -0.318060\n",
       "Education_High_school_only_pct  Education_No_Highschool_pct      -0.234693\n",
       "                                Education_High_school_only_pct    1.000000\n",
       "                                Education_academics_pct          -0.841473\n",
       "                                LifeExp2018                      -0.445638\n",
       "Education_academics_pct         Education_No_Highschool_pct      -0.327719\n",
       "                                Education_High_school_only_pct   -0.841473\n",
       "                                Education_academics_pct           1.000000\n",
       "                                LifeExp2018                       0.609911\n",
       "LifeExp2018                     Education_No_Highschool_pct      -0.318060\n",
       "                                Education_High_school_only_pct   -0.445638\n",
       "                                Education_academics_pct           0.609911\n",
       "                                LifeExp2018                       1.000000\n",
       "dtype: float64"
      ]
     },
     "execution_count": 119,
     "metadata": {},
     "output_type": "execute_result"
    }
   ],
   "source": [
    "### non regional\n",
    "df_all_enhanced[[\"Education_No_Highschool_pct\",\"Education_High_school_only_pct\",\"Education_academics_pct\",\"LifeExp2018\" ]].corr().unstack()\n"
   ]
  },
  {
   "cell_type": "markdown",
   "metadata": {},
   "source": [
    "Comment: Across all regions, the percentage of academics has the highest impact on Life expectancy.\n",
    "What about the regions:"
   ]
  },
  {
   "cell_type": "code",
   "execution_count": 178,
   "metadata": {
    "scrolled": true
   },
   "outputs": [
    {
     "data": {
      "text/html": [
       "<div>\n",
       "<style scoped>\n",
       "    .dataframe tbody tr th:only-of-type {\n",
       "        vertical-align: middle;\n",
       "    }\n",
       "\n",
       "    .dataframe tbody tr th {\n",
       "        vertical-align: top;\n",
       "    }\n",
       "\n",
       "    .dataframe thead tr th {\n",
       "        text-align: left;\n",
       "    }\n",
       "\n",
       "    .dataframe thead tr:last-of-type th {\n",
       "        text-align: right;\n",
       "    }\n",
       "</style>\n",
       "<table border=\"1\" class=\"dataframe\">\n",
       "  <thead>\n",
       "    <tr>\n",
       "      <th></th>\n",
       "      <th colspan=\"4\" halign=\"left\">Education_No_Highschool_pct</th>\n",
       "      <th colspan=\"4\" halign=\"left\">Education_High_school_only_pct</th>\n",
       "      <th colspan=\"4\" halign=\"left\">Education_academics_pct</th>\n",
       "      <th colspan=\"4\" halign=\"left\">LifeExp2018</th>\n",
       "    </tr>\n",
       "    <tr>\n",
       "      <th></th>\n",
       "      <th>Education_No_Highschool_pct</th>\n",
       "      <th>Education_High_school_only_pct</th>\n",
       "      <th>Education_academics_pct</th>\n",
       "      <th>LifeExp2018</th>\n",
       "      <th>Education_No_Highschool_pct</th>\n",
       "      <th>Education_High_school_only_pct</th>\n",
       "      <th>Education_academics_pct</th>\n",
       "      <th>LifeExp2018</th>\n",
       "      <th>Education_No_Highschool_pct</th>\n",
       "      <th>Education_High_school_only_pct</th>\n",
       "      <th>Education_academics_pct</th>\n",
       "      <th>LifeExp2018</th>\n",
       "      <th>Education_No_Highschool_pct</th>\n",
       "      <th>Education_High_school_only_pct</th>\n",
       "      <th>Education_academics_pct</th>\n",
       "      <th>LifeExp2018</th>\n",
       "    </tr>\n",
       "    <tr>\n",
       "      <th>Region</th>\n",
       "      <th></th>\n",
       "      <th></th>\n",
       "      <th></th>\n",
       "      <th></th>\n",
       "      <th></th>\n",
       "      <th></th>\n",
       "      <th></th>\n",
       "      <th></th>\n",
       "      <th></th>\n",
       "      <th></th>\n",
       "      <th></th>\n",
       "      <th></th>\n",
       "      <th></th>\n",
       "      <th></th>\n",
       "      <th></th>\n",
       "      <th></th>\n",
       "    </tr>\n",
       "  </thead>\n",
       "  <tbody>\n",
       "    <tr>\n",
       "      <th>North Central</th>\n",
       "      <td>1.0</td>\n",
       "      <td>-0.237709</td>\n",
       "      <td>-0.285561</td>\n",
       "      <td>-0.777362</td>\n",
       "      <td>-0.237709</td>\n",
       "      <td>1.0</td>\n",
       "      <td>-0.863010</td>\n",
       "      <td>-0.271790</td>\n",
       "      <td>-0.285561</td>\n",
       "      <td>-0.863010</td>\n",
       "      <td>1.0</td>\n",
       "      <td>0.672461</td>\n",
       "      <td>-0.777362</td>\n",
       "      <td>-0.271790</td>\n",
       "      <td>0.672461</td>\n",
       "      <td>1.0</td>\n",
       "    </tr>\n",
       "    <tr>\n",
       "      <th>Northeast</th>\n",
       "      <td>1.0</td>\n",
       "      <td>-0.480357</td>\n",
       "      <td>-0.028307</td>\n",
       "      <td>0.529128</td>\n",
       "      <td>-0.480357</td>\n",
       "      <td>1.0</td>\n",
       "      <td>-0.863124</td>\n",
       "      <td>-0.899784</td>\n",
       "      <td>-0.028307</td>\n",
       "      <td>-0.863124</td>\n",
       "      <td>1.0</td>\n",
       "      <td>0.720827</td>\n",
       "      <td>0.529128</td>\n",
       "      <td>-0.899784</td>\n",
       "      <td>0.720827</td>\n",
       "      <td>1.0</td>\n",
       "    </tr>\n",
       "    <tr>\n",
       "      <th>South</th>\n",
       "      <td>1.0</td>\n",
       "      <td>0.427692</td>\n",
       "      <td>-0.703931</td>\n",
       "      <td>-0.513410</td>\n",
       "      <td>0.427692</td>\n",
       "      <td>1.0</td>\n",
       "      <td>-0.943095</td>\n",
       "      <td>-0.830866</td>\n",
       "      <td>-0.703931</td>\n",
       "      <td>-0.943095</td>\n",
       "      <td>1.0</td>\n",
       "      <td>0.841729</td>\n",
       "      <td>-0.513410</td>\n",
       "      <td>-0.830866</td>\n",
       "      <td>0.841729</td>\n",
       "      <td>1.0</td>\n",
       "    </tr>\n",
       "    <tr>\n",
       "      <th>West</th>\n",
       "      <td>1.0</td>\n",
       "      <td>-0.759043</td>\n",
       "      <td>-0.102267</td>\n",
       "      <td>0.047047</td>\n",
       "      <td>-0.759043</td>\n",
       "      <td>1.0</td>\n",
       "      <td>-0.570002</td>\n",
       "      <td>-0.444363</td>\n",
       "      <td>-0.102267</td>\n",
       "      <td>-0.570002</td>\n",
       "      <td>1.0</td>\n",
       "      <td>0.619589</td>\n",
       "      <td>0.047047</td>\n",
       "      <td>-0.444363</td>\n",
       "      <td>0.619589</td>\n",
       "      <td>1.0</td>\n",
       "    </tr>\n",
       "  </tbody>\n",
       "</table>\n",
       "</div>"
      ],
      "text/plain": [
       "              Education_No_Highschool_pct                                 \\\n",
       "              Education_No_Highschool_pct Education_High_school_only_pct   \n",
       "Region                                                                     \n",
       "North Central                         1.0                      -0.237709   \n",
       "Northeast                             1.0                      -0.480357   \n",
       "South                                 1.0                       0.427692   \n",
       "West                                  1.0                      -0.759043   \n",
       "\n",
       "                                                   \\\n",
       "              Education_academics_pct LifeExp2018   \n",
       "Region                                              \n",
       "North Central               -0.285561   -0.777362   \n",
       "Northeast                   -0.028307    0.529128   \n",
       "South                       -0.703931   -0.513410   \n",
       "West                        -0.102267    0.047047   \n",
       "\n",
       "              Education_High_school_only_pct                                 \\\n",
       "                 Education_No_Highschool_pct Education_High_school_only_pct   \n",
       "Region                                                                        \n",
       "North Central                      -0.237709                            1.0   \n",
       "Northeast                          -0.480357                            1.0   \n",
       "South                               0.427692                            1.0   \n",
       "West                               -0.759043                            1.0   \n",
       "\n",
       "                                                      Education_academics_pct  \\\n",
       "              Education_academics_pct LifeExp2018 Education_No_Highschool_pct   \n",
       "Region                                                                          \n",
       "North Central               -0.863010   -0.271790                   -0.285561   \n",
       "Northeast                   -0.863124   -0.899784                   -0.028307   \n",
       "South                       -0.943095   -0.830866                   -0.703931   \n",
       "West                        -0.570002   -0.444363                   -0.102267   \n",
       "\n",
       "                                                                      \\\n",
       "              Education_High_school_only_pct Education_academics_pct   \n",
       "Region                                                                 \n",
       "North Central                      -0.863010                     1.0   \n",
       "Northeast                          -0.863124                     1.0   \n",
       "South                              -0.943095                     1.0   \n",
       "West                               -0.570002                     1.0   \n",
       "\n",
       "                                          LifeExp2018  \\\n",
       "              LifeExp2018 Education_No_Highschool_pct   \n",
       "Region                                                  \n",
       "North Central    0.672461                   -0.777362   \n",
       "Northeast        0.720827                    0.529128   \n",
       "South            0.841729                   -0.513410   \n",
       "West             0.619589                    0.047047   \n",
       "\n",
       "                                                                      \\\n",
       "              Education_High_school_only_pct Education_academics_pct   \n",
       "Region                                                                 \n",
       "North Central                      -0.271790                0.672461   \n",
       "Northeast                          -0.899784                0.720827   \n",
       "South                              -0.830866                0.841729   \n",
       "West                               -0.444363                0.619589   \n",
       "\n",
       "                           \n",
       "              LifeExp2018  \n",
       "Region                     \n",
       "North Central         1.0  \n",
       "Northeast             1.0  \n",
       "South                 1.0  \n",
       "West                  1.0  "
      ]
     },
     "execution_count": 178,
     "metadata": {},
     "output_type": "execute_result"
    }
   ],
   "source": [
    "df_all_enhanced.groupby('Region')[[\"Education_No_Highschool_pct\",\"Education_High_school_only_pct\",\"Education_academics_pct\",\"LifeExp2018\" ]]. \\\n",
    "corr().unstack()"
   ]
  },
  {
   "cell_type": "code",
   "execution_count": 120,
   "metadata": {},
   "outputs": [
    {
     "data": {
      "text/plain": [
       "<seaborn.axisgrid.FacetGrid at 0x19e4a799790>"
      ]
     },
     "execution_count": 120,
     "metadata": {},
     "output_type": "execute_result"
    },
    {
     "data": {
      "image/png": "[encoded data removed]",
      "text/plain": [
       "<Figure size 465.475x360 with 1 Axes>"
      ]
     },
     "metadata": {},
     "output_type": "display_data"
    }
   ],
   "source": [
    "### let's plot a scatterplot:\n",
    "sns.lmplot(data = df_all_enhanced, x=\"Education_No_Highschool_pct\", y=\"LifeExp2018\", hue=\"Region\")"
   ]
  },
  {
   "cell_type": "markdown",
   "metadata": {},
   "source": [
    "Comment: here we see that we have to analyze the impact of No Highschool percentages regionally differentiated.\n",
    "South and Northcentral show a high negative correlation, West: almost no impact ( !)    "
   ]
  },
  {
   "cell_type": "code",
   "execution_count": 122,
   "metadata": {},
   "outputs": [
    {
     "data": {
      "text/plain": [
       "<seaborn.axisgrid.FacetGrid at 0x19e4a7f67f0>"
      ]
     },
     "execution_count": 122,
     "metadata": {},
     "output_type": "execute_result"
    },
    {
     "data": {
      "image/png": "[encoded data removed]",
      "text/plain": [
       "<Figure size 465.475x360 with 1 Axes>"
      ]
     },
     "metadata": {},
     "output_type": "display_data"
    }
   ],
   "source": [
    "### what about the academics\n",
    "sns.lmplot(data = df_all_enhanced, x=\"Education_academics_pct\", y=\"LifeExp2018\", hue=\"Region\")"
   ]
  },
  {
   "cell_type": "markdown",
   "metadata": {},
   "source": [
    "stable trend: academics live longer ..."
   ]
  },
  {
   "cell_type": "markdown",
   "metadata": {},
   "source": [
    "Which Income variable correlates best with life expectancy in 2018 ??\n"
   ]
  },
  {
   "cell_type": "code",
   "execution_count": 128,
   "metadata": {},
   "outputs": [
    {
     "name": "stdout",
     "output_type": "stream",
     "text": [
      "                                0\n",
      "Income2017  Income2017   1.000000\n",
      "            LifeExp2018  0.745281\n",
      "LifeExp2018 Income2017   0.745281\n",
      "            LifeExp2018  1.000000\n",
      "                                0\n",
      "Income2016  Income2016   1.000000\n",
      "            LifeExp2018  0.732874\n",
      "LifeExp2018 Income2016   0.732874\n",
      "            LifeExp2018  1.000000\n",
      "                                0\n",
      "Income2015  Income2015   1.000000\n",
      "            LifeExp2018  0.722635\n",
      "LifeExp2018 Income2015   0.722635\n",
      "            LifeExp2018  1.000000\n",
      "                                0\n",
      "Income2014  Income2014   1.000000\n",
      "            LifeExp2018  0.707154\n",
      "LifeExp2018 Income2014   0.707154\n",
      "            LifeExp2018  1.000000\n",
      "                                0\n",
      "Income2013  Income2013   1.000000\n",
      "            LifeExp2018  0.705195\n",
      "LifeExp2018 Income2013   0.705195\n",
      "            LifeExp2018  1.000000\n",
      "                                0\n",
      "Income2012  Income2012   1.000000\n",
      "            LifeExp2018  0.719454\n",
      "LifeExp2018 Income2012   0.719454\n",
      "            LifeExp2018  1.000000\n",
      "                                0\n",
      "Income2011  Income2011   1.000000\n",
      "            LifeExp2018  0.680096\n",
      "LifeExp2018 Income2011   0.680096\n",
      "            LifeExp2018  1.000000\n",
      "                                0\n",
      "Income2010  Income2010   1.000000\n",
      "            LifeExp2018  0.708255\n",
      "LifeExp2018 Income2010   0.708255\n",
      "            LifeExp2018  1.000000\n",
      "                               0\n",
      "Income2009  Income2009   1.00000\n",
      "            LifeExp2018  0.72619\n",
      "LifeExp2018 Income2009   0.72619\n",
      "            LifeExp2018  1.00000\n",
      "                                0\n",
      "Income2008  Income2008   1.000000\n",
      "            LifeExp2018  0.722695\n",
      "LifeExp2018 Income2008   0.722695\n",
      "            LifeExp2018  1.000000\n",
      "                                0\n",
      "Income2007  Income2007   1.000000\n",
      "            LifeExp2018  0.731144\n",
      "LifeExp2018 Income2007   0.731144\n",
      "            LifeExp2018  1.000000\n"
     ]
    }
   ],
   "source": [
    "#df_all_enhanced.['Income2017', 'Income2016', 'Income2015',\n",
    "#       'Income2014', 'Income2013', 'Income2012', 'Income2011', 'Income2010',\n",
    "#       'Income2009', 'Income2008', 'Income2007',\"LifeExp2018\" ]].corr().unstack()\n",
    "\n",
    "for col in ['Income2017', 'Income2016', 'Income2015',\n",
    "       'Income2014', 'Income2013', 'Income2012', 'Income2011', 'Income2010',\n",
    "       'Income2009', 'Income2008', 'Income2007' ]:\n",
    "    print(pd.DataFrame(df_all_enhanced.loc[:,[col, \"LifeExp2018\" ]]. \\\n",
    "                       corr().unstack()))\n",
    "    \n",
    "     "
   ]
  },
  {
   "cell_type": "code",
   "execution_count": 148,
   "metadata": {},
   "outputs": [
    {
     "data": {
      "text/html": [
       "<div>\n",
       "<style scoped>\n",
       "    .dataframe tbody tr th:only-of-type {\n",
       "        vertical-align: middle;\n",
       "    }\n",
       "\n",
       "    .dataframe tbody tr th {\n",
       "        vertical-align: top;\n",
       "    }\n",
       "\n",
       "    .dataframe thead th {\n",
       "        text-align: right;\n",
       "    }\n",
       "</style>\n",
       "<table border=\"1\" class=\"dataframe\">\n",
       "  <thead>\n",
       "    <tr style=\"text-align: right;\">\n",
       "      <th></th>\n",
       "      <th>Income</th>\n",
       "      <th>Corr</th>\n",
       "    </tr>\n",
       "  </thead>\n",
       "  <tbody>\n",
       "    <tr>\n",
       "      <th>1</th>\n",
       "      <td>Income2017</td>\n",
       "      <td>0.745281</td>\n",
       "    </tr>\n",
       "    <tr>\n",
       "      <th>1</th>\n",
       "      <td>Income2016</td>\n",
       "      <td>0.732874</td>\n",
       "    </tr>\n",
       "    <tr>\n",
       "      <th>1</th>\n",
       "      <td>Income2015</td>\n",
       "      <td>0.722635</td>\n",
       "    </tr>\n",
       "    <tr>\n",
       "      <th>1</th>\n",
       "      <td>Income2014</td>\n",
       "      <td>0.707154</td>\n",
       "    </tr>\n",
       "    <tr>\n",
       "      <th>1</th>\n",
       "      <td>Income2013</td>\n",
       "      <td>0.705195</td>\n",
       "    </tr>\n",
       "    <tr>\n",
       "      <th>1</th>\n",
       "      <td>Income2012</td>\n",
       "      <td>0.719454</td>\n",
       "    </tr>\n",
       "    <tr>\n",
       "      <th>1</th>\n",
       "      <td>Income2011</td>\n",
       "      <td>0.680096</td>\n",
       "    </tr>\n",
       "    <tr>\n",
       "      <th>1</th>\n",
       "      <td>Income2010</td>\n",
       "      <td>0.708255</td>\n",
       "    </tr>\n",
       "    <tr>\n",
       "      <th>1</th>\n",
       "      <td>Income2009</td>\n",
       "      <td>0.726190</td>\n",
       "    </tr>\n",
       "    <tr>\n",
       "      <th>1</th>\n",
       "      <td>Income2008</td>\n",
       "      <td>0.722695</td>\n",
       "    </tr>\n",
       "    <tr>\n",
       "      <th>1</th>\n",
       "      <td>Income2007</td>\n",
       "      <td>0.731144</td>\n",
       "    </tr>\n",
       "  </tbody>\n",
       "</table>\n",
       "</div>"
      ],
      "text/plain": [
       "       Income      Corr\n",
       "1  Income2017  0.745281\n",
       "1  Income2016  0.732874\n",
       "1  Income2015  0.722635\n",
       "1  Income2014  0.707154\n",
       "1  Income2013  0.705195\n",
       "1  Income2012  0.719454\n",
       "1  Income2011  0.680096\n",
       "1  Income2010  0.708255\n",
       "1  Income2009  0.726190\n",
       "1  Income2008  0.722695\n",
       "1  Income2007  0.731144"
      ]
     },
     "execution_count": 148,
     "metadata": {},
     "output_type": "execute_result"
    }
   ],
   "source": [
    "income_lifexp_corr_dataframes=[]   \n",
    "for col in ['Income2017', 'Income2016', 'Income2015',\n",
    "   'Income2014', 'Income2013', 'Income2012', 'Income2011', 'Income2010',\n",
    "   'Income2009', 'Income2008', 'Income2007' ]:\n",
    "\n",
    "    income_lifexp_corr_dataframes.append(pd.DataFrame(df_all_enhanced.loc[:,[col, \"LifeExp2018\" ]]. \\\n",
    "                   corr().unstack()).reset_index())\n",
    "   \n",
    "income_lifexp_corr_df = pd.concat(income_lifexp_corr_dataframes)\n",
    "filter = income_lifexp_corr_df.level_0 != 'LifeExp2018'\n",
    "income_lifexp_corr_df = income_lifexp_corr_df.loc[ filter, : ]\n",
    "filter = income_lifexp_corr_df.level_1 == 'LifeExp2018'\n",
    "income_lifexp_corr_df = income_lifexp_corr_df.loc[ filter, : ]\n",
    "income_lifexp_corr_df = income_lifexp_corr_df.drop(\"level_1\", axis = 1)\n",
    "income_lifexp_corr_df.columns = [\"Income\", \"Corr\"]\n",
    "income_lifexp_corr_df"
   ]
  },
  {
   "cell_type": "code",
   "execution_count": 149,
   "metadata": {},
   "outputs": [
    {
     "data": {
      "text/plain": [
       "<matplotlib.axes._subplots.AxesSubplot at 0x19e490616d0>"
      ]
     },
     "execution_count": 149,
     "metadata": {},
     "output_type": "execute_result"
    },
    {
     "data": {
      "image/png": "[encoded data removed]",
      "text/plain": [
       "<Figure size 720x360 with 1 Axes>"
      ]
     },
     "metadata": {},
     "output_type": "display_data"
    }
   ],
   "source": [
    "sns.barplot(x=\"Income\", y=\"Corr\", data=income_lifexp_corr_df)"
   ]
  },
  {
   "cell_type": "markdown",
   "metadata": {},
   "source": [
    "Interesting. What about the standard deviation and mean?"
   ]
  },
  {
   "cell_type": "code",
   "execution_count": 150,
   "metadata": {},
   "outputs": [
    {
     "data": {
      "text/plain": [
       "0.017502753797854417"
      ]
     },
     "execution_count": 150,
     "metadata": {},
     "output_type": "execute_result"
    }
   ],
   "source": [
    "income_lifexp_corr_df.Corr.std()"
   ]
  },
  {
   "cell_type": "code",
   "execution_count": 152,
   "metadata": {},
   "outputs": [
    {
     "data": {
      "text/plain": [
       "0.7182702960252784"
      ]
     },
     "execution_count": 152,
     "metadata": {},
     "output_type": "execute_result"
    }
   ],
   "source": [
    "income_lifexp_corr_df.Corr.mean()"
   ]
  },
  {
   "cell_type": "markdown",
   "metadata": {},
   "source": [
    "Comment: really good centered distributions of the correlation coefficients.\n",
    "So the mean of incomes might be a good predictor for LifeExpectation."
   ]
  },
  {
   "cell_type": "code",
   "execution_count": 165,
   "metadata": {},
   "outputs": [
    {
     "data": {
      "text/plain": [
       "State\n",
       "Montana          46153.909091\n",
       "New_Hampshire    65365.272727\n",
       "Minnesota        59971.181818\n",
       "Wyoming          56243.090909\n",
       "Alaska           69695.909091\n",
       "Name: income_mean, dtype: float64"
      ]
     },
     "execution_count": 165,
     "metadata": {},
     "output_type": "execute_result"
    }
   ],
   "source": [
    "incomes = ['Income2017', 'Income2016', 'Income2015',\n",
    "       'Income2014', 'Income2013', 'Income2012', 'Income2011', 'Income2010',\n",
    "       'Income2009', 'Income2008', 'Income2007' ]\n",
    "#df_all_enhanced.loc[:,incomes].mean(axis = 0)\n",
    "df_all_enhanced.loc[:,\"income_mean\"] = df_all_enhanced.loc[:,incomes].mean(axis = 1)\n",
    "df_all_enhanced.income_mean.head()\n",
    "### ok\n"
   ]
  },
  {
   "cell_type": "code",
   "execution_count": 175,
   "metadata": {},
   "outputs": [
    {
     "data": {
      "text/html": [
       "<div>\n",
       "<style scoped>\n",
       "    .dataframe tbody tr th:only-of-type {\n",
       "        vertical-align: middle;\n",
       "    }\n",
       "\n",
       "    .dataframe tbody tr th {\n",
       "        vertical-align: top;\n",
       "    }\n",
       "\n",
       "    .dataframe thead th {\n",
       "        text-align: right;\n",
       "    }\n",
       "</style>\n",
       "<table border=\"1\" class=\"dataframe\">\n",
       "  <thead>\n",
       "    <tr style=\"text-align: right;\">\n",
       "      <th></th>\n",
       "      <th>income_mean</th>\n",
       "      <th>LifeExp2018</th>\n",
       "    </tr>\n",
       "  </thead>\n",
       "  <tbody>\n",
       "    <tr>\n",
       "      <th>income_mean</th>\n",
       "      <td>1.000000</td>\n",
       "      <td>0.727559</td>\n",
       "    </tr>\n",
       "    <tr>\n",
       "      <th>LifeExp2018</th>\n",
       "      <td>0.727559</td>\n",
       "      <td>1.000000</td>\n",
       "    </tr>\n",
       "  </tbody>\n",
       "</table>\n",
       "</div>"
      ],
      "text/plain": [
       "             income_mean  LifeExp2018\n",
       "income_mean     1.000000     0.727559\n",
       "LifeExp2018     0.727559     1.000000"
      ]
     },
     "execution_count": 175,
     "metadata": {},
     "output_type": "execute_result"
    }
   ],
   "source": [
    "### correlation between the new variable and Lifeexp\n",
    "df_all_enhanced[[\"income_mean\", \"LifeExp2018\"]].corr()"
   ]
  },
  {
   "cell_type": "code",
   "execution_count": 170,
   "metadata": {},
   "outputs": [
    {
     "data": {
      "text/plain": [
       "Index(['Education_No_Highschool_pct', 'Education_High_school_only_pct',\n",
       "       'Education_Bachelor_only_pct', 'Education_academics_pct',\n",
       "       'Education_postgraduate_pct', 'LifeExp2018', 'LifeExp2010',\n",
       "       'MaleLifeExp', 'FemLifeExp', 'Population_2015',\n",
       "       'Murders_manslaughter_2015', 'Murders_2015', 'Gun_Murders_2015',\n",
       "       'Gun_Ownership_2013', 'Murder_Manslaughter_Rate_per_100000_2015',\n",
       "       'Murder_Rate_per_100000_2015', 'Gun_Murder_Rate_per_100000_2015',\n",
       "       'TotalSqMi', 'TotalKmQ', 'LandSqMi', 'LandKmQ', 'LandPer', 'WaterSqMi',\n",
       "       'WaterKmQ', 'WaterPer', 'Abb', 'Region', 'Division',\n",
       "       'No_Highschool_pct_cat', 'Highschool_only_pct_cat', 'Academics_pct_cat',\n",
       "       'income_mean'],\n",
       "      dtype='object')"
      ]
     },
     "execution_count": 170,
     "metadata": {},
     "output_type": "execute_result"
    }
   ],
   "source": [
    "#now we can drop all income columns\n",
    "df_all_enhanced = df_all_enhanced.drop(incomes, axis = 1)\n",
    "df_all_enhanced.columns"
   ]
  },
  {
   "cell_type": "markdown",
   "metadata": {},
   "source": [
    "what about income per region ?"
   ]
  },
  {
   "cell_type": "code",
   "execution_count": 174,
   "metadata": {},
   "outputs": [
    {
     "data": {
      "text/plain": [
       "<matplotlib.axes._subplots.AxesSubplot at 0x19e4ba1d5e0>"
      ]
     },
     "execution_count": 174,
     "metadata": {},
     "output_type": "execute_result"
    },
    {
     "data": {
      "image/png": "[encoded data removed]",
      "text/plain": [
       "<Figure size 720x360 with 1 Axes>"
      ]
     },
     "metadata": {},
     "output_type": "display_data"
    }
   ],
   "source": [
    "temp = pd.DataFrame(df_all_enhanced.loc[:,[\"income_mean\", \"Region\" ]]. \\\n",
    "groupby(['Region']).mean()).sort_values(by='income_mean')\n",
    "temp = temp.reset_index()\n",
    "sns.barplot(x=\"Region\", y=\"income_mean\",data=temp)"
   ]
  },
  {
   "cell_type": "markdown",
   "metadata": {},
   "source": [
    "No surprise: Northeast in the lead, South last"
   ]
  },
  {
   "cell_type": "code",
   "execution_count": 177,
   "metadata": {},
   "outputs": [
    {
     "data": {
      "text/plain": [
       "<seaborn.axisgrid.FacetGrid at 0x19e4ba70460>"
      ]
     },
     "execution_count": 177,
     "metadata": {},
     "output_type": "execute_result"
    },
    {
     "data": {
      "image/png": "[encoded data removed]",
      "text/plain": [
       "<Figure size 465.475x360 with 1 Axes>"
      ]
     },
     "metadata": {},
     "output_type": "display_data"
    }
   ],
   "source": [
    "### what about correlation between income and LifeExp per Region:\n",
    "sns.lmplot(data = df_all_enhanced, x=\"income_mean\", y=\"LifeExp2018\", hue=\"Region\")"
   ]
  },
  {
   "cell_type": "code",
   "execution_count": 187,
   "metadata": {},
   "outputs": [
    {
     "data": {
      "text/html": [
       "<div>\n",
       "<style scoped>\n",
       "    .dataframe tbody tr th:only-of-type {\n",
       "        vertical-align: middle;\n",
       "    }\n",
       "\n",
       "    .dataframe tbody tr th {\n",
       "        vertical-align: top;\n",
       "    }\n",
       "\n",
       "    .dataframe thead th {\n",
       "        text-align: right;\n",
       "    }\n",
       "</style>\n",
       "<table border=\"1\" class=\"dataframe\">\n",
       "  <thead>\n",
       "    <tr style=\"text-align: right;\">\n",
       "      <th></th>\n",
       "      <th>Region</th>\n",
       "      <th>level_1</th>\n",
       "      <th>LifeExp2018</th>\n",
       "    </tr>\n",
       "  </thead>\n",
       "  <tbody>\n",
       "    <tr>\n",
       "      <th>0</th>\n",
       "      <td>North Central</td>\n",
       "      <td>income_mean</td>\n",
       "      <td>0.850202</td>\n",
       "    </tr>\n",
       "    <tr>\n",
       "      <th>2</th>\n",
       "      <td>Northeast</td>\n",
       "      <td>income_mean</td>\n",
       "      <td>0.628511</td>\n",
       "    </tr>\n",
       "    <tr>\n",
       "      <th>4</th>\n",
       "      <td>South</td>\n",
       "      <td>income_mean</td>\n",
       "      <td>0.750760</td>\n",
       "    </tr>\n",
       "    <tr>\n",
       "      <th>6</th>\n",
       "      <td>West</td>\n",
       "      <td>income_mean</td>\n",
       "      <td>0.588954</td>\n",
       "    </tr>\n",
       "  </tbody>\n",
       "</table>\n",
       "</div>"
      ],
      "text/plain": [
       "          Region      level_1  LifeExp2018\n",
       "0  North Central  income_mean     0.850202\n",
       "2      Northeast  income_mean     0.628511\n",
       "4          South  income_mean     0.750760\n",
       "6           West  income_mean     0.588954"
      ]
     },
     "execution_count": 187,
     "metadata": {},
     "output_type": "execute_result"
    }
   ],
   "source": [
    "temp = pd.DataFrame(df_all_enhanced.groupby('Region')[[\"income_mean\",\"LifeExp2018\", ]]. \\\n",
    "corr()).reset_index()\n",
    "temp\n",
    "filter = temp.level_1 != 'LifeExp2018'\n",
    "temp = temp.loc[ filter, : ]\n",
    "temp = temp.drop(\"income_mean\", axis = 1)\n",
    "#income_lifexp_corr_df.columns = [\"Income\", \"Corr\"]\n",
    "temp"
   ]
  },
  {
   "cell_type": "markdown",
   "metadata": {},
   "source": [
    "Conclusion: the mean income is for South and NorthEast a very discriminating factor.\n",
    "We finish with analyzing the relation between income and education."
   ]
  },
  {
   "cell_type": "code",
   "execution_count": 239,
   "metadata": {},
   "outputs": [
    {
     "data": {
      "text/html": [
       "<div>\n",
       "<style scoped>\n",
       "    .dataframe tbody tr th:only-of-type {\n",
       "        vertical-align: middle;\n",
       "    }\n",
       "\n",
       "    .dataframe tbody tr th {\n",
       "        vertical-align: top;\n",
       "    }\n",
       "\n",
       "    .dataframe thead th {\n",
       "        text-align: right;\n",
       "    }\n",
       "</style>\n",
       "<table border=\"1\" class=\"dataframe\">\n",
       "  <thead>\n",
       "    <tr style=\"text-align: right;\">\n",
       "      <th></th>\n",
       "      <th>Region</th>\n",
       "      <th>Education</th>\n",
       "      <th>income_mean</th>\n",
       "    </tr>\n",
       "  </thead>\n",
       "  <tbody>\n",
       "    <tr>\n",
       "      <th>1</th>\n",
       "      <td>North Central</td>\n",
       "      <td>Education_No_Highschool_pct</td>\n",
       "      <td>-0.470714</td>\n",
       "    </tr>\n",
       "    <tr>\n",
       "      <th>2</th>\n",
       "      <td>North Central</td>\n",
       "      <td>Education_High_school_only_pct</td>\n",
       "      <td>-0.599128</td>\n",
       "    </tr>\n",
       "    <tr>\n",
       "      <th>3</th>\n",
       "      <td>North Central</td>\n",
       "      <td>Education_Bachelor_only_pct</td>\n",
       "      <td>0.852029</td>\n",
       "    </tr>\n",
       "    <tr>\n",
       "      <th>4</th>\n",
       "      <td>North Central</td>\n",
       "      <td>Education_academics_pct</td>\n",
       "      <td>0.835940</td>\n",
       "    </tr>\n",
       "    <tr>\n",
       "      <th>6</th>\n",
       "      <td>Northeast</td>\n",
       "      <td>Education_No_Highschool_pct</td>\n",
       "      <td>0.060511</td>\n",
       "    </tr>\n",
       "    <tr>\n",
       "      <th>7</th>\n",
       "      <td>Northeast</td>\n",
       "      <td>Education_High_school_only_pct</td>\n",
       "      <td>-0.741072</td>\n",
       "    </tr>\n",
       "    <tr>\n",
       "      <th>8</th>\n",
       "      <td>Northeast</td>\n",
       "      <td>Education_Bachelor_only_pct</td>\n",
       "      <td>0.803549</td>\n",
       "    </tr>\n",
       "    <tr>\n",
       "      <th>9</th>\n",
       "      <td>Northeast</td>\n",
       "      <td>Education_academics_pct</td>\n",
       "      <td>0.809759</td>\n",
       "    </tr>\n",
       "    <tr>\n",
       "      <th>11</th>\n",
       "      <td>South</td>\n",
       "      <td>Education_No_Highschool_pct</td>\n",
       "      <td>-0.702111</td>\n",
       "    </tr>\n",
       "    <tr>\n",
       "      <th>12</th>\n",
       "      <td>South</td>\n",
       "      <td>Education_High_school_only_pct</td>\n",
       "      <td>-0.873061</td>\n",
       "    </tr>\n",
       "    <tr>\n",
       "      <th>13</th>\n",
       "      <td>South</td>\n",
       "      <td>Education_Bachelor_only_pct</td>\n",
       "      <td>0.828507</td>\n",
       "    </tr>\n",
       "    <tr>\n",
       "      <th>14</th>\n",
       "      <td>South</td>\n",
       "      <td>Education_academics_pct</td>\n",
       "      <td>0.944301</td>\n",
       "    </tr>\n",
       "    <tr>\n",
       "      <th>16</th>\n",
       "      <td>West</td>\n",
       "      <td>Education_No_Highschool_pct</td>\n",
       "      <td>-0.337953</td>\n",
       "    </tr>\n",
       "    <tr>\n",
       "      <th>17</th>\n",
       "      <td>West</td>\n",
       "      <td>Education_High_school_only_pct</td>\n",
       "      <td>0.017924</td>\n",
       "    </tr>\n",
       "    <tr>\n",
       "      <th>18</th>\n",
       "      <td>West</td>\n",
       "      <td>Education_Bachelor_only_pct</td>\n",
       "      <td>0.453908</td>\n",
       "    </tr>\n",
       "    <tr>\n",
       "      <th>19</th>\n",
       "      <td>West</td>\n",
       "      <td>Education_academics_pct</td>\n",
       "      <td>0.399125</td>\n",
       "    </tr>\n",
       "  </tbody>\n",
       "</table>\n",
       "</div>"
      ],
      "text/plain": [
       "           Region                       Education  income_mean\n",
       "1   North Central     Education_No_Highschool_pct    -0.470714\n",
       "2   North Central  Education_High_school_only_pct    -0.599128\n",
       "3   North Central     Education_Bachelor_only_pct     0.852029\n",
       "4   North Central         Education_academics_pct     0.835940\n",
       "6       Northeast     Education_No_Highschool_pct     0.060511\n",
       "7       Northeast  Education_High_school_only_pct    -0.741072\n",
       "8       Northeast     Education_Bachelor_only_pct     0.803549\n",
       "9       Northeast         Education_academics_pct     0.809759\n",
       "11          South     Education_No_Highschool_pct    -0.702111\n",
       "12          South  Education_High_school_only_pct    -0.873061\n",
       "13          South     Education_Bachelor_only_pct     0.828507\n",
       "14          South         Education_academics_pct     0.944301\n",
       "16           West     Education_No_Highschool_pct    -0.337953\n",
       "17           West  Education_High_school_only_pct     0.017924\n",
       "18           West     Education_Bachelor_only_pct     0.453908\n",
       "19           West         Education_academics_pct     0.399125"
      ]
     },
     "execution_count": 239,
     "metadata": {},
     "output_type": "execute_result"
    }
   ],
   "source": [
    "#df_all_enhanced.columns\n",
    "temp = pd.DataFrame(df_all_enhanced.groupby('Region')[[\"income_mean\",\"Education_No_Highschool_pct\", \"Education_High_school_only_pct\",\n",
    "       \"Education_Bachelor_only_pct\", \"Education_academics_pct\", ]]. \\\n",
    "corr())\n",
    "#filter = temp.level_1 != \"income_mean\"\n",
    "#temp = temp[filter]\n",
    "#temp = temp[:,[\"Region\", \"level_1\" ,\"income_mean\"]]\n",
    "#temp.columns = [[\"Region\", \"Education\" ,\"income_mean\"]]\n",
    "#temp\n",
    "temp = temp.reset_index()\n",
    "filter = temp.level_1 != \"income_mean\"\n",
    "temp = temp.loc[filter,:]\n",
    "temp = temp.loc[:,[\"Region\", \"level_1\" ,\"income_mean\"]]\n",
    "temp.columns = [\"Region\", \"Education\" ,\"income_mean\"]\n",
    "temp"
   ]
  },
  {
   "cell_type": "code",
   "execution_count": 241,
   "metadata": {},
   "outputs": [
    {
     "data": {
      "text/html": [
       "<div>\n",
       "<style scoped>\n",
       "    .dataframe tbody tr th:only-of-type {\n",
       "        vertical-align: middle;\n",
       "    }\n",
       "\n",
       "    .dataframe tbody tr th {\n",
       "        vertical-align: top;\n",
       "    }\n",
       "\n",
       "    .dataframe thead th {\n",
       "        text-align: right;\n",
       "    }\n",
       "</style>\n",
       "<table border=\"1\" class=\"dataframe\">\n",
       "  <thead>\n",
       "    <tr style=\"text-align: right;\">\n",
       "      <th>Education</th>\n",
       "      <th>Education_Bachelor_only_pct</th>\n",
       "      <th>Education_High_school_only_pct</th>\n",
       "      <th>Education_No_Highschool_pct</th>\n",
       "      <th>Education_academics_pct</th>\n",
       "    </tr>\n",
       "    <tr>\n",
       "      <th>Region</th>\n",
       "      <th></th>\n",
       "      <th></th>\n",
       "      <th></th>\n",
       "      <th></th>\n",
       "    </tr>\n",
       "  </thead>\n",
       "  <tbody>\n",
       "    <tr>\n",
       "      <th>North Central</th>\n",
       "      <td>0.852029</td>\n",
       "      <td>-0.599128</td>\n",
       "      <td>-0.470714</td>\n",
       "      <td>0.835940</td>\n",
       "    </tr>\n",
       "    <tr>\n",
       "      <th>Northeast</th>\n",
       "      <td>0.803549</td>\n",
       "      <td>-0.741072</td>\n",
       "      <td>0.060511</td>\n",
       "      <td>0.809759</td>\n",
       "    </tr>\n",
       "    <tr>\n",
       "      <th>South</th>\n",
       "      <td>0.828507</td>\n",
       "      <td>-0.873061</td>\n",
       "      <td>-0.702111</td>\n",
       "      <td>0.944301</td>\n",
       "    </tr>\n",
       "    <tr>\n",
       "      <th>West</th>\n",
       "      <td>0.453908</td>\n",
       "      <td>0.017924</td>\n",
       "      <td>-0.337953</td>\n",
       "      <td>0.399125</td>\n",
       "    </tr>\n",
       "  </tbody>\n",
       "</table>\n",
       "</div>"
      ],
      "text/plain": [
       "Education      Education_Bachelor_only_pct  Education_High_school_only_pct  \\\n",
       "Region                                                                       \n",
       "North Central                     0.852029                       -0.599128   \n",
       "Northeast                         0.803549                       -0.741072   \n",
       "South                             0.828507                       -0.873061   \n",
       "West                              0.453908                        0.017924   \n",
       "\n",
       "Education      Education_No_Highschool_pct  Education_academics_pct  \n",
       "Region                                                               \n",
       "North Central                    -0.470714                 0.835940  \n",
       "Northeast                         0.060511                 0.809759  \n",
       "South                            -0.702111                 0.944301  \n",
       "West                             -0.337953                 0.399125  "
      ]
     },
     "execution_count": 241,
     "metadata": {},
     "output_type": "execute_result"
    }
   ],
   "source": [
    "temp_pivot = temp.pivot(index='Region', columns='Education', values='income_mean')\n",
    "temp_pivot\n"
   ]
  },
  {
   "cell_type": "markdown",
   "metadata": {},
   "source": [
    "Comment: Looking at the academic education levels, we see a strong correlation between level and income as expected. Only West shows a diversion. So even here region is an important factor. \n",
    "For the No_Highschool level, we have no clear picture. It will still have to be investigated, whether we need Education and income for our upcoming regression analysis."
   ]
  },
  {
   "cell_type": "code",
   "execution_count": 242,
   "metadata": {},
   "outputs": [
    {
     "data": {
      "text/plain": [
       "<seaborn.axisgrid.FacetGrid at 0x19e4bbf17c0>"
      ]
     },
     "execution_count": 242,
     "metadata": {},
     "output_type": "execute_result"
    },
    {
     "data": {
      "image/png": "[encoded data removed]",
      "text/plain": [
       "<Figure size 465.475x360 with 1 Axes>"
      ]
     },
     "metadata": {},
     "output_type": "display_data"
    },
    {
     "data": {
      "image/png": "[encoded data removed]",
      "text/plain": [
       "<Figure size 465.475x360 with 1 Axes>"
      ]
     },
     "metadata": {},
     "output_type": "display_data"
    },
    {
     "data": {
      "image/png": "[encoded data removed]",
      "text/plain": [
       "<Figure size 465.475x360 with 1 Axes>"
      ]
     },
     "metadata": {},
     "output_type": "display_data"
    },
    {
     "data": {
      "image/png": "[encoded data removed]",
      "text/plain": [
       "<Figure size 465.475x360 with 1 Axes>"
      ]
     },
     "metadata": {},
     "output_type": "display_data"
    }
   ],
   "source": [
    "sns.lmplot(data = df_all_enhanced, x=\"Education_No_Highschool_pct\", y=\"income_mean\", hue=\"Region\")\n",
    "sns.lmplot(data = df_all_enhanced, x=\"Education_High_school_only_pct\", y=\"income_mean\", hue=\"Region\")\n",
    "sns.lmplot(data = df_all_enhanced, x=\"Education_Bachelor_only_pct\", y=\"income_mean\", hue=\"Region\")\n",
    "sns.lmplot(data = df_all_enhanced, x=\"Education_academics_pct\", y=\"income_mean\", hue=\"Region\")"
   ]
  },
  {
   "cell_type": "code",
   "execution_count": 244,
   "metadata": {},
   "outputs": [
    {
     "data": {
      "text/plain": [
       "<seaborn.axisgrid.FacetGrid at 0x19e4bdca6d0>"
      ]
     },
     "execution_count": 244,
     "metadata": {},
     "output_type": "execute_result"
    },
    {
     "data": {
      "image/png": "[encoded data removed]",
      "text/plain": [
       "<Figure size 494.925x360 with 1 Axes>"
      ]
     },
     "metadata": {},
     "output_type": "display_data"
    },
    {
     "data": {
      "image/png": "[encoded data removed]",
      "text/plain": [
       "<Figure size 472.675x360 with 1 Axes>"
      ]
     },
     "metadata": {},
     "output_type": "display_data"
    }
   ],
   "source": [
    "sns.lmplot(data = df_all_enhanced, x=\"income_mean\", y=\"LifeExp2018\", hue=\"No_Highschool_pct_cat\")\n",
    "sns.lmplot(data = df_all_enhanced, x=\"income_mean\", y=\"LifeExp2018\", hue=\"Academics_pct_cat\")"
   ]
  }
 ],
 "metadata": {
  "kernelspec": {
   "display_name": "Python 3",
   "language": "python",
   "name": "python3"
  },
  "language_info": {
   "codemirror_mode": {
    "name": "ipython",
    "version": 3
   },
   "file_extension": ".py",
   "mimetype": "text/x-python",
   "name": "python",
   "nbconvert_exporter": "python",
   "pygments_lexer": "ipython3",
   "version": "3.8.3"
  }
 },
 "nbformat": 4,
 "nbformat_minor": 4
}
